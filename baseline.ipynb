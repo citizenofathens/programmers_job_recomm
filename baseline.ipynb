{
 "cells": [
  {
   "cell_type": "code",
   "execution_count": 13,
   "metadata": {
    "collapsed": true,
    "pycharm": {
     "name": "#%%\n"
    }
   },
   "outputs": [],
   "source": [
    "import pandas as pd\n",
    "# cv , baseline, feature"
   ]
  },
  {
   "cell_type": "code",
   "execution_count": 14,
   "outputs": [],
   "source": [
    "train = pd.read_csv('./train_job/train.csv')"
   ],
   "metadata": {
    "collapsed": false,
    "pycharm": {
     "name": "#%%\n"
    }
   }
  },
  {
   "cell_type": "code",
   "execution_count": 15,
   "outputs": [],
   "source": [
    "test = pd.read_csv('./test_job.csv')"
   ],
   "metadata": {
    "collapsed": false,
    "pycharm": {
     "name": "#%%\n"
    }
   }
  },
  {
   "cell_type": "code",
   "execution_count": 16,
   "outputs": [],
   "source": [
    "sample_output_job=  pd.read_csv('./sample_output_job.csv')"
   ],
   "metadata": {
    "collapsed": false,
    "pycharm": {
     "name": "#%%\n"
    }
   }
  },
  {
   "cell_type": "code",
   "execution_count": 17,
   "outputs": [],
   "source": [
    "job_tag = pd.read_csv('./train_job/job_tags.csv')"
   ],
   "metadata": {
    "collapsed": false,
    "pycharm": {
     "name": "#%%\n"
    }
   }
  },
  {
   "cell_type": "code",
   "execution_count": 18,
   "outputs": [],
   "source": [
    "job_companies = pd.read_csv('./train_job/job_companies.csv')"
   ],
   "metadata": {
    "collapsed": false,
    "pycharm": {
     "name": "#%%\n"
    }
   }
  },
  {
   "cell_type": "code",
   "execution_count": 19,
   "outputs": [],
   "source": [
    "tags = pd.read_csv('./train_job/tags.csv')"
   ],
   "metadata": {
    "collapsed": false,
    "pycharm": {
     "name": "#%%\n"
    }
   }
  },
  {
   "cell_type": "code",
   "execution_count": 20,
   "outputs": [],
   "source": [
    "user_tags = pd.read_csv('./train_job/user_tags.csv')"
   ],
   "metadata": {
    "collapsed": false,
    "pycharm": {
     "name": "#%%\n"
    }
   }
  },
  {
   "cell_type": "code",
   "execution_count": 20,
   "outputs": [],
   "source": [],
   "metadata": {
    "collapsed": false,
    "pycharm": {
     "name": "#%%\n"
    }
   }
  },
  {
   "cell_type": "code",
   "execution_count": 21,
   "outputs": [
    {
     "data": {
      "text/plain": "                                tagID                   keyword\n0    602d1305678a8d5fdb372271e980da6a  Amazon Web Services(AWS)\n1    e3251075554389fe91d17a794861d47b                Tensorflow\n2    a1d50185e7426cbb0acad1e6ca74b9aa                    Docker\n3    884d79963bd8bc0ae9b13a1aa71add73                       Git\n4    4122cb13c7a474c1976c9706ae36521d                    Python\n..                                ...                       ...\n882  818f4654ed39a1c147d1e51a00ffb4cb                        활용\n883  7cce53cf90577442771720a370c3c723                    mybais\n884  c2aee86157b4a40b78132f1e71a9e6f1                         *\n885  1fb2a1c37b18aa4611c3949d6148d0f8             Autodesk Maya\n886  5fa9e41bfec0725742cc9d15ef594120                Apache Pig\n\n[887 rows x 2 columns]",
      "text/html": "<div>\n<style scoped>\n    .dataframe tbody tr th:only-of-type {\n        vertical-align: middle;\n    }\n\n    .dataframe tbody tr th {\n        vertical-align: top;\n    }\n\n    .dataframe thead th {\n        text-align: right;\n    }\n</style>\n<table border=\"1\" class=\"dataframe\">\n  <thead>\n    <tr style=\"text-align: right;\">\n      <th></th>\n      <th>tagID</th>\n      <th>keyword</th>\n    </tr>\n  </thead>\n  <tbody>\n    <tr>\n      <th>0</th>\n      <td>602d1305678a8d5fdb372271e980da6a</td>\n      <td>Amazon Web Services(AWS)</td>\n    </tr>\n    <tr>\n      <th>1</th>\n      <td>e3251075554389fe91d17a794861d47b</td>\n      <td>Tensorflow</td>\n    </tr>\n    <tr>\n      <th>2</th>\n      <td>a1d50185e7426cbb0acad1e6ca74b9aa</td>\n      <td>Docker</td>\n    </tr>\n    <tr>\n      <th>3</th>\n      <td>884d79963bd8bc0ae9b13a1aa71add73</td>\n      <td>Git</td>\n    </tr>\n    <tr>\n      <th>4</th>\n      <td>4122cb13c7a474c1976c9706ae36521d</td>\n      <td>Python</td>\n    </tr>\n    <tr>\n      <th>...</th>\n      <td>...</td>\n      <td>...</td>\n    </tr>\n    <tr>\n      <th>882</th>\n      <td>818f4654ed39a1c147d1e51a00ffb4cb</td>\n      <td>활용</td>\n    </tr>\n    <tr>\n      <th>883</th>\n      <td>7cce53cf90577442771720a370c3c723</td>\n      <td>mybais</td>\n    </tr>\n    <tr>\n      <th>884</th>\n      <td>c2aee86157b4a40b78132f1e71a9e6f1</td>\n      <td>*</td>\n    </tr>\n    <tr>\n      <th>885</th>\n      <td>1fb2a1c37b18aa4611c3949d6148d0f8</td>\n      <td>Autodesk Maya</td>\n    </tr>\n    <tr>\n      <th>886</th>\n      <td>5fa9e41bfec0725742cc9d15ef594120</td>\n      <td>Apache Pig</td>\n    </tr>\n  </tbody>\n</table>\n<p>887 rows × 2 columns</p>\n</div>"
     },
     "execution_count": 21,
     "metadata": {},
     "output_type": "execute_result"
    }
   ],
   "source": [
    "tags"
   ],
   "metadata": {
    "collapsed": false,
    "pycharm": {
     "name": "#%%\n"
    }
   }
  },
  {
   "cell_type": "code",
   "execution_count": 22,
   "outputs": [
    {
     "data": {
      "text/plain": "                                 jobID                             tagID  \\\n0     320722549d1751cf3f247855f937b982  d38901788c533e8286cb6400b40b386d   \n1     e744f91c29ec99f0e662c9177946c627  3948ead63a9f2944218de038d8934305   \n2     e744f91c29ec99f0e662c9177946c627  0e095e054ee94774d6a496099eb1cf6a   \n3     e820a45f1dfc7b95282d10b6087e11c0  7d771e0e8f3633ab54856925ecdefc5d   \n4     e820a45f1dfc7b95282d10b6087e11c0  6c8dba7d0df1c4a79dd07646be9a26c8   \n...                                ...                               ...   \n3472  b4a528955b84f584974e92d025a75d1f  bb04af0f7ecaee4aae62035497da1387   \n3473  6c8dba7d0df1c4a79dd07646be9a26c8  3bf55bbad370a8fcad1d09b005e278c2   \n3474  6c8dba7d0df1c4a79dd07646be9a26c8  0e9fa1f3e9e66792401a6972d477dcc3   \n3475  6c8dba7d0df1c4a79dd07646be9a26c8  0c048b3a434e49e655c1247efb389cec   \n3476  9f36407ead0629fc166f14dde7970f68  c4851e8e264415c4094e4e85b0baa7cc   \n\n         keyword  \n0           Ruby  \n1        Node.js  \n2     JavaScript  \n3           HTML  \n4         Vue.js  \n...          ...  \n3472         C++  \n3473       Swift  \n3474       Realm  \n3475    Firebase  \n3476         PHP  \n\n[3477 rows x 3 columns]",
      "text/html": "<div>\n<style scoped>\n    .dataframe tbody tr th:only-of-type {\n        vertical-align: middle;\n    }\n\n    .dataframe tbody tr th {\n        vertical-align: top;\n    }\n\n    .dataframe thead th {\n        text-align: right;\n    }\n</style>\n<table border=\"1\" class=\"dataframe\">\n  <thead>\n    <tr style=\"text-align: right;\">\n      <th></th>\n      <th>jobID</th>\n      <th>tagID</th>\n      <th>keyword</th>\n    </tr>\n  </thead>\n  <tbody>\n    <tr>\n      <th>0</th>\n      <td>320722549d1751cf3f247855f937b982</td>\n      <td>d38901788c533e8286cb6400b40b386d</td>\n      <td>Ruby</td>\n    </tr>\n    <tr>\n      <th>1</th>\n      <td>e744f91c29ec99f0e662c9177946c627</td>\n      <td>3948ead63a9f2944218de038d8934305</td>\n      <td>Node.js</td>\n    </tr>\n    <tr>\n      <th>2</th>\n      <td>e744f91c29ec99f0e662c9177946c627</td>\n      <td>0e095e054ee94774d6a496099eb1cf6a</td>\n      <td>JavaScript</td>\n    </tr>\n    <tr>\n      <th>3</th>\n      <td>e820a45f1dfc7b95282d10b6087e11c0</td>\n      <td>7d771e0e8f3633ab54856925ecdefc5d</td>\n      <td>HTML</td>\n    </tr>\n    <tr>\n      <th>4</th>\n      <td>e820a45f1dfc7b95282d10b6087e11c0</td>\n      <td>6c8dba7d0df1c4a79dd07646be9a26c8</td>\n      <td>Vue.js</td>\n    </tr>\n    <tr>\n      <th>...</th>\n      <td>...</td>\n      <td>...</td>\n      <td>...</td>\n    </tr>\n    <tr>\n      <th>3472</th>\n      <td>b4a528955b84f584974e92d025a75d1f</td>\n      <td>bb04af0f7ecaee4aae62035497da1387</td>\n      <td>C++</td>\n    </tr>\n    <tr>\n      <th>3473</th>\n      <td>6c8dba7d0df1c4a79dd07646be9a26c8</td>\n      <td>3bf55bbad370a8fcad1d09b005e278c2</td>\n      <td>Swift</td>\n    </tr>\n    <tr>\n      <th>3474</th>\n      <td>6c8dba7d0df1c4a79dd07646be9a26c8</td>\n      <td>0e9fa1f3e9e66792401a6972d477dcc3</td>\n      <td>Realm</td>\n    </tr>\n    <tr>\n      <th>3475</th>\n      <td>6c8dba7d0df1c4a79dd07646be9a26c8</td>\n      <td>0c048b3a434e49e655c1247efb389cec</td>\n      <td>Firebase</td>\n    </tr>\n    <tr>\n      <th>3476</th>\n      <td>9f36407ead0629fc166f14dde7970f68</td>\n      <td>c4851e8e264415c4094e4e85b0baa7cc</td>\n      <td>PHP</td>\n    </tr>\n  </tbody>\n</table>\n<p>3477 rows × 3 columns</p>\n</div>"
     },
     "execution_count": 22,
     "metadata": {},
     "output_type": "execute_result"
    }
   ],
   "source": [
    "job_tag.merge(tags, on='tagID', how='left')"
   ],
   "metadata": {
    "collapsed": false,
    "pycharm": {
     "name": "#%%\n"
    }
   }
  },
  {
   "cell_type": "code",
   "execution_count": 23,
   "outputs": [
    {
     "data": {
      "text/plain": "array([], shape=(0, 1782), dtype=float64)"
     },
     "execution_count": 23,
     "metadata": {},
     "output_type": "execute_result"
    }
   ],
   "source": [
    "import numpy as np\n",
    "np.empty(shape=(0,1782))\n"
   ],
   "metadata": {
    "collapsed": false,
    "pycharm": {
     "name": "#%%\n"
    }
   }
  },
  {
   "cell_type": "code",
   "execution_count": 24,
   "outputs": [
    {
     "data": {
      "text/plain": "array(['fe292163d06253b716e9a0099b42031d',\n       '6377fa90618fae77571e8dc90d98d409',\n       '8ec0888a5b04139be0dfe942c7eb4199',\n       'f862b39f767d3a1991bdeb2ea1401c9c',\n       'cac14930c65d72c16efac2c51a6b7f71',\n       'ed1ca6971578b1da0e4ad55b48d77fda',\n       '8109c2c482264f96f8ac69a9a99db308',\n       '14ccd7a3d2daa57d06f4741f0168bb1d',\n       '2afacaaf807c1843c41896ae794835d9',\n       'd7b2c4284fda91263ab9b89254cd7c43',\n       '8ec72a61b2adad097a1c3aa06751e8c4',\n       '6da6479250104018131de61655f1f385',\n       '4952d2ac78b534c78d7a21c60a236e4c',\n       '838c13b8aa97e2d988ef4495460f2e0e',\n       '2f05776d37d873642af484255572600d',\n       '40369b31ac85b623b72c3d50151ff55c',\n       'd41e0e6f6f1e29098d9d152511503ab2',\n       '879b56cccf6b57314ad724c65cf270e9',\n       'b3c865b84617fa5e555865ebe0e54612',\n       'b052e2e0c0ad1b2d5036bd56e27d061c',\n       'a35af76a1c0bb174a3cfc66592804848',\n       'c70daf247944fe3add32218f914c75a6',\n       'cb08b2c94dbb772324444bb4ed7cc1a4',\n       'e75d4d01cecdda3c64483016bd6af4c1',\n       'cea22b0ec5545a7c12879c89b0c252d0',\n       '0e010fbd16cca07dc2c06d8745c0709a',\n       '2eeb9064f7f5b2569912cbb772a96438',\n       '688da39dcb1131d0d91b348653850d08',\n       'ed95fbfb85741296a47ccfb141692f97',\n       '77330e1330ae2b086e5bfcae50d9ffae',\n       '73b369de2d89843c6010939e56f6fb28',\n       '06bf5de6b1d9fed5dacca7180e5938f1',\n       '1d0d19d2d7d31ccf3747614aec7273c8',\n       '4611b8ff403bea67637c3f1911940668',\n       '994b330a8b0579bcbe47a7adbd470531',\n       '0cc8f7bf8a8d56980414a6e4bc69cdc6',\n       'f0860e86a075967417cd511aa80f0e4d',\n       'f2bbbacea59d2e5555d7054411f4093e',\n       'c07e670b7bc8ebfdd99f4091ff2410ff',\n       'c39e997b89723426aaaf18a3d883ad26',\n       '282bb8a7afdb969e5ac8e1848f741d9a',\n       '11bbe38e1cd8d806c2f4f372c7975642',\n       '87c0a904d6f959e5ecbd0bdaa29d8be9',\n       '68cb94b97d00979f4e8127915885b641',\n       'd2fcd16484b4dc546a2495c261c433db',\n       '7b8fd452c655f9d2050f9e9a94be4e6f',\n       'b94a3f555cc529e2ef5d5277651a33c1',\n       'd805b6758ed06f65b516d0d960ad39d2',\n       'ebaee1af0c501f22ddfe242fc16dae53',\n       'c8e91654bec86337e3228e8b57c25024',\n       'a3371575663f7b9dd7629822611470bf',\n       '15d84e9a5eceb67bcb8fb0e8c839a903',\n       '78492ae8ee0c7aeab730674170296142',\n       '01ed443356f762e9132b58f8c80e131d',\n       '6ff9a855e440fa3a54807a91fdf82da4',\n       '792bb50d101782d726d38be8f81f145b',\n       '492d101481e6b9c9f6183791f09dbe92',\n       '42106d72a1fdb186303e13a372b36bbf',\n       '79fc3070bcfc1f4125855692285a3a69',\n       '3e15cc11f979ed25912dff5b0669f2cd',\n       'fdfa9a38cf3d8d850a6fd47b438bfe43',\n       'f32196295a6f0c13d5bedc880d3d66a2',\n       '1f1baa5b8edac74eb4eaa329f14a0361',\n       '7c33ebcd1cd8a46827f716879fb51a31',\n       '788ecdd13f033f8131eecd90ee59993e',\n       '6bd22a86b1f7a3a11de928d301f86d67',\n       '40bff17104e9ee73048daa7f190c31c9',\n       'd083e4e5172a4b14ae887b3eee370664',\n       '8beafd6a61d588adce08b0b0769d24d3',\n       '67adefb430df142b099bed89bd491524',\n       '38a53a52f4de3322241231253815e10a',\n       'e576423831e043f7928d9ac113abbe6f',\n       '2b6bfd10f2852cde94b0da653771913d',\n       '849c1698afcec69d2ccf6ca24203c838',\n       '00dd1479a58930a357e7b4e2ab4c9f33',\n       'a2896cb11aed969ffec7bb02a7c772a8',\n       '09a34e37731b0acc055557e833a78eff',\n       'c0b199d73bdf390c2f4c3150b6ee1574',\n       '49f06abdf8d2b198c9440a06fa9cee95',\n       'ac985a9db5faeb44c94a334430ccc241',\n       '42c2cc0b74b0f4a3a7e52d1ff617e05e',\n       '30cdb2e56c129eba645faf6c16c52a86',\n       '82f7a753a1ad3781e51fa0aa8862998c',\n       'a2137a2ae8e39b5002a3f8909ecb88fe',\n       '5b34f52c8cfb9f3fa83613822ba0118c',\n       '68828f3a05c0c973c6906b7caa48b12c',\n       '3532ee676d13916210e903ff4d85c04f',\n       '078dd365ebc98784af7f8df76a98f53a',\n       'b26acad43640ebe8b52f045c84ba2660',\n       'be995681439ef1e81206d2476963fffd',\n       '6bc5d37951120d6d49672ce647c4e563',\n       'b292c42b08d209a8baa530adc393671d',\n       '13ad871d10a46f6e262e67f70cf55140',\n       '0c3b7a46ba662029936002edd5613a45',\n       '68a61f9415f07a4040f7afe82a058608',\n       '3203e06c1efc6fdb23016650d1d1888c',\n       '8dd2a380b9f1c342a2d9319c345de676',\n       'ac9276d79d4473b8075df15ea199f8f4',\n       '8c19f571e251e61cb8dd3612f26d5ecf',\n       '0004289ee1c7b8b08c77e19878106ae3',\n       '03c60b7fc8519077914166ebcfbd6a34',\n       '5585082ed1ea25eaf73052029f2161ce',\n       'a3545bd79d31f9a72d3a78690adf73fc',\n       '53df950db87aecf09d328092faf4e03f',\n       '6a901742172397a9e4c31a159a982708',\n       '3edc356b112be4cda9472f2e37549e7d',\n       '74559ea27870b992ed5352a9d988e382',\n       '391e6809e1c9c36987ad52397b51b8fd',\n       'ab070da1f13ea7588758ec36a13b23ae',\n       '3eb2e5c90ddc9c4127a0cb655a8349e6',\n       'ce3c9c905135bab43c25500d3435a7a7',\n       'fd1b4044581c63b9cb16d91958302072',\n       'f98e712b83a95b07ef771150ecee9cd4',\n       '34d4d47d122a2b1867babde81d02c85b',\n       '946aa0c612952da8d67dd338a43d5929',\n       '83ba50615f9b64e7df883623cb79b582',\n       '8f2fc823e0325a4250bcd62a28e83753',\n       'd89f3a35931c386956c1a402a8e09941',\n       'bf1752a1ae4e621b22d3ab7ae4ce0235',\n       'b5c0275ce9836aa2f2afaafbdd1a061b',\n       '42edd1ec1dc5f5c1f11fd74a959e96c9',\n       '3f616e2b4d8527b9ce80f20268fd82c0',\n       'eeedf6d4d717eba333e1b53f1b5375c8',\n       'fa2a28ade168508972790316e314d47e',\n       'a56612c9db38de8f62f993bc28da82e6',\n       '76d7c120cc635913a4911b28540ebbfe',\n       'ce840aa9583592e71f3db26ee6e41703',\n       'e57c6b956a6521b28495f2886ca0977a',\n       '2b3c53530d9f5948021ce2d30ca78def',\n       'dee0507557ce73c60b2b1532b6f43e6f',\n       '6b08cb11fb528ea9a29c488857b93c36',\n       '3fb6224c45e07abd01a213f707d2219b',\n       '5bfbe18286921673dbb4c9fa80f0734b',\n       '951923a83597e7db3def99b660cf0fa3',\n       '94123510dc3222535366c91a35c0dc7e',\n       '4802630177809fcf861411501a443abb',\n       '4000682c286cfbb572c7f68e7c9a64c9',\n       'bd652bf1e9b66171ef77f1e0db2e9c1e',\n       '9782bb9642ce588f013e164b12f1208b',\n       '7c84a51e457e21ef8c84327bcf0b37b9',\n       '84afe92172229288d8503f0bfc0d1fc6',\n       '859b755563f548d008f936906a959c8f',\n       '37b96469b46dfd9919cd984b788ceb17',\n       '75b4af0dacbc119eadf4eeb096738405',\n       '2a7c21baa80549e20ad9c514c0218f74',\n       '76eeed280f64fd4a67c3f0fd6b9f0ada',\n       'e3979074cac4d9393ebbd4c2a534a851',\n       'd56b7e3ab2e7e5e779c5127f56de5c00',\n       'f69054686ba46877b6397ccdb8f51762',\n       '96c5c28becf18e71190460a9955aa4d8',\n       'e632db173ce3bba53601a87465b0d690',\n       '9fb0c75eb315997d6545fa0515d315ae',\n       'ac0ce320ded8906d8972799677b33c9a',\n       '8739591782d8bbbf884adee69923113d',\n       'ec694462fa475389dc49c9fe579b261c',\n       '6df0ee5c598338f088fcc8059ddb2e32',\n       'c1bac1d55ebcc415d61552acbfbb219d',\n       '883b4172416f7b84234d3aeda4199f8f',\n       '277d63d5ef81b08f2e59a74e82d53334',\n       '3e54f798bd3fa43c5e34dd26ffd95e2c',\n       '6eb6e75fddec0218351dc5c0c8464104',\n       '824a2cd35893783f83f1b93ec26965c3',\n       '08a11ecb78affb9e1ea1045e58172ac4',\n       '3ab88dd28f749fe4ec90c0b6f9896eb5',\n       '46ee5b0bf6c6c26a155a09dee995d97d',\n       '11bd610a99ecb39c4be8335c6656ac19',\n       '33349e909eba71677299d2fc97e158b7',\n       'a23852e7968e7b4e12a8d989f2dc5ac2',\n       'b058993d8aba0b5a9e66a6666495c485',\n       '847a7251b574c85da9c2248125c2df93',\n       'b7aa44c20c759037e6c30eb514c26f1a',\n       '9ab05403ac7808cbfba3da26665f7a9c',\n       'd820bd12e2eec2ccc2403777eec0e025',\n       '461beab646d4e7e0fd168125f577483b',\n       '6d40ee4b407eae650995de28243bde7d',\n       '65f2e6f22b24b36f9fcb364dfafeee74',\n       'a226c158804add41d2c6f68be9ef731b',\n       'ac9309ad6cfbd8be72b6146ec4e68bac',\n       'b91c197e821eb57a7a9bc94e180fe621',\n       '624e7e301007d8d328d40f56c948a8ba',\n       '4a24f609d9b51d5470c74c0631497ad4',\n       '4b847237599e42b2e62a06cdfbe693ec',\n       'ab33d7af928bc6bd6ef560d4b4081276',\n       '7e5c43aee3b770da0c9be62c298971cc',\n       'addd44b6ef8f46deddfa262c38d44192',\n       'a31cedae93e1b076254f28d4a9b71319',\n       'dd83e39b0608b90cf99413a75ea6fcbd',\n       'f7ca5ad97ea0b98c983ea8923a0a8002',\n       'd52d50218e9abe66438cefaee22a28da',\n       '92cad8e05ca788dc7475183dd19c959b',\n       '9b6266ce4a9465217515fd0106d7ef6c',\n       '66480bd2955f9663eff79f679c096733',\n       '570e72724ec4b76760248ccdae0449f8',\n       'ac9e4248f16d319a00b803477db2433a',\n       '015b469419f616144c13e0194f880af7',\n       '4042483f5c2c4015e2a6abd47aa76b6f'], dtype=object)"
     },
     "execution_count": 24,
     "metadata": {},
     "output_type": "execute_result"
    }
   ],
   "source": [
    "train['userID'].unique()"
   ],
   "metadata": {
    "collapsed": false,
    "pycharm": {
     "name": "#%%\n"
    }
   }
  },
  {
   "cell_type": "code",
   "execution_count": 25,
   "outputs": [
    {
     "data": {
      "text/plain": "array(['320722549d1751cf3f247855f937b982',\n       'e744f91c29ec99f0e662c9177946c627',\n       'e820a45f1dfc7b95282d10b6087e11c0',\n       '53c3bce66e43be4f209556518c2fcb54',\n       'fd06b8ea02fe5b1c2496fe1700e9d16c',\n       '6e7d2da6d3953058db75714ac400b584',\n       '818f4654ed39a1c147d1e51a00ffb4cb',\n       '019d385eb67632a7e958e23f24bd07d7',\n       '8757150decbd89b0f5442ca3db4d0e0e',\n       '3871bd64012152bfb53fdf04b401193f',\n       '1651cf0d2f737d7adeab84d339dbabd3',\n       '7f975a56c761db6506eca0b37ce6ec87',\n       '66808e327dc79d135ba18e051673d906',\n       '50c3d7614917b24303ee6a220679dab3',\n       '884ce4bb65d328ecb03c598409e2b168',\n       'b5b41fac0361d157d9673ecb926af5ae',\n       'ce5140df15d046a66883807d18d0264b',\n       '96b9bff013acedfb1d140579e2fbeb63',\n       'dc912a253d1e9ba40e2c597ed2376640',\n       '24146db4eb48c718b84cae0a0799dcfc',\n       'a8ecbabae151abacba7dbde04f761c37',\n       'c60d060b946d6dd6145dcbad5c4ccf6f',\n       'e5e63da79fcd2bebbd7cb8bf1c1d0274',\n       '15d4e891d784977cacbfcbb00c48f133',\n       '65cc2c8205a05d7379fa3a6386f710e1',\n       '851ddf5058cf22df63d3344ad89919cf',\n       'e0c641195b27425bb056ac56f8953d24',\n       '2bcab9d935d219641434683dd9d18a03',\n       '26e359e83860db1d11b6acca57d8ea88',\n       'ab817c9349cf9c4f6877e1894a1faa00',\n       '25df35de87aa441b88f22a6c2a830a17',\n       '9cc138f8dc04cbf16240daa92d8d50e2',\n       'cbcb58ac2e496207586df2854b17995f',\n       '82b8a3434904411a9fdc43ca87cee70c',\n       '1e6e0a04d20f50967c64dac2d639a577',\n       'afd4836712c5e77550897e25711e1d96',\n       'c4ca4238a0b923820dcc509a6f75849b',\n       '142949df56ea8ae0be8b5306971900a4',\n       '0b8aff0438617c055eb55f0ba5d226fa',\n       '3a029f04d76d32e79367c4b3255dda4d',\n       '8065d07da4a77621450aa84fee5656d9',\n       'd1f255a373a3cef72e03aa9d980c7eca',\n       'd58072be2820e8682c0a27c0518e805e',\n       '788d986905533aba051261497ecffcbb',\n       '13f9896df61279c928f19721878fac41',\n       '6364d3f0f495b6ab9dcf8d3b5c6e0b01',\n       '0f840be9b8db4d3fbd5ba2ce59211f55',\n       '1700002963a49da13542e0726b7bb758',\n       '287e03db1d99e0ec2edb90d079e142f3',\n       '58d4d1e7b1e97b258c9ed0b37e02d087',\n       '8b5040a8a5baf3e0e67386c2e3a9b903',\n       '7ce3284b743aefde80ffd9aec500e085',\n       'aa68c75c4a77c87f97fb686b2f068676',\n       '8f468c873a32bb0619eaeb2050ba45d1',\n       'b9228e0962a78b84f3d5d92f4faa000b',\n       '8d6dc35e506fc23349dd10ee68dabb64',\n       '5b8add2a5d98b1a652ea7fd72d942dac',\n       'c51ce410c124a10e0db5e4b97fc2af39',\n       '839ab46820b524afda05122893c2fe8e',\n       'ba2fd310dcaa8781a9a652a31baf3c68',\n       'c058f544c737782deacefa532d9add4c',\n       '3d8e28caf901313a554cebc7d32e67e5',\n       'f387624df552cea2f369918c5e1e12bc',\n       'c2aee86157b4a40b78132f1e71a9e6f1',\n       '2387337ba1e0b0249ba90f55b2ba2521',\n       'b83aac23b9528732c23cc7352950e880',\n       'da0d1111d2dc5d489242e60ebcbaf988',\n       'df263d996281d984952c07998dc54358',\n       'a4d2f0d23dcc84ce983ff9157f8b7f88',\n       'e22312179bf43e61576081a2f250f845',\n       'c6bff625bdb0393992c9d4db0c6bbe45',\n       'd840cc5d906c3e9c84374c8919d2074e',\n       '9e3cfc48eccf81a0d57663e129aef3cb',\n       '559cb990c9dffd8675f6bc2186971dc2',\n       '170c944978496731ba71f34c25826a34',\n       'ccb1d45fb76f7c5a0bf619f979c6cf36',\n       '692f93be8c7a41525c0baf2076aecfb4',\n       'a34bacf839b923770b2c360eefa26748',\n       '24b16fede9a67c9251d3e7c7161c83ac',\n       '2c89109d42178de8a367c0228f169bf8',\n       '7fa732b517cbed14a48843d74526c11a',\n       'da8ce53cf0240070ce6c69c48cd588ee',\n       'fa14d4fe2f19414de3ebd9f63d5c0169',\n       '94c7bb58efc3b337800875b5d382a072',\n       'ab1a4d0dd4d48a2ba1077c4494791306',\n       '34ed066df378efacc9b924ec161e7639',\n       '2df45244f09369e16ea3f9117ca45157',\n       'f5f8590cd58a54e94377e6ae2eded4d9',\n       '82489c9737cc245530c7a6ebef3753ec',\n       '6f2268bd1d3d3ebaabb04d6b5d099425',\n       '16c222aa19898e5058938167c8ab6c57',\n       'd61e4bbd6393c9111e6526ea173a7c8b',\n       'e0cf1f47118daebc5b16269099ad7347',\n       '754dda4b1ba34c6fa89716b85d68532b',\n       'c75b6f114c23a4d7ea11331e7c00e73c',\n       '9b698eb3105bd82528f23d0c92dedfc0',\n       '1141938ba2c2b13f5505d7c424ebae5f',\n       'a01610228fe998f515a72dd730294d87',\n       'ec5aa0b7846082a2415f0902f0da88f2',\n       '3c7781a36bcd6cf08c11a970fbe0e2a6',\n       '9ab0d88431732957a618d4a469a0d4c3',\n       '299a23a2291e2126b91d54f3601ec162',\n       '7c9d0b1f96aebd7b5eca8c3edaa19ebb',\n       '69421f032498c97020180038fddb8e24',\n       'fe7ee8fc1959cc7214fa21c4840dff0a',\n       '63923f49e5241343aa7acb6a06a751e7',\n       '860320be12a1c050cd7731794e231bd3',\n       'abd815286ba1007abfbb8415b83ae2cf',\n       'b2f627fff19fda463cb386442eac2b3d',\n       '0deb1c54814305ca9ad266f53bc82511',\n       '5c04925674920eb58467fb52ce4ef728',\n       '4ea06fbc83cdd0a06020c35d50e1e89a',\n       'c7635bfd99248a2cdef8249ef7bfbef4',\n       'c3e0c62ee91db8dc7382bde7419bb573',\n       'f3f27a324736617f20abbf2ffd806f6d',\n       '92fb0c6d1758261f10d052e6e2c1123c',\n       'e46de7e1bcaaced9a54f1e9d0d2f800d',\n       '2cfd4560539f887a5e420412b370b361',\n       '7cce53cf90577442771720a370c3c723',\n       'e5841df2166dd424a57127423d276bbe',\n       '670e8a43b246801ca1eaca97b3e19189',\n       '0c74b7f78409a4022a2c4c5a5ca3ee19',\n       '5d616dd38211ebb5d6ec52986674b6e4',\n       '4ca82782c5372a547c104929f03fe7a9',\n       'bbf94b34eb32268ada57a3be5062fe7d',\n       'ad972f10e0800b49d76fed33a21f6698',\n       'aba3b6fd5d186d28e06ff97135cade7f',\n       'e2a2dcc36a08a345332c751b2f2e476c',\n       'c8c41c4a18675a74e01c8a20e8a0f662',\n       '1cc3633c579a90cfdd895e64021e2163',\n       '9246444d94f081e3549803b928260f56',\n       '704afe073992cbe4813cae2f7715336f',\n       'b24d516bb65a5a58079f0f3526c87c57',\n       '7bcdf75ad237b8e02e301f4091fb6bc8',\n       '7f5d04d189dfb634e6a85bb9d9adf21e',\n       'eddb904a6db773755d2857aacadb1cb0',\n       '3a15c7d0bbe60300a39f76f8a5ba6896',\n       'f5deaeeae1538fb6c45901d524ee2f98',\n       'b6f0479ae87d244975439c6124592772',\n       'a7aeed74714116f3b292a982238f83d2',\n       '577bcc914f9e55d5e4e4f82f9f00e7d4',\n       'd736bb10d83a904aefc1d6ce93dc54b8',\n       '389bc7bb1e1c2a5e7e147703232a88f6',\n       '1c65cef3dfd1e00c0b03923a1c591db4',\n       'cbb6a3b884f4f88b3a8e3d44c636cbd8',\n       '677e09724f0e2df9b6c000b75b5da10d',\n       '22ac3c5a5bf0b520d281c122d1490650',\n       '6c14da109e294d1e8155be8aa4b1ce8e',\n       'a284df1155ec3e67286080500df36a9a',\n       'ddb30680a691d157187ee1cf9e896d03',\n       'dabd8d2ce74e782c65a973ef76fd540b',\n       '65658fde58ab3c2b6e5132a39fae7cb9',\n       '6c3cf77d52820cd0fe646d38bc2145ca',\n       'cf67355a3333e6e143439161adc2d82e',\n       '062ddb6c727310e76b6200b7c71f63b5',\n       '8b4066554730ddfaa0266346bdc1b202',\n       '3473decccb0509fb264818a7512a8b9b',\n       'e19347e1c3ca0c0b97de5fb3b690855a',\n       '0cb929eae7a499e50248a3a78f7acfc7',\n       '872488f88d1b2db54d55bc8bba2fad1b',\n       '13f3cf8c531952d72e5847c4183e6910',\n       '9c01802ddb981e6bcfbec0f0516b8e35',\n       '35cf8659cfcb13224cbd47863a34fc58',\n       '7eacb532570ff6858afd2723755ff790',\n       'c06d06da9666a219db15cf575aff2824',\n       'a760880003e7ddedfef56acb3b09697f',\n       '81448138f5f163ccdba4acc69819f280',\n       '4f284803bd0966cc24fa8683a34afc6e',\n       '357a6fdf7642bf815a88822c447d9dc4',\n       '0a0a0c8aaa00ade50f74a3f0ca981ed7',\n       '1068c6e4c8051cfd4e9ea8072e3189e2',\n       '06eb61b839a0cefee4967c67ccb099dc',\n       'f7f580e11d00a75814d2ded41fe8e8fe',\n       '8a1e808b55fde9455cb3d8857ed88389',\n       '3dc4876f3f08201c7c76cb71fa1da439',\n       '58ae749f25eded36f486bc85feb3f0ab',\n       '82cec96096d4281b7c95cd7e74623496',\n       'b9141aff1412dc76340b3822d9ea6c72',\n       '00ec53c4682d36f5c4359f4ae7bd7ba1',\n       '42e77b63637ab381e8be5f8318cc28a2',\n       'e6b4b2a746ed40e1af829d1fa82daa10',\n       '28f0b864598a1291557bed248a998d4e',\n       '11b921ef080f7736089c757404650e40',\n       '7c590f01490190db0ed02a5070e20f01',\n       'a89cf525e1d9f04d16ce31165e139a4b',\n       '2dace78f80bc92e6d7493423d729448e',\n       '2a9d121cd9c3a1832bb6d2cc6bd7a8a7',\n       '3e89ebdb49f712c7d90d1b39e348bbbf',\n       'bc6dc48b743dc5d013b1abaebd2faed2',\n       '23ce1851341ec1fa9e0c259de10bf87c',\n       '5ef0b4eba35ab2d6180b0bca7e46b6f9',\n       '19b650660b253761af189682e03501dd',\n       '2f885d0fbe2e131bfc9d98363e55d1d4',\n       '85fc37b18c57097425b52fc7afbb6969',\n       '678a1491514b7f1006d605e9161946b1',\n       'c3e878e27f52e2a57ace4d9a76fd9acf',\n       '51d92be1c60d1db1d2e5e7a07da55b26',\n       '959a557f5f6beb411fd954f3f34b21c3',\n       '32b30a250abd6331e03a2a1f16466346',\n       '44c4c17332cace2124a1a836d9fc4b6f',\n       '43cca4b3de2097b9558efefd0ecc3588',\n       '92262bf907af914b95a0fc33c3f33bf6',\n       '2421fcb1263b9530df88f7f002e78ea5',\n       '160c88652d47d0be60bfbfed25111412',\n       '185c29dc24325934ee377cfda20e414c',\n       '9c82c7143c102b71c593d98d96093fde',\n       'e4bb4c5173c2ce17fd8fcd40041c068f',\n       'fde9264cf376fffe2ee4ddf4a988880d',\n       '941e1aaaba585b952b62c14a3a175a61',\n       '8248a99e81e752cb9b41da3fc43fbe7f',\n       'ef0d3930a7b6c95bd2b32ed45989c61f',\n       'c0f168ce8900fa56e57789e2a2f2c9d0',\n       'eba0dc302bcd9a273f8bbb72be3a687b',\n       'b2eeb7362ef83deff5c7813a67e14f0a',\n       '10a7cdd970fe135cf4f7bb55c0e3b59f',\n       '71ad16ad2c4d81f348082ff6c4b20768',\n       'd554f7bb7be44a7267068a7df88ddd20',\n       '39e4973ba3321b80f37d9b55f63ed8b8',\n       '36a1694bce9815b7e38a9dad05ad42e0',\n       '3ad7c2ebb96fcba7cda0cf54a2e802f5',\n       'a0872cc5b5ca4cc25076f3d868e1bdf8',\n       '2290a7385ed77cc5592dc2153229f082',\n       '647bba344396e7c8170902bcf2e15551',\n       '144a3f71a03ab7c4f46f9656608efdb2',\n       '758874998f5bd0c393da094e1967a72b',\n       '9a96876e2f8f3dc4f3cf45f02c61c0c1',\n       'a5e0ff62be0b08456fc7f1e88812af3d',\n       '5e388103a391daabe3de1d76a6739ccd',\n       'ce78d1da254c0843eb23951ae077ff5f',\n       'a0160709701140704575d499c997b6ca',\n       '97af4fb322bb5c8973ade16764156bed',\n       'd86ea612dec96096c5e0fcc8dd42ab6d',\n       '2291d2ec3b3048d1a6f86c2c4591b7e0',\n       '2823f4797102ce1a1aec05359cc16dd9',\n       'c4015b7f368e6b4871809f49debe0579',\n       '6a61d423d02a1c56250dc23ae7ff12f3',\n       '8ce6790cc6a94e65f17f908f462fae85',\n       '8e6b42f1644ecb1327dc03ab345e618b',\n       'fd2c5e4680d9a01dba3aada5ece22270',\n       'bea5955b308361a1b07bc55042e25e54',\n       '33e8075e9970de0cfea955afd4644bb2',\n       'fc49306d97602c8ed1be1dfbf0835ead',\n       '1e056d2b0ebd5c878c550da6ac5d3724',\n       'b73dfe25b4b8714c029b37a6ad3006fa',\n       '5eac43aceba42c8757b54003a58277b5',\n       '6766aa2750c19aad2fa1b32f36ed4aee',\n       '7e7e69ea3384874304911625ac34321c',\n       '8a3363abe792db2d8761d6403605aeb7',\n       '087408522c31eeb1f982bc0eaf81d35f',\n       'f4f6dce2f3a0f9dada0c2b5b66452017',\n       '83fa5a432ae55c253d0e60dbfa716723',\n       'ffeabd223de0d4eacb9a3e6e53e5448d',\n       'b56a18e0eacdf51aa2a5306b0f533204',\n       'f4dd765c12f2ef67f98f3558c282a9cd',\n       'f1c1592588411002af340cbaedd6fc33',\n       '892c91e0a653ba19df81a90f89d99bcd',\n       '4558dbb6f6f8bb2e16d03b85bde76e2c',\n       '3493894fa4ea036cfc6433c3e2ee63b0',\n       '138bb0696595b338afbab333c555292a',\n       '013a006f03dbc5392effeb8f18fda755',\n       'b0b183c207f46f0cca7dc63b2604f5cc',\n       'c86a7ee3d8ef0b551ed58e354a836f2b',\n       'b4288d9c0ec0a1841b3b3728321e7088',\n       'f4be00279ee2e0a53eafdaa94a151e2c',\n       '1e1d184167ca7676cf665225e236a3d2',\n       '07871915a8107172b3b5dc15a6574ad3',\n       '1b0114c51cc532ed34e1954b5b9e4b58',\n       'b706835de79a2b4e80506f582af3676a',\n       '4a47d2983c8bd392b120b627e0e1cab4',\n       'a1d50185e7426cbb0acad1e6ca74b9aa',\n       'aff1621254f7c1be92f64550478c56e6',\n       '63538fe6ef330c13a05a3ed7e599d5f7',\n       '67f7fb873eaf29526a11a9b7ac33bfac',\n       '147702db07145348245dc5a2f2fe5683',\n       '6e7b33fdea3adc80ebd648fffb665bb8',\n       '8b6dd7db9af49e67306feb59a8bdc52c',\n       'a8abb4bb284b5b27aa7cb790dc20f80b',\n       '996a7fa078cc36c46d02f9af3bef918b',\n       '076a0c97d09cf1a0ec3e19c7f2529f2b',\n       'a113c1ecd3cace2237256f4c712f61b5',\n       '31839b036f63806cba3f47b93af8ccb5',\n       'e97ee2054defb209c35fe4dc94599061',\n       'f64eac11f2cd8f0efa196f8ad173178e',\n       '6d70cb65d15211726dcce4c0e971e21c',\n       'e1d5be1c7f2f456670de3d53c7b54f4a',\n       'c410003ef13d451727aeff9082c29a5c',\n       '7501e5d4da87ac39d782741cd794002d',\n       '43dd49b4fdb9bede653e94468ff8df1e',\n       '877a9ba7a98f75b90a9d49f53f15a858',\n       '4fac9ba115140ac4f1c22da82aa0bc7f',\n       'abea47ba24142ed16b7d8fbf2c740e0d',\n       '5c936263f3428a40227908d5a3847c0b',\n       '18997733ec258a9fcaf239cc55d53363',\n       'f1b6f2857fb6d44dd73c7041e0aa0f19',\n       '49ae49a23f67c759bf4fc791ba842aa2',\n       '00e26af6ac3b1c1c49d7c3d79c60d000',\n       '7380ad8a673226ae47fce7bff88e9c33',\n       '3210ddbeaa16948a702b6049b8d9a202',\n       '4e0cb6fb5fb446d1c92ede2ed8780188',\n       'e5f6ad6ce374177eef023bf5d0c018b6',\n       '47a658229eb2368a99f1d032c8848542',\n       '185e65bc40581880c4f2c82958de8cfe',\n       '192fc044e74dffea144f9ac5dc9f3395',\n       '0537fb40a68c18da59a35c2bfe1ca554',\n       'd395771085aab05244a4fb8fd91bf4ee',\n       'b7ee6f5f9aa5cd17ca1aea43ce848496',\n       'e6cb2a3c14431b55aa50c06529eaa21b',\n       'efe937780e95574250dabe07151bdc23',\n       'f8c1f23d6a8d8d7904fc0ea8e066b3bb',\n       'a1140a3d0df1c81e24ae954d935e8926',\n       'fccb60fb512d13df5083790d64c4d5dd',\n       'eb86d510361fc23b59f18c1bc9802cc6',\n       '995e1fda4a2b5f55ef0df50868bf2a8f',\n       '3a835d3215755c435ef4fe9965a3f2a0',\n       '20b5e1cf8694af7a3c1ba4a87f073021',\n       '3b5dca501ee1e6d8cd7b905f4e1bf723',\n       'a8c88a0055f636e4a163a5e3d16adab7',\n       'b534ba68236ba543ae44b22bd110a1d6',\n       '54a367d629152b720749e187b3eaa11b',\n       'c8ed21db4f678f3b13b9d5ee16489088',\n       '04ecb1fa28506ccb6f72b12c0245ddbc',\n       'ccb0989662211f61edae2e26d58ea92f',\n       '801c14f07f9724229175b8ef8b4585a8',\n       '5737034557ef5b8c02c0e46513b98f90',\n       'ebd9629fc3ae5e9f6611e2ee05a31cef',\n       'dd77279f7d325eec933f05b1672f6a1f',\n       'f85454e8279be180185cac7d243c5eb3',\n       '92c8c96e4c37100777c7190b76d28233',\n       '847cc55b7032108eee6dd897f3bca8a5',\n       'f90f2aca5c640289d0a29417bcb63a37',\n       '3dd48ab31d016ffcbf3314df2b3cb9ce',\n       '89fcd07f20b6785b92134bd6c1d0fa42',\n       '8e82ab7243b7c66d768f1b8ce1c967eb',\n       'd7322ed717dedf1eb4e6e52a37ea7bcd',\n       'b137fdd1f79d56c7edf3365fea7520f2',\n       '70c639df5e30bdee440e4cdf599fec2b',\n       '38ca89564b2259401518960f7a06f94b',\n       '2b6d65b9a9445c4271ab9076ead5605a',\n       '53adaf494dc89ef7196d73636eb2451b',\n       'c9892a989183de32e976c6f04e700201',\n       '443cb001c138b2561a0d90720d6ce111',\n       'c6036a69be21cb660499b75718a3ef24',\n       '7f24d240521d99071c93af3917215ef7',\n       'eefc9e10ebdc4a2333b42b2dbb8f27b6',\n       'f9b902fc3289af4dd08de5d1de54f68f',\n       '69cb3ea317a32c4e6143e665fdb20b14',\n       '19bc916108fc6938f52cb96f7e087941',\n       '52292e0c763fd027c6eba6b8f494d2eb',\n       'cd00692c3bfe59267d5ecfac5310286c',\n       'ffeed84c7cb1ae7bf4ec4bd78275bb98',\n       'd490d7b4576290fa60eb31b5fc917ad1',\n       'e7b24b112a44fdd9ee93bdf998c6ca0e',\n       '4f4adcbf8c6f66dcfc8a3282ac2bf10a',\n       '8ebda540cbcc4d7336496819a46a1b68',\n       '2f29b6e3abc6ebdefb55456ea6ca5dc8',\n       'e17184bcb70dcf3942c54e0b537ffc6d',\n       '1e48c4420b7073bc11916c6c1de226bb',\n       'd240e3d38a8882ecad8633c8f9c78c9b',\n       'faa9afea49ef2ff029a833cccc778fd0',\n       '9908279ebbf1f9b250ba689db6a0222b',\n       '46072631582fc240dd2674a7d063b040',\n       'd045c59a90d7587d8d671b5f5aec4e7c',\n       '1f50893f80d6830d62765ffad7721742',\n       '4a213d37242bdcad8e7300e202e7caa4',\n       'e3796ae838835da0b6f6ea37bcf8bcb7',\n       '883e881bb4d22a7add958f2d6b052c9f',\n       'c3992e9a68c5ae12bd18488bc579b30d',\n       'd93ed5b6db83be78efb0d05ae420158e',\n       'ef4e3b775c934dada217712d76f3d51f',\n       '39461a19e9eddfb385ea76b26521ea48',\n       'ffd52f3c7e12435a724a8f30fddadd9c',\n       '15de21c670ae7c3f6f3f1f37029303c9',\n       '4d5b995358e7798bc7e9d9db83c612a5',\n       'cd89fef7ffdd490db800357f47722b20',\n       '310dcbbf4cce62f762a2aaa148d556bd',\n       '53c04118df112c13a8c34b38343b9c10',\n       '17326d10d511828f6b34fa6d751739e2',\n       'f73b76ce8949fe29bf2a537cfa420e8f',\n       '93d65641ff3f1586614cf2c1ad240b6c',\n       'f4573fc71c731d5c362f0d7860945b88',\n       'eddea82ad2755b24c4e168c5fc2ebd40',\n       'd296c101daa88a51f6ca8cfc1ac79b50',\n       '7750ca3559e5b8e1f44210283368fc16',\n       '3b712de48137572f3849aabd5666a4e3',\n       '8c6744c9d42ec2cb9e8885b54ff744d0',\n       '428fca9bc1921c25c5121f9da7815cde',\n       '430c3626b879b4005d41b8a46172e0c0',\n       'c22abfa379f38b5b0411bc11fa9bf92f',\n       '2d6cc4b2d139a53512fb8cbb3086ae2e',\n       '71f6278d140af599e06ad9bf1ba03cb0',\n       'dc6a70712a252123c40d2adba6a11d84',\n       '98d6f58ab0dafbb86b083a001561bb34',\n       '0eec27c419d0fe24e53c90338cdc8bc6',\n       '27ed0fb950b856b06e1273989422e7d3',\n       '9b72e31dac81715466cd580a448cf823',\n       '2715518c875999308842e3455eda2fe3',\n       'fed33392d3a48aa149a87a38b875ba4a',\n       '491442df5f88c6aa018e86dac21d3606',\n       'aa169b49b583a2b5af89203c2b78c67c',\n       '92977ae4d2ba21425a59afb269c2a14e',\n       '5ec91aac30eae62f4140325d09b9afd0',\n       '8d34201a5b85900908db6cae92723617',\n       '4588e674d3f0faf985047d4c3f13ed0d',\n       '1587965fb4d4b5afe8428a4a024feb0d',\n       '58238e9ae2dd305d79c2ebc8c1883422',\n       '8d3bba7425e7c98c50f52ca1b52d3735',\n       '6aab1270668d8cac7cef2566a1c5f569',\n       'dc82d632c9fcecb0778afbc7924494a6',\n       '97e8527feaf77a97fc38f34216141515',\n       '218a0aefd1d1a4be65601cc6ddc1520e',\n       '3fe78a8acf5fda99de95303940a2420c',\n       '884d79963bd8bc0ae9b13a1aa71add73',\n       '26337353b7962f533d78c762373b3318',\n       '8597a6cfa74defcbde3047c891d78f90',\n       '3eb71f6293a2a31f3569e10af6552658',\n       '2afe4567e1bf64d32a5527244d104cea',\n       'db85e2590b6109813dafa101ceb2faeb',\n       '9232fe81225bcaef853ae32870a2b0fe',\n       '53fde96fcc4b4ce72d7739202324cd49',\n       '621461af90cadfdaf0e8d4cc25129f91',\n       '33ceb07bf4eeb3da587e268d663aba1a',\n       '352407221afb776e3143e8a1a0577885',\n       '6cfe0e6127fa25df2a0ef2ae1067d915',\n       '9996535e07258a7bbfd8b132435c5962',\n       '0188e8b8b014829e2fa0f430f0a95961',\n       '17d63b1625c816c22647a73e1482372b',\n       'f9a40a4780f5e1306c46f1c8daecee3b',\n       'd2ed45a52bc0edfa11c2064e9edee8bf',\n       'd6723e7cd6735df68d1ce4c704c29a04',\n       'cf004fdc76fa1a4f25f62e0eb5261ca3',\n       'ae5e3ce40e0404a45ecacaaf05e5f735',\n       'ff4d5fbbafdf976cfdc032e3bde78de5',\n       'af21d0c97db2e27e13572cbf59eb343d',\n       'a96b65a721e561e1e3de768ac819ffbb',\n       '81e74d678581a3bb7a720b019f4f1a93',\n       'b056eb1587586b71e2da9acfe4fbd19e',\n       '2bb232c0b13c774965ef8558f0fbd615',\n       'b6a1085a27ab7bff7550f8a3bd017df8',\n       'aa942ab2bfa6ebda4840e7360ce6e7ef',\n       'fe709c654eac84d5239d1a12a4f71877',\n       '3cef96dcc9b8035d23f69e30bb19218a',\n       'caf1a3dfb505ffed0d024130f58c5cfa',\n       '3948ead63a9f2944218de038d8934305',\n       '0d0fd7c6e093f7b804fa0150b875b868',\n       '9fd81843ad7f202f26c1a174c7357585',\n       '286674e3082feb7e5afb92777e48821f',\n       '8d317bdcf4aafcfc22149d77babee96d',\n       'dd458505749b2941217ddd59394240e8',\n       '550a141f12de6341fba65b0ad0433500',\n       '2de5d16682c3c35007e4e92982f1a2ba',\n       'f2fc990265c712c49d51a18a32b39f0c',\n       'b7b16ecf8ca53723593894116071700c',\n       '8fe0093bb30d6f8c31474bd0764e6ac0',\n       'd516b13671a4179d9b7b458a6ebdeb92',\n       'cc1aa436277138f61cda703991069eaf',\n       '07c5807d0d927dcd0980f86024e5208b',\n       '1ce927f875864094e3906a4a0b5ece68',\n       '55b37c5c270e5d84c793e486d798c01d',\n       '66368270ffd51418ec58bd793f2d9b1b',\n       'fb7b9ffa5462084c5f4e7e85a093e6d7',\n       '8efb100a295c0c690931222ff4467bb8',\n       '58e4d44e550d0f7ee0a23d6b02d9b0db',\n       '69a5b5995110b36a9a347898d97a610e',\n       '2b8a61594b1f4c4db0902a8a395ced93',\n       'd64a340bcb633f536d56e51874281454',\n       '9fe8593a8a330607d76796b35c64c600',\n       '298f95e1bf9136124592c8d4825a06fc',\n       '816b112c6105b3ebd537828a39af4818',\n       'f33ba15effa5c10e873bf3842afb46a6',\n       'aace49c7d80767cffec0e513ae886df0',\n       'fc2c7c47b918d0c2d792a719dfb602ef',\n       '09c6c3783b4a70054da74f2538ed47c6',\n       '5a4b25aaed25c2ee1b74de72dc03c14e',\n       'dc87c13749315c7217cdc4ac692e704c',\n       'afdec7005cc9f14302cd0474fd0f3c96',\n       '84d2004bf28a2095230e8e14993d398d',\n       '208e43f0e45c4c78cafadb83d2888cb6',\n       '37f0e884fbad9667e38940169d0a3c95',\n       '4e4e53aa080247bc31d0eb4e7aeb07a0',\n       'eaae339c4d89fc102edd9dbdb6a28915',\n       'b20bb95ab626d93fd976af958fbc61ba',\n       '0bb4aec1710521c12ee76289d9440817',\n       'f7cade80b7cc92b991cf4d2806d6bd78',\n       '36a16a2505369e0c922b6ea7a23a56d2',\n       'c9f95a0a5af052bffce5c89917335f67',\n       '9cf81d8026a9018052c429cc4e56739b',\n       'b86e8d03fe992d1b0e19656875ee557c',\n       '4da04049a062f5adfe81b67dd755cecc',\n       'b55ec28c52d5f6205684a473a2193564',\n       'd34ab169b70c9dcd35e62896010cd9ff',\n       'ca75910166da03ff9d4655a0338e6b09',\n       '210f760a89db30aa72ca258a3483cc7f',\n       'c54e7837e0cd0ced286cb5995327d1ab',\n       '7504adad8bb96320eb3afdd4df6e1f60',\n       'fba9d88164f3e2d9109ee770223212a0',\n       '288cc0ff022877bd3df94bc9360b9c5d',\n       '8bf1211fd4b7b94528899de0a43b9fb3',\n       'c3c59e5f8b3e9753913f4d435b53c308',\n       'e1e32e235eee1f970470a3a6658dfdd5',\n       'f197002b9a0853eca5e046d9ca4663d5',\n       'c8ba76c279269b1c6bc8a07e38e78fa4',\n       '64223ccf70bbb65a3a4aceac37e21016',\n       'e515df0d202ae52fcebb14295743063b',\n       '9431c87f273e507e6040fcb07dcb4509',\n       '1a5b1e4daae265b790965a275b53ae50',\n       'a8849b052492b5106526b2331e526138',\n       'c399862d3b9d6b76c8436e924a68c45b',\n       '069d3bb002acd8d7dd095917f9efe4cb',\n       '00ac8ed3b4327bdd4ebbebcb2ba10a00',\n       'a01a0380ca3c61428c26a231f0e49a09',\n       '7dcd340d84f762eba80aa538b0c527f7',\n       '1fc214004c9481e4c8073e85323bfd4b',\n       '41bfd20a38bb1b0bec75acf0845530a7',\n       '021bbc7ee20b71134d53e20206bd6feb',\n       '07563a3fe3bbe7e3ba84431ad9d055af',\n       '2ba596643cbbbc20318224181fa46b28',\n       'f61d6947467ccd3aa5af24db320235dd',\n       'd9fc5b73a8d78fad3d6dffe419384e70',\n       '10a5ab2db37feedfdeaab192ead4ac0e',\n       '2b38c2df6a49b97f706ec9148ce48d86',\n       '41ae36ecb9b3eee609d05b90c14222fb',\n       'dc4c44f624d600aa568390f1f1104aa0',\n       'a3fb4fbf9a6f9cf09166aa9c20cbc1ad',\n       '9da187a7a191431db943a9a5a6fec6f4',\n       '67d16d00201083a2b118dd5128dd6f59',\n       'f93882cbd8fc7fb794c1011d63be6fb6',\n       '0fcbc61acd0479dc77e3cccc0f5ffca7',\n       '298923c8190045e91288b430794814c4',\n       'b495ce63ede0f4efc9eec62cb947c162',\n       '1aa48fc4880bb0c9b8a3bf979d3b917e',\n       '68d13cf26c4b4f4f932e3eff990093ba',\n       '8dd48d6a2e2cad213179a3992c0be53c',\n       'b9d487a30398d42ecff55c228ed5652b',\n       '766d856ef1a6b02f93d894415e6bfa0e',\n       'dc5689792e08eb2e219dce49e64c885b',\n       '6ecbdd6ec859d284dc13885a37ce8d81',\n       'a49e9411d64ff53eccfdd09ad10a15b3',\n       'df0aab058ce179e4f7ab135ed4e641a9',\n       'd8700cbd38cc9f30cecb34f0c195b137',\n       'a8240cb8235e9c493a0c30607586166c',\n       '7250eb93b3c18cc9daa29cf58af7a004',\n       '99c5e07b4d5de9d18c350cdf64c5aa3d',\n       'fe8c15fed5f808006ce95eddb7366e35',\n       '25b2822c2f5a3230abfadd476e8b04c9',\n       '6b180037abbebea991d8b1232f8a8ca9',\n       '5807a685d1a9ab3b599035bc566ce2b9',\n       'bf62768ca46b6c3b5bea9515d1a1fc45',\n       '051e4e127b92f5d98d3c79b195f2b291',\n       '371bce7dc83817b7893bcdeed13799b5',\n       '6855456e2fe46a9d49d3d3af4f57443d',\n       '9dfcd5e558dfa04aaf37f137a1d9d3e5',\n       '4e2545f819e67f0615003dd7e04a6087',\n       'f2201f5191c4e92cc5af043eebfd0946',\n       '258be18e31c8188555c2ff05b4d542c3',\n       'd94e18a8adb4cc0f623f7a83b1ac75b4',\n       '16e6a3326dd7d868cbc926602a61e4d0',\n       'df877f3865752637daa540ea9cbc474f',\n       '7f1171a78ce0780a2142a6eb7bc4f3c8',\n       '0ff39bbbf981ac0151d340c9aa40e63e',\n       '85422afb467e9456013a2a51d4dff702',\n       '84f7e69969dea92a925508f7c1f9579a',\n       '06997f04a7db92466a2baa6ebc8b872d',\n       '45645a27c4f1adc8a7a835976064a86d',\n       '168908dd3227b8358eababa07fcaf091',\n       '301ad0e3bd5cb1627a2044908a42fdc2',\n       '24896ee4c6526356cc127852413ea3b4',\n       '1896a3bf730516dd643ba67b4c447d36',\n       '5e9f92a01c986bafcabbafd145520b13',\n       'b3967a0e938dc2a6340e258630febd5a',\n       'ab233b682ec355648e7891e66c54191b',\n       '193002e668758ea9762904da1a22337c',\n       'b59c67bf196a4758191e42f76670ceba',\n       '7bccfde7714a1ebadf06c5f4cea752c1',\n       'd79aac075930c83c2f1e369a511148fe',\n       '0efe32849d230d7f53049ddc4a4b0c60',\n       '024d7f84fff11dd7e8d9c510137a2381',\n       'e702e51da2c0f5be4dd354bb3e295d37',\n       '11b9842e0a271ff252c1903e7132cd68',\n       'b8c37e33defde51cf91e1e03e51657da',\n       '1c1d4df596d01da60385f0bb17a4a9e0',\n       '456ac9b0d15a8b7f1e71073221059886',\n       'ef575e8837d065a1683c022d2077d342',\n       'e8c0653fea13f91bf3c48159f7c24f78',\n       '5680522b8e2bb01943234bce7bf84534',\n       '303ed4c69846ab36c2904d3ba8573050',\n       '470e7a4f017a5476afb7eeb3f8b96f9b',\n       'a02ffd91ece5e7efeb46db8f10a74059',\n       'bdb106a0560c4e46ccc488ef010af787',\n       'fb89705ae6d743bf1e848c206e16a1d7',\n       '291597a100aadd814d197af4f4bab3a7',\n       'b51a15f382ac914391a58850ab343b00',\n       '7d04bbbe5494ae9d2f5a76aa1c00fa2f',\n       '632cee946db83e7a52ce5e8d6f0fed35',\n       'fa3a3c407f82377f55c19c5d403335c7',\n       '88ae6372cfdc5df69a976e893f4d554b',\n       'a9eb812238f753132652ae09963a05e9',\n       '74bba22728b6185eec06286af6bec36d',\n       'd7a728a67d909e714c0774e22cb806f2',\n       'f29b38f160f87ae86df31cee1982066f',\n       '821fa74b50ba3f7cba1e6c53e8fa6845',\n       '4daa3db355ef2b0e64b472968cb70f0d',\n       '2050e03ca119580f74cca14cc6e97462',\n       'dbe272bab69f8e13f14b405e038deb64',\n       '437d7d1d97917cd627a34a6a0fb41136',\n       'd81f9c1be2e08964bf9f24b15f0e4900',\n       '918317b57931b6b7a7d29490fe5ec9f9',\n       '6a2feef8ed6a9fe76d6b3f30f02150b4',\n       'df7f28ac89ca37bf1abd2f6c184fe1cf',\n       'bca82e41ee7b0833588399b1fcd177c7',\n       '8d7d8ee069cb0cbbf816bbb65d56947e',\n       'ae0eb3eed39d2bcef4622b2499a05fe6',\n       '3df1d4b96d8976ff5986393e8767f5b2',\n       '96ea64f3a1aa2fd00c72faacf0cb8ac9',\n       '37bc2f75bf1bcfe8450a1a41c200364c',\n       '7eb3c8be3d411e8ebfab08eba5f49632',\n       '55a7cf9c71f1c9c495413f934dd1a158',\n       'c6e19e830859f2cb9f7c8f8cacb8d2a6',\n       '912d2b1c7b2826caf99687388d2e8f7c',\n       'bbcbff5c1f1ded46c25d28119a85c6c2',\n       '3bf55bbad370a8fcad1d09b005e278c2',\n       'c5ab0bc60ac7929182aadd08703f1ec6',\n       'e7f8a7fb0b77bcb3b283af5be021448f',\n       '4f16c818875d9fcb6867c7bdc89be7eb',\n       'e49b8b4053df9505e1f48c3a701c0682',\n       '1905aedab9bf2477edc068a355bba31a',\n       '81dc9bdb52d04dc20036dbd8313ed055',\n       '5f0f5e5f33945135b874349cfbed4fb9',\n       '18d8042386b79e2c279fd162df0205c8',\n       '22fb0cee7e1f3bde58293de743871417',\n       '854d9fca60b4bd07f9bb215d59ef5561',\n       '7940ab47468396569a906f75ff3f20ef',\n       '90794e3b050f815354e3e29e977a88ab',\n       '6ea2ef7311b482724a9b7b0bc0dd85c6',\n       '598b3e71ec378bd83e0a727608b5db01',\n       'b3ba8f1bee1238a2f37603d90b58898d',\n       '285ab9448d2751ee57ece7f762c39095',\n       '75fc093c0ee742f6dddaa13fff98f104',\n       'c667d53acd899a97a85de0c201ba99be',\n       '9b70e8fe62e40c570a322f1b0b659098',\n       'b7bb35b9c6ca2aee2df08cf09d7016c2',\n       '944bdd9636749a0801c39b6e449dbedc',\n       '4b0a59ddf11c58e7446c9df0da541a84',\n       'c32d9bf27a3da7ec8163957080c8628e',\n       'e0ec453e28e061cc58ac43f91dc2f3f0',\n       '4311359ed4969e8401880e3c1836fbe1',\n       '310ce61c90f3a46e340ee8257bc70e93',\n       '285f89b802bcb2651801455c86d78f2a',\n       '7b13b2203029ed80337f27127a9f1d28',\n       '71a3cb155f8dc89bf3d0365288219936',\n       '0c048b3a434e49e655c1247efb389cec',\n       'e034fb6b66aacc1d48f445ddfb08da98',\n       'c21002f464c5fc5bee3b98ced83963b8',\n       '905056c1ac1dad141560467e0a99e1cf',\n       '38913e1d6a7b94cb0f55994f679f5956',\n       'd38901788c533e8286cb6400b40b386d',\n       'e555ebe0ce426f7f9b2bef0706315e0c',\n       '4f6ffe13a5d75b2d6a3923922b3922e5',\n       'ab88b15733f543179858600245108dd8',\n       '43baa6762fa81bb43b39c62553b2970d',\n       '26588e932c7ccfa1df309280702fe1b5',\n       'df6d2338b2b8fce1ec2f6dda0a630eb0',\n       '13f320e7b5ead1024ac95c3b208610db',\n       '9f53d83ec0691550f7d2507d57f4f5a2',\n       '7a53928fa4dd31e82c6ef826f341daec',\n       '4b6538a44a1dfdc2b83477cd76dee98e',\n       'a1519de5b5d44b31a01de013b9b51a80',\n       'dc58e3a306451c9d670adcd37004f48f',\n       '89f0fd5c927d466d6ec9a21b9ac34ffa',\n       'a9078e8653368c9c291ae2f8b74012e7',\n       'a2137a2ae8e39b5002a3f8909ecb88fe',\n       '6395ebd0f4b478145ecfbaf939454fa4',\n       'e3251075554389fe91d17a794861d47b',\n       '5ea1649a31336092c05438df996a3e59',\n       '7fec306d1e665bc9c748b5d2b99a6e97',\n       '01f78be6f7cad02658508fe4616098a9',\n       'c1e39d912d21c91dce811d6da9929ae8',\n       '53e3a7161e428b65688f14b84d61c610',\n       '6c340f25839e6acdc73414517203f5f0',\n       '0d7de1aca9299fe63f3e0041f02638a3',\n       '68053af2923e00204c3ca7c6a3150cf7',\n       '7bb060764a818184ebb1cc0d43d382aa',\n       '68264bdb65b97eeae6788aa3348e553c',\n       'bb04af0f7ecaee4aae62035497da1387',\n       '3a0772443a0739141292a5429b952fe6',\n       '535ab76633d94208236a2e829ea6d888',\n       '68ce199ec2c5517597ce0a4d89620f55',\n       '3f67fd97162d20e6fe27748b5b372509',\n       'd707329bece455a462b58ce00d1194c9',\n       '7634ea65a4e6d9041cfd3f7de18e334a',\n       'ca9c267dad0305d1a6308d2a0cf1c39c',\n       '26dd0dbc6e3f4c8043749885523d6a25',\n       '31857b449c407203749ae32dd0e7d64a',\n       '3435c378bb76d4357324dd7e69f3cd18',\n       'db576a7d2453575f29eab4bac787b919',\n       '250cf8b51c773f3f8dc8b4be867a9a02',\n       'addfa9b7e234254d26e9c7f2af1005cb',\n       '995665640dc319973d3173a74a03860c',\n       '68a83eeb494a308fe5295da69428a507',\n       'f91e24dfe80012e2a7984afa4480a6d6',\n       'a58149d355f02887dfbe55ebb2b64ba3',\n       'dc6a6489640ca02b0d42dabeb8e46bb7',\n       '31b3b31a1c2f8a370206f111127c0dbd',\n       'a51fb975227d6640e4fe47854476d133',\n       'd5cfead94f5350c12c322b5b664544c1',\n       '5487315b1286f907165907aa8fc96619',\n       '4079016d940210b4ae9ae7d41c4a2065',\n       'e44fea3bec53bcea3b7513ccef5857ac',\n       'c042f4db68f23406c6cecf84a7ebb0fe',\n       '74071a673307ca7459bcf75fbd024e09',\n       'b4a528955b84f584974e92d025a75d1f',\n       '6c8dba7d0df1c4a79dd07646be9a26c8',\n       '9f36407ead0629fc166f14dde7970f68',\n       'd709f38ef758b5066ef31b18039b8ce5',\n       '16a5cdae362b8d27a1d8f8c7b78b4330',\n       'f0e52b27a7a5d6a1a87373dffa53dbe5',\n       '1be3bc32e6564055d5ca3e5a354acbef',\n       '41f1f19176d383480afa65d325c06ed0',\n       'f79921bbae40a577928b76d2fc3edc2a',\n       'c5ff2543b53f4cc0ad3819a36752467b',\n       'cd758e8f59dfdf06a852adad277986ca',\n       '55743cc0393b1cb4b8b37d09ae48d097',\n       'e2230b853516e7b05d79744fbd4c9c13',\n       'e6d8545daa42d5ced125a4bf747b3688',\n       'f74909ace68e51891440e4da0b65a70c',\n       '934815ad542a4a7c5e8a2dfa04fea9f5',\n       '2f55707d4193dc27118a0f19a1985716',\n       'fae0b27c451c728867a567e8c1bb4e53',\n       '9a3d458322d70046f63dfd8b0153ece4',\n       'c203d8a151612acf12457e4d67635a95',\n       '6e2713a6efee97bacb63e52c54f0ada0',\n       'b5dc4e5d9b495d0196f61d45b26ef33e',\n       '1bb91f73e9d31ea2830a5e73ce3ed328',\n       '05f971b5ec196b8c65b75d2ef8267331'], dtype=object)"
     },
     "execution_count": 25,
     "metadata": {},
     "output_type": "execute_result"
    }
   ],
   "source": [
    "job_tag['jobID'].unique()"
   ],
   "metadata": {
    "collapsed": false,
    "pycharm": {
     "name": "#%%\n"
    }
   }
  },
  {
   "cell_type": "code",
   "execution_count": 26,
   "outputs": [
    {
     "data": {
      "text/plain": "array([nan, '11-50', '101-200', '1-10', '51-100', '1000 이상', '201-500',\n       '501-1000'], dtype=object)"
     },
     "execution_count": 26,
     "metadata": {},
     "output_type": "execute_result"
    }
   ],
   "source": [
    "job_companies['companySize'].unique()"
   ],
   "metadata": {
    "collapsed": false,
    "pycharm": {
     "name": "#%%\n"
    }
   }
  },
  {
   "cell_type": "code",
   "execution_count": 27,
   "outputs": [
    {
     "ename": "MergeError",
     "evalue": "No common columns to perform merge on. Merge options: left_on=None, right_on=None, left_index=False, right_index=False",
     "output_type": "error",
     "traceback": [
      "\u001B[1;31m---------------------------------------------------------------------------\u001B[0m",
      "\u001B[1;31mMergeError\u001B[0m                                Traceback (most recent call last)",
      "Input \u001B[1;32mIn [27]\u001B[0m, in \u001B[0;36m<cell line: 3>\u001B[1;34m()\u001B[0m\n\u001B[0;32m      1\u001B[0m \u001B[38;5;66;03m# text 정보를 input 으로 주자\u001B[39;00m\n\u001B[0;32m      2\u001B[0m \u001B[38;5;66;03m# user를 latent factor로 만들고?\u001B[39;00m\n\u001B[1;32m----> 3\u001B[0m \u001B[43mtrain\u001B[49m\u001B[38;5;241;43m.\u001B[39;49m\u001B[43mmerge\u001B[49m\u001B[43m(\u001B[49m\u001B[43mtags\u001B[49m\u001B[43m,\u001B[49m\u001B[43m \u001B[49m\u001B[38;5;124;43m'\u001B[39;49m\u001B[38;5;124;43m'\u001B[39;49m\u001B[43m)\u001B[49m\n",
      "File \u001B[1;32m~\\AppData\\Roaming\\Python\\Python38\\site-packages\\pandas\\core\\frame.py:10080\u001B[0m, in \u001B[0;36mDataFrame.merge\u001B[1;34m(self, right, how, on, left_on, right_on, left_index, right_index, sort, suffixes, copy, indicator, validate)\u001B[0m\n\u001B[0;32m  10061\u001B[0m \u001B[38;5;129m@Substitution\u001B[39m(\u001B[38;5;124m\"\u001B[39m\u001B[38;5;124m\"\u001B[39m)\n\u001B[0;32m  10062\u001B[0m \u001B[38;5;129m@Appender\u001B[39m(_merge_doc, indents\u001B[38;5;241m=\u001B[39m\u001B[38;5;241m2\u001B[39m)\n\u001B[0;32m  10063\u001B[0m \u001B[38;5;28;01mdef\u001B[39;00m \u001B[38;5;21mmerge\u001B[39m(\n\u001B[1;32m   (...)\u001B[0m\n\u001B[0;32m  10076\u001B[0m     validate: \u001B[38;5;28mstr\u001B[39m \u001B[38;5;241m|\u001B[39m \u001B[38;5;28;01mNone\u001B[39;00m \u001B[38;5;241m=\u001B[39m \u001B[38;5;28;01mNone\u001B[39;00m,\n\u001B[0;32m  10077\u001B[0m ) \u001B[38;5;241m-\u001B[39m\u001B[38;5;241m>\u001B[39m DataFrame:\n\u001B[0;32m  10078\u001B[0m     \u001B[38;5;28;01mfrom\u001B[39;00m \u001B[38;5;21;01mpandas\u001B[39;00m\u001B[38;5;21;01m.\u001B[39;00m\u001B[38;5;21;01mcore\u001B[39;00m\u001B[38;5;21;01m.\u001B[39;00m\u001B[38;5;21;01mreshape\u001B[39;00m\u001B[38;5;21;01m.\u001B[39;00m\u001B[38;5;21;01mmerge\u001B[39;00m \u001B[38;5;28;01mimport\u001B[39;00m merge\n\u001B[1;32m> 10080\u001B[0m     \u001B[38;5;28;01mreturn\u001B[39;00m \u001B[43mmerge\u001B[49m\u001B[43m(\u001B[49m\n\u001B[0;32m  10081\u001B[0m \u001B[43m        \u001B[49m\u001B[38;5;28;43mself\u001B[39;49m\u001B[43m,\u001B[49m\n\u001B[0;32m  10082\u001B[0m \u001B[43m        \u001B[49m\u001B[43mright\u001B[49m\u001B[43m,\u001B[49m\n\u001B[0;32m  10083\u001B[0m \u001B[43m        \u001B[49m\u001B[43mhow\u001B[49m\u001B[38;5;241;43m=\u001B[39;49m\u001B[43mhow\u001B[49m\u001B[43m,\u001B[49m\n\u001B[0;32m  10084\u001B[0m \u001B[43m        \u001B[49m\u001B[43mon\u001B[49m\u001B[38;5;241;43m=\u001B[39;49m\u001B[43mon\u001B[49m\u001B[43m,\u001B[49m\n\u001B[0;32m  10085\u001B[0m \u001B[43m        \u001B[49m\u001B[43mleft_on\u001B[49m\u001B[38;5;241;43m=\u001B[39;49m\u001B[43mleft_on\u001B[49m\u001B[43m,\u001B[49m\n\u001B[0;32m  10086\u001B[0m \u001B[43m        \u001B[49m\u001B[43mright_on\u001B[49m\u001B[38;5;241;43m=\u001B[39;49m\u001B[43mright_on\u001B[49m\u001B[43m,\u001B[49m\n\u001B[0;32m  10087\u001B[0m \u001B[43m        \u001B[49m\u001B[43mleft_index\u001B[49m\u001B[38;5;241;43m=\u001B[39;49m\u001B[43mleft_index\u001B[49m\u001B[43m,\u001B[49m\n\u001B[0;32m  10088\u001B[0m \u001B[43m        \u001B[49m\u001B[43mright_index\u001B[49m\u001B[38;5;241;43m=\u001B[39;49m\u001B[43mright_index\u001B[49m\u001B[43m,\u001B[49m\n\u001B[0;32m  10089\u001B[0m \u001B[43m        \u001B[49m\u001B[43msort\u001B[49m\u001B[38;5;241;43m=\u001B[39;49m\u001B[43msort\u001B[49m\u001B[43m,\u001B[49m\n\u001B[0;32m  10090\u001B[0m \u001B[43m        \u001B[49m\u001B[43msuffixes\u001B[49m\u001B[38;5;241;43m=\u001B[39;49m\u001B[43msuffixes\u001B[49m\u001B[43m,\u001B[49m\n\u001B[0;32m  10091\u001B[0m \u001B[43m        \u001B[49m\u001B[43mcopy\u001B[49m\u001B[38;5;241;43m=\u001B[39;49m\u001B[43mcopy\u001B[49m\u001B[43m,\u001B[49m\n\u001B[0;32m  10092\u001B[0m \u001B[43m        \u001B[49m\u001B[43mindicator\u001B[49m\u001B[38;5;241;43m=\u001B[39;49m\u001B[43mindicator\u001B[49m\u001B[43m,\u001B[49m\n\u001B[0;32m  10093\u001B[0m \u001B[43m        \u001B[49m\u001B[43mvalidate\u001B[49m\u001B[38;5;241;43m=\u001B[39;49m\u001B[43mvalidate\u001B[49m\u001B[43m,\u001B[49m\n\u001B[0;32m  10094\u001B[0m \u001B[43m    \u001B[49m\u001B[43m)\u001B[49m\n",
      "File \u001B[1;32m~\\AppData\\Roaming\\Python\\Python38\\site-packages\\pandas\\core\\reshape\\merge.py:110\u001B[0m, in \u001B[0;36mmerge\u001B[1;34m(left, right, how, on, left_on, right_on, left_index, right_index, sort, suffixes, copy, indicator, validate)\u001B[0m\n\u001B[0;32m     93\u001B[0m \u001B[38;5;129m@Substitution\u001B[39m(\u001B[38;5;124m\"\u001B[39m\u001B[38;5;130;01m\\n\u001B[39;00m\u001B[38;5;124mleft : DataFrame or named Series\u001B[39m\u001B[38;5;124m\"\u001B[39m)\n\u001B[0;32m     94\u001B[0m \u001B[38;5;129m@Appender\u001B[39m(_merge_doc, indents\u001B[38;5;241m=\u001B[39m\u001B[38;5;241m0\u001B[39m)\n\u001B[0;32m     95\u001B[0m \u001B[38;5;28;01mdef\u001B[39;00m \u001B[38;5;21mmerge\u001B[39m(\n\u001B[1;32m   (...)\u001B[0m\n\u001B[0;32m    108\u001B[0m     validate: \u001B[38;5;28mstr\u001B[39m \u001B[38;5;241m|\u001B[39m \u001B[38;5;28;01mNone\u001B[39;00m \u001B[38;5;241m=\u001B[39m \u001B[38;5;28;01mNone\u001B[39;00m,\n\u001B[0;32m    109\u001B[0m ) \u001B[38;5;241m-\u001B[39m\u001B[38;5;241m>\u001B[39m DataFrame:\n\u001B[1;32m--> 110\u001B[0m     op \u001B[38;5;241m=\u001B[39m \u001B[43m_MergeOperation\u001B[49m\u001B[43m(\u001B[49m\n\u001B[0;32m    111\u001B[0m \u001B[43m        \u001B[49m\u001B[43mleft\u001B[49m\u001B[43m,\u001B[49m\n\u001B[0;32m    112\u001B[0m \u001B[43m        \u001B[49m\u001B[43mright\u001B[49m\u001B[43m,\u001B[49m\n\u001B[0;32m    113\u001B[0m \u001B[43m        \u001B[49m\u001B[43mhow\u001B[49m\u001B[38;5;241;43m=\u001B[39;49m\u001B[43mhow\u001B[49m\u001B[43m,\u001B[49m\n\u001B[0;32m    114\u001B[0m \u001B[43m        \u001B[49m\u001B[43mon\u001B[49m\u001B[38;5;241;43m=\u001B[39;49m\u001B[43mon\u001B[49m\u001B[43m,\u001B[49m\n\u001B[0;32m    115\u001B[0m \u001B[43m        \u001B[49m\u001B[43mleft_on\u001B[49m\u001B[38;5;241;43m=\u001B[39;49m\u001B[43mleft_on\u001B[49m\u001B[43m,\u001B[49m\n\u001B[0;32m    116\u001B[0m \u001B[43m        \u001B[49m\u001B[43mright_on\u001B[49m\u001B[38;5;241;43m=\u001B[39;49m\u001B[43mright_on\u001B[49m\u001B[43m,\u001B[49m\n\u001B[0;32m    117\u001B[0m \u001B[43m        \u001B[49m\u001B[43mleft_index\u001B[49m\u001B[38;5;241;43m=\u001B[39;49m\u001B[43mleft_index\u001B[49m\u001B[43m,\u001B[49m\n\u001B[0;32m    118\u001B[0m \u001B[43m        \u001B[49m\u001B[43mright_index\u001B[49m\u001B[38;5;241;43m=\u001B[39;49m\u001B[43mright_index\u001B[49m\u001B[43m,\u001B[49m\n\u001B[0;32m    119\u001B[0m \u001B[43m        \u001B[49m\u001B[43msort\u001B[49m\u001B[38;5;241;43m=\u001B[39;49m\u001B[43msort\u001B[49m\u001B[43m,\u001B[49m\n\u001B[0;32m    120\u001B[0m \u001B[43m        \u001B[49m\u001B[43msuffixes\u001B[49m\u001B[38;5;241;43m=\u001B[39;49m\u001B[43msuffixes\u001B[49m\u001B[43m,\u001B[49m\n\u001B[0;32m    121\u001B[0m \u001B[43m        \u001B[49m\u001B[43mindicator\u001B[49m\u001B[38;5;241;43m=\u001B[39;49m\u001B[43mindicator\u001B[49m\u001B[43m,\u001B[49m\n\u001B[0;32m    122\u001B[0m \u001B[43m        \u001B[49m\u001B[43mvalidate\u001B[49m\u001B[38;5;241;43m=\u001B[39;49m\u001B[43mvalidate\u001B[49m\u001B[43m,\u001B[49m\n\u001B[0;32m    123\u001B[0m \u001B[43m    \u001B[49m\u001B[43m)\u001B[49m\n\u001B[0;32m    124\u001B[0m     \u001B[38;5;28;01mreturn\u001B[39;00m op\u001B[38;5;241m.\u001B[39mget_result(copy\u001B[38;5;241m=\u001B[39mcopy)\n",
      "File \u001B[1;32m~\\AppData\\Roaming\\Python\\Python38\\site-packages\\pandas\\core\\reshape\\merge.py:685\u001B[0m, in \u001B[0;36m_MergeOperation.__init__\u001B[1;34m(self, left, right, how, on, left_on, right_on, axis, left_index, right_index, sort, suffixes, indicator, validate)\u001B[0m\n\u001B[0;32m    681\u001B[0m     \u001B[38;5;66;03m# stacklevel chosen to be correct when this is reached via pd.merge\u001B[39;00m\n\u001B[0;32m    682\u001B[0m     \u001B[38;5;66;03m# (and not DataFrame.join)\u001B[39;00m\n\u001B[0;32m    683\u001B[0m     warnings\u001B[38;5;241m.\u001B[39mwarn(msg, \u001B[38;5;167;01mFutureWarning\u001B[39;00m, stacklevel\u001B[38;5;241m=\u001B[39mfind_stack_level())\n\u001B[1;32m--> 685\u001B[0m \u001B[38;5;28mself\u001B[39m\u001B[38;5;241m.\u001B[39mleft_on, \u001B[38;5;28mself\u001B[39m\u001B[38;5;241m.\u001B[39mright_on \u001B[38;5;241m=\u001B[39m \u001B[38;5;28;43mself\u001B[39;49m\u001B[38;5;241;43m.\u001B[39;49m\u001B[43m_validate_left_right_on\u001B[49m\u001B[43m(\u001B[49m\u001B[43mleft_on\u001B[49m\u001B[43m,\u001B[49m\u001B[43m \u001B[49m\u001B[43mright_on\u001B[49m\u001B[43m)\u001B[49m\n\u001B[0;32m    687\u001B[0m cross_col \u001B[38;5;241m=\u001B[39m \u001B[38;5;28;01mNone\u001B[39;00m\n\u001B[0;32m    688\u001B[0m \u001B[38;5;28;01mif\u001B[39;00m \u001B[38;5;28mself\u001B[39m\u001B[38;5;241m.\u001B[39mhow \u001B[38;5;241m==\u001B[39m \u001B[38;5;124m\"\u001B[39m\u001B[38;5;124mcross\u001B[39m\u001B[38;5;124m\"\u001B[39m:\n",
      "File \u001B[1;32m~\\AppData\\Roaming\\Python\\Python38\\site-packages\\pandas\\core\\reshape\\merge.py:1434\u001B[0m, in \u001B[0;36m_MergeOperation._validate_left_right_on\u001B[1;34m(self, left_on, right_on)\u001B[0m\n\u001B[0;32m   1432\u001B[0m common_cols \u001B[38;5;241m=\u001B[39m left_cols\u001B[38;5;241m.\u001B[39mintersection(right_cols)\n\u001B[0;32m   1433\u001B[0m \u001B[38;5;28;01mif\u001B[39;00m \u001B[38;5;28mlen\u001B[39m(common_cols) \u001B[38;5;241m==\u001B[39m \u001B[38;5;241m0\u001B[39m:\n\u001B[1;32m-> 1434\u001B[0m     \u001B[38;5;28;01mraise\u001B[39;00m MergeError(\n\u001B[0;32m   1435\u001B[0m         \u001B[38;5;124m\"\u001B[39m\u001B[38;5;124mNo common columns to perform merge on. \u001B[39m\u001B[38;5;124m\"\u001B[39m\n\u001B[0;32m   1436\u001B[0m         \u001B[38;5;124mf\u001B[39m\u001B[38;5;124m\"\u001B[39m\u001B[38;5;124mMerge options: left_on=\u001B[39m\u001B[38;5;132;01m{\u001B[39;00mleft_on\u001B[38;5;132;01m}\u001B[39;00m\u001B[38;5;124m, \u001B[39m\u001B[38;5;124m\"\u001B[39m\n\u001B[0;32m   1437\u001B[0m         \u001B[38;5;124mf\u001B[39m\u001B[38;5;124m\"\u001B[39m\u001B[38;5;124mright_on=\u001B[39m\u001B[38;5;132;01m{\u001B[39;00mright_on\u001B[38;5;132;01m}\u001B[39;00m\u001B[38;5;124m, \u001B[39m\u001B[38;5;124m\"\u001B[39m\n\u001B[0;32m   1438\u001B[0m         \u001B[38;5;124mf\u001B[39m\u001B[38;5;124m\"\u001B[39m\u001B[38;5;124mleft_index=\u001B[39m\u001B[38;5;132;01m{\u001B[39;00m\u001B[38;5;28mself\u001B[39m\u001B[38;5;241m.\u001B[39mleft_index\u001B[38;5;132;01m}\u001B[39;00m\u001B[38;5;124m, \u001B[39m\u001B[38;5;124m\"\u001B[39m\n\u001B[0;32m   1439\u001B[0m         \u001B[38;5;124mf\u001B[39m\u001B[38;5;124m\"\u001B[39m\u001B[38;5;124mright_index=\u001B[39m\u001B[38;5;132;01m{\u001B[39;00m\u001B[38;5;28mself\u001B[39m\u001B[38;5;241m.\u001B[39mright_index\u001B[38;5;132;01m}\u001B[39;00m\u001B[38;5;124m\"\u001B[39m\n\u001B[0;32m   1440\u001B[0m     )\n\u001B[0;32m   1441\u001B[0m \u001B[38;5;28;01mif\u001B[39;00m (\n\u001B[0;32m   1442\u001B[0m     \u001B[38;5;129;01mnot\u001B[39;00m left_cols\u001B[38;5;241m.\u001B[39mjoin(common_cols, how\u001B[38;5;241m=\u001B[39m\u001B[38;5;124m\"\u001B[39m\u001B[38;5;124minner\u001B[39m\u001B[38;5;124m\"\u001B[39m)\u001B[38;5;241m.\u001B[39mis_unique\n\u001B[0;32m   1443\u001B[0m     \u001B[38;5;129;01mor\u001B[39;00m \u001B[38;5;129;01mnot\u001B[39;00m right_cols\u001B[38;5;241m.\u001B[39mjoin(common_cols, how\u001B[38;5;241m=\u001B[39m\u001B[38;5;124m\"\u001B[39m\u001B[38;5;124minner\u001B[39m\u001B[38;5;124m\"\u001B[39m)\u001B[38;5;241m.\u001B[39mis_unique\n\u001B[0;32m   1444\u001B[0m ):\n\u001B[0;32m   1445\u001B[0m     \u001B[38;5;28;01mraise\u001B[39;00m MergeError(\u001B[38;5;124mf\u001B[39m\u001B[38;5;124m\"\u001B[39m\u001B[38;5;124mData columns not unique: \u001B[39m\u001B[38;5;132;01m{\u001B[39;00m\u001B[38;5;28mrepr\u001B[39m(common_cols)\u001B[38;5;132;01m}\u001B[39;00m\u001B[38;5;124m\"\u001B[39m)\n",
      "\u001B[1;31mMergeError\u001B[0m: No common columns to perform merge on. Merge options: left_on=None, right_on=None, left_index=False, right_index=False"
     ]
    }
   ],
   "source": [
    "# text 정보를 input 으로 주자\n",
    "# user를 latent factor로 만들고?\n",
    "train.merge(tags, '')"
   ],
   "metadata": {
    "collapsed": false,
    "pycharm": {
     "name": "#%%\n"
    }
   }
  },
  {
   "cell_type": "code",
   "execution_count": 29,
   "outputs": [
    {
     "data": {
      "text/plain": "                                tagID                   keyword\n0    602d1305678a8d5fdb372271e980da6a  Amazon Web Services(AWS)\n1    e3251075554389fe91d17a794861d47b                Tensorflow\n2    a1d50185e7426cbb0acad1e6ca74b9aa                    Docker\n3    884d79963bd8bc0ae9b13a1aa71add73                       Git\n4    4122cb13c7a474c1976c9706ae36521d                    Python\n..                                ...                       ...\n882  818f4654ed39a1c147d1e51a00ffb4cb                        활용\n883  7cce53cf90577442771720a370c3c723                    mybais\n884  c2aee86157b4a40b78132f1e71a9e6f1                         *\n885  1fb2a1c37b18aa4611c3949d6148d0f8             Autodesk Maya\n886  5fa9e41bfec0725742cc9d15ef594120                Apache Pig\n\n[887 rows x 2 columns]",
      "text/html": "<div>\n<style scoped>\n    .dataframe tbody tr th:only-of-type {\n        vertical-align: middle;\n    }\n\n    .dataframe tbody tr th {\n        vertical-align: top;\n    }\n\n    .dataframe thead th {\n        text-align: right;\n    }\n</style>\n<table border=\"1\" class=\"dataframe\">\n  <thead>\n    <tr style=\"text-align: right;\">\n      <th></th>\n      <th>tagID</th>\n      <th>keyword</th>\n    </tr>\n  </thead>\n  <tbody>\n    <tr>\n      <th>0</th>\n      <td>602d1305678a8d5fdb372271e980da6a</td>\n      <td>Amazon Web Services(AWS)</td>\n    </tr>\n    <tr>\n      <th>1</th>\n      <td>e3251075554389fe91d17a794861d47b</td>\n      <td>Tensorflow</td>\n    </tr>\n    <tr>\n      <th>2</th>\n      <td>a1d50185e7426cbb0acad1e6ca74b9aa</td>\n      <td>Docker</td>\n    </tr>\n    <tr>\n      <th>3</th>\n      <td>884d79963bd8bc0ae9b13a1aa71add73</td>\n      <td>Git</td>\n    </tr>\n    <tr>\n      <th>4</th>\n      <td>4122cb13c7a474c1976c9706ae36521d</td>\n      <td>Python</td>\n    </tr>\n    <tr>\n      <th>...</th>\n      <td>...</td>\n      <td>...</td>\n    </tr>\n    <tr>\n      <th>882</th>\n      <td>818f4654ed39a1c147d1e51a00ffb4cb</td>\n      <td>활용</td>\n    </tr>\n    <tr>\n      <th>883</th>\n      <td>7cce53cf90577442771720a370c3c723</td>\n      <td>mybais</td>\n    </tr>\n    <tr>\n      <th>884</th>\n      <td>c2aee86157b4a40b78132f1e71a9e6f1</td>\n      <td>*</td>\n    </tr>\n    <tr>\n      <th>885</th>\n      <td>1fb2a1c37b18aa4611c3949d6148d0f8</td>\n      <td>Autodesk Maya</td>\n    </tr>\n    <tr>\n      <th>886</th>\n      <td>5fa9e41bfec0725742cc9d15ef594120</td>\n      <td>Apache Pig</td>\n    </tr>\n  </tbody>\n</table>\n<p>887 rows × 2 columns</p>\n</div>"
     },
     "execution_count": 29,
     "metadata": {},
     "output_type": "execute_result"
    }
   ],
   "source": [
    "tags"
   ],
   "metadata": {
    "collapsed": false,
    "pycharm": {
     "name": "#%%\n"
    }
   }
  },
  {
   "cell_type": "code",
   "execution_count": 33,
   "outputs": [],
   "source": [
    "\n",
    "job_tag = job_tag.merge(tags, on='tagID', how='left')"
   ],
   "metadata": {
    "collapsed": false,
    "pycharm": {
     "name": "#%%\n"
    }
   }
  },
  {
   "cell_type": "code",
   "execution_count": 43,
   "outputs": [
    {
     "data": {
      "text/plain": "                                 jobID                             tagID  \\\n0     320722549d1751cf3f247855f937b982  d38901788c533e8286cb6400b40b386d   \n1     e744f91c29ec99f0e662c9177946c627  3948ead63a9f2944218de038d8934305   \n2     e744f91c29ec99f0e662c9177946c627  0e095e054ee94774d6a496099eb1cf6a   \n3     e820a45f1dfc7b95282d10b6087e11c0  7d771e0e8f3633ab54856925ecdefc5d   \n4     e820a45f1dfc7b95282d10b6087e11c0  6c8dba7d0df1c4a79dd07646be9a26c8   \n...                                ...                               ...   \n3472  b4a528955b84f584974e92d025a75d1f  bb04af0f7ecaee4aae62035497da1387   \n3473  6c8dba7d0df1c4a79dd07646be9a26c8  3bf55bbad370a8fcad1d09b005e278c2   \n3474  6c8dba7d0df1c4a79dd07646be9a26c8  0e9fa1f3e9e66792401a6972d477dcc3   \n3475  6c8dba7d0df1c4a79dd07646be9a26c8  0c048b3a434e49e655c1247efb389cec   \n3476  9f36407ead0629fc166f14dde7970f68  c4851e8e264415c4094e4e85b0baa7cc   \n\n         keyword  \n0           Ruby  \n1        Node.js  \n2     JavaScript  \n3           HTML  \n4         Vue.js  \n...          ...  \n3472         C++  \n3473       Swift  \n3474       Realm  \n3475    Firebase  \n3476         PHP  \n\n[3477 rows x 3 columns]",
      "text/html": "<div>\n<style scoped>\n    .dataframe tbody tr th:only-of-type {\n        vertical-align: middle;\n    }\n\n    .dataframe tbody tr th {\n        vertical-align: top;\n    }\n\n    .dataframe thead th {\n        text-align: right;\n    }\n</style>\n<table border=\"1\" class=\"dataframe\">\n  <thead>\n    <tr style=\"text-align: right;\">\n      <th></th>\n      <th>jobID</th>\n      <th>tagID</th>\n      <th>keyword</th>\n    </tr>\n  </thead>\n  <tbody>\n    <tr>\n      <th>0</th>\n      <td>320722549d1751cf3f247855f937b982</td>\n      <td>d38901788c533e8286cb6400b40b386d</td>\n      <td>Ruby</td>\n    </tr>\n    <tr>\n      <th>1</th>\n      <td>e744f91c29ec99f0e662c9177946c627</td>\n      <td>3948ead63a9f2944218de038d8934305</td>\n      <td>Node.js</td>\n    </tr>\n    <tr>\n      <th>2</th>\n      <td>e744f91c29ec99f0e662c9177946c627</td>\n      <td>0e095e054ee94774d6a496099eb1cf6a</td>\n      <td>JavaScript</td>\n    </tr>\n    <tr>\n      <th>3</th>\n      <td>e820a45f1dfc7b95282d10b6087e11c0</td>\n      <td>7d771e0e8f3633ab54856925ecdefc5d</td>\n      <td>HTML</td>\n    </tr>\n    <tr>\n      <th>4</th>\n      <td>e820a45f1dfc7b95282d10b6087e11c0</td>\n      <td>6c8dba7d0df1c4a79dd07646be9a26c8</td>\n      <td>Vue.js</td>\n    </tr>\n    <tr>\n      <th>...</th>\n      <td>...</td>\n      <td>...</td>\n      <td>...</td>\n    </tr>\n    <tr>\n      <th>3472</th>\n      <td>b4a528955b84f584974e92d025a75d1f</td>\n      <td>bb04af0f7ecaee4aae62035497da1387</td>\n      <td>C++</td>\n    </tr>\n    <tr>\n      <th>3473</th>\n      <td>6c8dba7d0df1c4a79dd07646be9a26c8</td>\n      <td>3bf55bbad370a8fcad1d09b005e278c2</td>\n      <td>Swift</td>\n    </tr>\n    <tr>\n      <th>3474</th>\n      <td>6c8dba7d0df1c4a79dd07646be9a26c8</td>\n      <td>0e9fa1f3e9e66792401a6972d477dcc3</td>\n      <td>Realm</td>\n    </tr>\n    <tr>\n      <th>3475</th>\n      <td>6c8dba7d0df1c4a79dd07646be9a26c8</td>\n      <td>0c048b3a434e49e655c1247efb389cec</td>\n      <td>Firebase</td>\n    </tr>\n    <tr>\n      <th>3476</th>\n      <td>9f36407ead0629fc166f14dde7970f68</td>\n      <td>c4851e8e264415c4094e4e85b0baa7cc</td>\n      <td>PHP</td>\n    </tr>\n  </tbody>\n</table>\n<p>3477 rows × 3 columns</p>\n</div>"
     },
     "execution_count": 43,
     "metadata": {},
     "output_type": "execute_result"
    }
   ],
   "source": [
    "\n",
    "job_tag.groupby(['keyword'])"
   ],
   "metadata": {
    "collapsed": false,
    "pycharm": {
     "name": "#%%\n"
    }
   }
  },
  {
   "cell_type": "code",
   "execution_count": 45,
   "outputs": [],
   "source": [
    "job_tag_grp = job_tag.groupby('jobID')"
   ],
   "metadata": {
    "collapsed": false,
    "pycharm": {
     "name": "#%%\n"
    }
   }
  },
  {
   "cell_type": "code",
   "execution_count": 56,
   "outputs": [],
   "source": [
    "for job_grp in job_tag_grp:\n",
    "    keywords = ' '.join(job_grp[1]['keyword'].values)\n",
    "    job_tag.loc[job_tag.jobID ==job_grp[0],'keywords'] = keywords\n",
    "    break\n"
   ],
   "metadata": {
    "collapsed": false,
    "pycharm": {
     "name": "#%%\n"
    }
   }
  },
  {
   "cell_type": "code",
   "execution_count": null,
   "outputs": [],
   "source": [],
   "metadata": {
    "collapsed": false,
    "pycharm": {
     "name": "#%%\n"
    }
   }
  },
  {
   "cell_type": "code",
   "execution_count": null,
   "outputs": [],
   "source": [
    "# generate grp\n",
    "# 가독성 좋은 코드로\n",
    "#\n",
    "user_tags_merge_grp = user_tags_merge.groupby('userID')\n",
    "# 도메인 지식으로 frontend라고 구분지어도되나\n",
    "for user_grp in user_tags_merge_grp:\n",
    "    print(user_grp)\n",
    "    # 관심사 키워드 유니크값만\n",
    "    interest_keyword = ' '.join(user_grp[1]['keyword'].unique())\n",
    "    user_tags.loc[user_tags.userID ==user_grp[0],'interest_keyword'] = interest_keyword"
   ],
   "metadata": {
    "collapsed": false,
    "pycharm": {
     "name": "#%%\n"
    }
   }
  },
  {
   "cell_type": "code",
   "execution_count": null,
   "outputs": [],
   "source": [],
   "metadata": {
    "collapsed": false,
    "pycharm": {
     "name": "#%%\n"
    }
   }
  },
  {
   "cell_type": "code",
   "execution_count": null,
   "outputs": [],
   "source": [],
   "metadata": {
    "collapsed": false,
    "pycharm": {
     "name": "#%%\n"
    }
   }
  },
  {
   "cell_type": "code",
   "execution_count": 67,
   "outputs": [],
   "source": [
    "tags_index_dict = dict()\n",
    "for i in range(0, len(tags)):\n",
    "    tags_index_dict[tags[\"tagID\"][i]] = i\n"
   ],
   "metadata": {
    "collapsed": false,
    "pycharm": {
     "name": "#%%\n"
    }
   }
  },
  {
   "cell_type": "code",
   "execution_count": 71,
   "outputs": [],
   "source": [
    "size_dict = {\"1-10\": 1, \"11-50\": 2, \"51-100\": 3, \"101-200\": 4, \"201-500\": 5, \"501-1000\": 6, \"1000 이상\": 7}\n",
    "a = 1\n",
    "for k, v in size_dict.items():\n",
    "    m = np.zeros(shape=(8))\n",
    "    m[a] = 1.\n",
    "    size_dict[k] = m\n",
    "    a += 1"
   ],
   "metadata": {
    "collapsed": false,
    "pycharm": {
     "name": "#%%\n"
    }
   }
  },
  {
   "cell_type": "code",
   "execution_count": 73,
   "outputs": [
    {
     "data": {
      "text/plain": "{'1-10': array([0., 1., 0., 0., 0., 0., 0., 0.]),\n '11-50': array([0., 0., 1., 0., 0., 0., 0., 0.]),\n '51-100': array([0., 0., 0., 1., 0., 0., 0., 0.]),\n '101-200': array([0., 0., 0., 0., 1., 0., 0., 0.]),\n '201-500': array([0., 0., 0., 0., 0., 1., 0., 0.]),\n '501-1000': array([0., 0., 0., 0., 0., 0., 1., 0.]),\n '1000 이상': array([0., 0., 0., 0., 0., 0., 0., 1.])}"
     },
     "execution_count": 73,
     "metadata": {},
     "output_type": "execute_result"
    }
   ],
   "source": [],
   "metadata": {
    "collapsed": false,
    "pycharm": {
     "name": "#%%\n"
    }
   }
  },
  {
   "cell_type": "code",
   "execution_count": 74,
   "outputs": [],
   "source": [
    "jobs = data_companies\n",
    "company_one_hot = dict()\n",
    "for i in range(0, len(jobs)):\n",
    "    id = jobs[\"jobID\"][i]\n",
    "    size = jobs[\"companySize\"][i]\n",
    "    if size not in size_dict:\n",
    "        size = np.zeros(shape=(8))\n",
    "        size[0] = 1.\n",
    "    else:\n",
    "        size = size_dict[jobs[\"companySize\"][i]]\n",
    "    company_one_hot[id] = size"
   ],
   "metadata": {
    "collapsed": false,
    "pycharm": {
     "name": "#%%\n"
    }
   }
  },
  {
   "cell_type": "code",
   "execution_count": 77,
   "outputs": [
    {
     "data": {
      "text/plain": "733"
     },
     "execution_count": 77,
     "metadata": {},
     "output_type": "execute_result"
    }
   ],
   "source": [
    "len(company_one_hot.keys())"
   ],
   "metadata": {
    "collapsed": false,
    "pycharm": {
     "name": "#%%\n"
    }
   }
  },
  {
   "cell_type": "code",
   "execution_count": 70,
   "outputs": [
    {
     "data": {
      "text/plain": "887"
     },
     "execution_count": 70,
     "metadata": {},
     "output_type": "execute_result"
    }
   ],
   "source": [
    "len(tags_index_dict.keys())"
   ],
   "metadata": {
    "collapsed": false,
    "pycharm": {
     "name": "#%%\n"
    }
   }
  },
  {
   "cell_type": "code",
   "execution_count": null,
   "outputs": [],
   "source": [],
   "metadata": {
    "collapsed": false,
    "pycharm": {
     "name": "#%%\n"
    }
   }
  },
  {
   "cell_type": "code",
   "execution_count": 78,
   "outputs": [],
   "source": [
    "users =data_user_tag\n",
    "index = 'userID'\n",
    "users_tags_dict= dict()\n",
    "for i in range(0, len(users)):\n",
    "    first = users[index][i]\n",
    "    tagID = users[\"tagID\"][i]\n",
    "\n",
    "    if first not in users_tags_dict:\n",
    "        users_tags_dict[first] = [tagID]\n",
    "    else:\n",
    "        k = users_tags_dict[first]\n",
    "        k.append(tagID)\n",
    "        users_tags_dict[first] = k"
   ],
   "metadata": {
    "collapsed": false,
    "pycharm": {
     "name": "#%%\n"
    }
   }
  },
  {
   "cell_type": "code",
   "execution_count": 82,
   "outputs": [
    {
     "data": {
      "text/plain": "196"
     },
     "execution_count": 82,
     "metadata": {},
     "output_type": "execute_result"
    }
   ],
   "source": [
    "len(users_tags_dict.keys())"
   ],
   "metadata": {
    "collapsed": false,
    "pycharm": {
     "name": "#%%\n"
    }
   }
  },
  {
   "cell_type": "code",
   "execution_count": 83,
   "outputs": [],
   "source": [
    "users =data_jobs\n",
    "index = 'jobID'\n",
    "users_tags_dict= dict()\n",
    "for i in range(0, len(users)):\n",
    "    first = users[index][i]\n",
    "    tagID = users[\"tagID\"][i]\n",
    "\n",
    "    if first not in users_tags_dict:\n",
    "        users_tags_dict[first] = [tagID]\n",
    "    else:\n",
    "        k = users_tags_dict[first]\n",
    "        k.append(tagID)\n",
    "        users_tags_dict[first] = k"
   ],
   "metadata": {
    "collapsed": false,
    "pycharm": {
     "name": "#%%\n"
    }
   }
  },
  {
   "cell_type": "code",
   "execution_count": 85,
   "outputs": [
    {
     "data": {
      "text/plain": "733"
     },
     "execution_count": 85,
     "metadata": {},
     "output_type": "execute_result"
    }
   ],
   "source": [
    "len(users_tags_dict.keys())"
   ],
   "metadata": {
    "collapsed": false,
    "pycharm": {
     "name": "#%%\n"
    }
   }
  },
  {
   "cell_type": "code",
   "execution_count": null,
   "outputs": [],
   "source": [
    "id_one_hot = dict()\n",
    "for key, values in users_tags_dict.items():\n",
    "    # one_hot = [0 for i in range(0, len(tags_index_dict))]\n",
    "    one_hot = np.zeros(shape=(len(tags_index_dict)))\n",
    "    for v in values:\n",
    "        one_hot[tags_index_dict[v]] = 1.\n",
    "    id_one_hot[key] = one_hot"
   ],
   "metadata": {
    "collapsed": false,
    "pycharm": {
     "name": "#%%\n"
    }
   }
  },
  {
   "cell_type": "code",
   "execution_count": 1,
   "outputs": [],
   "source": [
    "import pandas as pd\n",
    "import numpy as np\n",
    "\n",
    "def tags_to_one_hot(tags):\n",
    "    # tag to index\n",
    "    tags_index_dict = dict()\n",
    "    for i in range(0, len(tags)):\n",
    "        tags_index_dict[tags[\"tagID\"][i]] = i\n",
    "    return tags_index_dict\n",
    "\n",
    "def jobs_company_to_one_hot(jobs):\n",
    "    # size to one hot\n",
    "    size_dict = {\"1-10\": 1, \"11-50\": 2, \"51-100\": 3, \"101-200\": 4, \"201-500\": 5, \"501-1000\": 6, \"1000 이상\": 7}\n",
    "    a = 1\n",
    "    for k, v in size_dict.items():\n",
    "        m = np.zeros(shape=(8))\n",
    "        m[a] = 1.\n",
    "        size_dict[k] = m\n",
    "        a += 1\n",
    "\n",
    "    # jobs to one hot\n",
    "    company_one_hot = dict()\n",
    "    for i in range(0, len(jobs)):\n",
    "        id = jobs[\"jobID\"][i]\n",
    "        size = jobs[\"companySize\"][i]\n",
    "        if size not in size_dict:\n",
    "            size = np.zeros(shape=(8))\n",
    "            size[0] = 1.\n",
    "        else:\n",
    "            size = size_dict[jobs[\"companySize\"][i]]\n",
    "        company_one_hot[id] = size\n",
    "    return company_one_hot\n",
    "\n",
    "def id_to_one_hot(tags_index_dict, users, index):\n",
    "    # ids to tag dic\n",
    "    users_tags_dict= dict()\n",
    "    for i in range(0, len(users)):\n",
    "        first = users[index][i]\n",
    "        tagID = users[\"tagID\"][i]\n",
    "\n",
    "        if first not in users_tags_dict:\n",
    "            users_tags_dict[first] = [tagID]\n",
    "        else:\n",
    "            k = users_tags_dict[first]\n",
    "            k.append(tagID)\n",
    "            users_tags_dict[first] = k\n",
    "\n",
    "    # ids to tag one hot\n",
    "    id_one_hot = dict()\n",
    "    for key, values in users_tags_dict.items():\n",
    "        # one_hot = [0 for i in range(0, len(tags_index_dict))]\n",
    "        one_hot = np.zeros(shape=(len(tags_index_dict)))\n",
    "        for v in values:\n",
    "            one_hot[tags_index_dict[v]] = 1.\n",
    "        id_one_hot[key] = one_hot\n",
    "    return id_one_hot\n",
    "\n",
    "data_train = pd.read_csv(\"./train_job/train.csv\")\n",
    "data_user_tag = pd.read_csv(\"./train_job/user_tags.csv\")\n",
    "data_tags = pd.read_csv(\"./train_job/tags.csv\")\n",
    "data_jobs = pd.read_csv(\"./train_job/job_tags.csv\")\n",
    "data_companies = pd.read_csv(\"./train_job/job_companies.csv\")\n",
    "\n",
    "tags_one_hot = tags_to_one_hot(data_tags)\n",
    "users_one_hot = id_to_one_hot(tags_one_hot, data_user_tag, \"userID\")\n",
    "jobs_one_hot = id_to_one_hot(tags_one_hot, data_jobs, \"jobID\")\n",
    "company_one_hot = jobs_company_to_one_hot(data_companies)\n",
    "\n",
    "X = np.empty(shape=(0,1782))\n",
    "Y = np.asarray(data_train[\"applied\"].tolist())\n",
    "for i in range(0, len(data_train)):\n",
    "    all = np.concatenate((users_one_hot[data_train[\"userID\"][i]], jobs_one_hot[data_train[\"jobID\"][i]], company_one_hot[data_train[\"jobID\"][i]]), axis=0)\n",
    "    X = np.append(X, np.array([all]), axis=0)\n",
    "    break\n"
   ],
   "metadata": {
    "collapsed": false,
    "pycharm": {
     "name": "#%%\n"
    }
   }
  },
  {
   "cell_type": "code",
   "execution_count": null,
   "outputs": [],
   "source": [
    "users_one_hot[data_train[\"userID\"][i]]"
   ],
   "metadata": {
    "collapsed": false,
    "pycharm": {
     "name": "#%%\n"
    }
   }
  },
  {
   "cell_type": "code",
   "execution_count": 59,
   "outputs": [
    {
     "data": {
      "text/plain": "array([[0., 0., 1., ..., 0., 0., 0.]])"
     },
     "execution_count": 59,
     "metadata": {},
     "output_type": "execute_result"
    }
   ],
   "source": [
    "X"
   ],
   "metadata": {
    "collapsed": false,
    "pycharm": {
     "name": "#%%\n"
    }
   }
  },
  {
   "cell_type": "code",
   "execution_count": null,
   "outputs": [],
   "source": [
    "users_tags_dict= dict()\n",
    "for i in range(0, len(users)):\n",
    "    first = users[index][i]\n",
    "    tagID = users[\"tagID\"][i]\n",
    "\n",
    "    if first not in users_tags_dict:\n",
    "        users_tags_dict[first] = [tagID]\n",
    "    else:\n",
    "        k = users_tags_dict[first]\n",
    "        k.append(tagID)\n",
    "        users_tags_dict[first] = k"
   ],
   "metadata": {
    "collapsed": false,
    "pycharm": {
     "name": "#%%\n"
    }
   }
  },
  {
   "cell_type": "code",
   "execution_count": null,
   "outputs": [],
   "source": [
    "# one-hot으로 input만들어설계한 모델\n"
   ],
   "metadata": {
    "collapsed": false,
    "pycharm": {
     "name": "#%%\n"
    }
   }
  },
  {
   "cell_type": "code",
   "execution_count": 114,
   "outputs": [
    {
     "name": "stderr",
     "output_type": "stream",
     "text": [
      "\n",
      "KeyboardInterrupt\n",
      "\n"
     ]
    }
   ],
   "source": [
    "import pandas as pd\n",
    "import numpy as np\n",
    "\n",
    "def tags_to_one_hot(tags):\n",
    "    # tag to index\n",
    "    tags_index_dict = dict()\n",
    "    for i in range(0, len(tags)):\n",
    "        tags_index_dict[tags[\"tagID\"][i]] = i\n",
    "    return tags_index_dict\n",
    "\n",
    "def jobs_company_to_one_hot(jobs):\n",
    "    # size to one hot\n",
    "    size_dict = {\"1-10\": 1, \"11-50\": 2, \"51-100\": 3, \"101-200\": 4, \"201-500\": 5, \"501-1000\": 6, \"1000 이상\": 7}\n",
    "    a = 1\n",
    "    for k, v in size_dict.items():\n",
    "        m = np.zeros(shape=(8))\n",
    "        m[a] = 1.\n",
    "        size_dict[k] = m\n",
    "        a += 1\n",
    "\n",
    "    # jobs to one hot\n",
    "    company_one_hot = dict()\n",
    "    for i in range(0, len(jobs)):\n",
    "        id = jobs[\"jobID\"][i]\n",
    "        size = jobs[\"companySize\"][i]\n",
    "        if size not in size_dict:\n",
    "            size = np.zeros(shape=(8))\n",
    "            size[0] = 1.\n",
    "        else:\n",
    "            size = size_dict[jobs[\"companySize\"][i]]\n",
    "        company_one_hot[id] = size\n",
    "    return company_one_hot\n",
    "\n",
    "def id_to_one_hot(tags_index_dict, users, index):\n",
    "    # ids to tag dic\n",
    "    users_tags_dict= dict()\n",
    "    for i in range(0, len(users)):\n",
    "        first = users[index][i]\n",
    "        tagID = users[\"tagID\"][i]\n",
    "\n",
    "        if first not in users_tags_dict:\n",
    "            users_tags_dict[first] = [tagID]\n",
    "        else:\n",
    "            k = users_tags_dict[first]\n",
    "            k.append(tagID)\n",
    "            users_tags_dict[first] = k\n",
    "\n",
    "    # ids to tag one hot\n",
    "    id_one_hot = dict()\n",
    "    for key, values in users_tags_dict.items():\n",
    "        # one_hot = [0 for i in range(0, len(tags_index_dict))]\n",
    "        one_hot = np.zeros(shape=(len(tags_index_dict)))\n",
    "        for v in values:\n",
    "            one_hot[tags_index_dict[v]] = 1.\n",
    "        id_one_hot[key] = one_hot\n",
    "    return id_one_hot\n",
    "\n",
    "data_train = pd.read_csv(\"./train_job/train.csv\")\n",
    "data_user_tag = pd.read_csv(\"./train_job/user_tags.csv\")\n",
    "data_tags = pd.read_csv(\"./train_job/tags.csv\")\n",
    "data_jobs = pd.read_csv(\"./train_job/job_tags.csv\")\n",
    "data_companies = pd.read_csv(\"./train_job/job_companies.csv\")\n",
    "\n",
    "tags_one_hot = tags_to_one_hot(data_tags)\n",
    "users_one_hot = id_to_one_hot(tags_one_hot, data_user_tag, \"userID\")\n",
    "jobs_one_hot = id_to_one_hot(tags_one_hot, data_jobs, \"jobID\")\n",
    "company_one_hot = jobs_company_to_one_hot(data_companies)\n",
    "\n",
    "X = np.empty(shape=(0,1782))\n",
    "Y = np.asarray(data_train[\"applied\"].tolist())\n",
    "for i in range(0, len(data_train)):\n",
    "    all = np.concatenate((users_one_hot[data_train[\"userID\"][i]], jobs_one_hot[data_train[\"jobID\"][i]], company_one_hot[data_train[\"jobID\"][i]]), axis=0)\n",
    "    X = np.append(X, np.array([all]), axis=0)\n"
   ],
   "metadata": {
    "collapsed": false,
    "pycharm": {
     "name": "#%%\n"
    }
   }
  },
  {
   "cell_type": "code",
   "execution_count": 118,
   "outputs": [],
   "source": [
    "users_tags_dict = dict()"
   ],
   "metadata": {
    "collapsed": false,
    "pycharm": {
     "name": "#%%\n"
    }
   }
  },
  {
   "cell_type": "code",
   "execution_count": 119,
   "outputs": [],
   "source": [
    "users = data_user_tag"
   ],
   "metadata": {
    "collapsed": false,
    "pycharm": {
     "name": "#%%\n"
    }
   }
  },
  {
   "cell_type": "code",
   "execution_count": 120,
   "outputs": [],
   "source": [
    "index =\"userID\""
   ],
   "metadata": {
    "collapsed": false,
    "pycharm": {
     "name": "#%%\n"
    }
   }
  },
  {
   "cell_type": "code",
   "execution_count": 123,
   "outputs": [],
   "source": [
    "# ids to tag dic\n",
    "users_tags_dict = dict()\n",
    "for i in range(0, len(users)):\n",
    "    first = users[index][i]\n",
    "    tagID = users['tagID'][i]\n",
    "    break"
   ],
   "metadata": {
    "collapsed": false,
    "pycharm": {
     "name": "#%%\n"
    }
   }
  },
  {
   "cell_type": "code",
   "execution_count": 130,
   "outputs": [],
   "source": [
    "# 유저 별로 태그가 있는 만큼 더한다"
   ],
   "metadata": {
    "collapsed": false,
    "pycharm": {
     "name": "#%%\n"
    }
   }
  },
  {
   "cell_type": "code",
   "execution_count": 131,
   "outputs": [],
   "source": [
    "def id_to_one_hot(tags_index_dict, users, index):\n",
    "    # ids to tag dic\n",
    "    users_tags_dict= dict()\n",
    "    for i in range(0, len(users)):\n",
    "        first = users[index][i]\n",
    "        tagID = users[\"tagID\"][i]\n",
    "\n",
    "        if first not in users_tags_dict:\n",
    "            users_tags_dict[first] = [tagID]\n",
    "        else:\n",
    "            k = users_tags_dict[first]\n",
    "            k.append(tagID)\n",
    "            users_tags_dict[first] = k\n",
    "\n",
    "    # ids to tag one hot\n",
    "    id_one_hot = dict()\n",
    "    for key, values in users_tags_dict.items():\n",
    "        # one_hot = [0 for i in range(0, len(tags_index_dict))]\n",
    "        one_hot = np.zeros(shape=(len(tags_index_dict)))\n",
    "        for v in values:\n",
    "            one_hot[tags_index_dict[v]] = 1.\n",
    "        id_one_hot[key] = one_hot\n",
    "    return id_one_hot\n"
   ],
   "metadata": {
    "collapsed": false,
    "pycharm": {
     "name": "#%%\n"
    }
   }
  },
  {
   "cell_type": "code",
   "execution_count": 132,
   "outputs": [],
   "source": [
    "users_one_hot = id_to_one_hot(tags_one_hot , data_user_tag, \"userID\")"
   ],
   "metadata": {
    "collapsed": false,
    "pycharm": {
     "name": "#%%\n"
    }
   }
  },
  {
   "cell_type": "code",
   "execution_count": 134,
   "outputs": [
    {
     "data": {
      "text/plain": "196"
     },
     "execution_count": 134,
     "metadata": {},
     "output_type": "execute_result"
    }
   ],
   "source": [
    "len(users_one_hot)"
   ],
   "metadata": {
    "collapsed": false,
    "pycharm": {
     "name": "#%%\n"
    }
   }
  },
  {
   "cell_type": "code",
   "execution_count": 141,
   "outputs": [],
   "source": [
    "\n",
    "jobs_one_hot = id_to_one_hot(tags_one_hot , data_jobs, \"jobID\")"
   ],
   "metadata": {
    "collapsed": false,
    "pycharm": {
     "name": "#%%\n"
    }
   }
  },
  {
   "cell_type": "code",
   "execution_count": 145,
   "outputs": [
    {
     "data": {
      "text/plain": "dict"
     },
     "execution_count": 145,
     "metadata": {},
     "output_type": "execute_result"
    }
   ],
   "source": [
    "type(jobs_one_hot)"
   ],
   "metadata": {
    "collapsed": false,
    "pycharm": {
     "name": "#%%\n"
    }
   }
  },
  {
   "cell_type": "code",
   "execution_count": 147,
   "outputs": [
    {
     "data": {
      "text/plain": "dict_keys(['320722549d1751cf3f247855f937b982', 'e744f91c29ec99f0e662c9177946c627', 'e820a45f1dfc7b95282d10b6087e11c0', '53c3bce66e43be4f209556518c2fcb54', 'fd06b8ea02fe5b1c2496fe1700e9d16c', '6e7d2da6d3953058db75714ac400b584', '818f4654ed39a1c147d1e51a00ffb4cb', '019d385eb67632a7e958e23f24bd07d7', '8757150decbd89b0f5442ca3db4d0e0e', '3871bd64012152bfb53fdf04b401193f', '1651cf0d2f737d7adeab84d339dbabd3', '7f975a56c761db6506eca0b37ce6ec87', '66808e327dc79d135ba18e051673d906', '50c3d7614917b24303ee6a220679dab3', '884ce4bb65d328ecb03c598409e2b168', 'b5b41fac0361d157d9673ecb926af5ae', 'ce5140df15d046a66883807d18d0264b', '96b9bff013acedfb1d140579e2fbeb63', 'dc912a253d1e9ba40e2c597ed2376640', '24146db4eb48c718b84cae0a0799dcfc', 'a8ecbabae151abacba7dbde04f761c37', 'c60d060b946d6dd6145dcbad5c4ccf6f', 'e5e63da79fcd2bebbd7cb8bf1c1d0274', '15d4e891d784977cacbfcbb00c48f133', '65cc2c8205a05d7379fa3a6386f710e1', '851ddf5058cf22df63d3344ad89919cf', 'e0c641195b27425bb056ac56f8953d24', '2bcab9d935d219641434683dd9d18a03', '26e359e83860db1d11b6acca57d8ea88', 'ab817c9349cf9c4f6877e1894a1faa00', '25df35de87aa441b88f22a6c2a830a17', '9cc138f8dc04cbf16240daa92d8d50e2', 'cbcb58ac2e496207586df2854b17995f', '82b8a3434904411a9fdc43ca87cee70c', '1e6e0a04d20f50967c64dac2d639a577', 'afd4836712c5e77550897e25711e1d96', 'c4ca4238a0b923820dcc509a6f75849b', '142949df56ea8ae0be8b5306971900a4', '0b8aff0438617c055eb55f0ba5d226fa', '3a029f04d76d32e79367c4b3255dda4d', '8065d07da4a77621450aa84fee5656d9', 'd1f255a373a3cef72e03aa9d980c7eca', 'd58072be2820e8682c0a27c0518e805e', '788d986905533aba051261497ecffcbb', '13f9896df61279c928f19721878fac41', '6364d3f0f495b6ab9dcf8d3b5c6e0b01', '0f840be9b8db4d3fbd5ba2ce59211f55', '1700002963a49da13542e0726b7bb758', '287e03db1d99e0ec2edb90d079e142f3', '58d4d1e7b1e97b258c9ed0b37e02d087', '8b5040a8a5baf3e0e67386c2e3a9b903', '7ce3284b743aefde80ffd9aec500e085', 'aa68c75c4a77c87f97fb686b2f068676', '8f468c873a32bb0619eaeb2050ba45d1', 'b9228e0962a78b84f3d5d92f4faa000b', '8d6dc35e506fc23349dd10ee68dabb64', '5b8add2a5d98b1a652ea7fd72d942dac', 'c51ce410c124a10e0db5e4b97fc2af39', '839ab46820b524afda05122893c2fe8e', 'ba2fd310dcaa8781a9a652a31baf3c68', 'c058f544c737782deacefa532d9add4c', '3d8e28caf901313a554cebc7d32e67e5', 'f387624df552cea2f369918c5e1e12bc', 'c2aee86157b4a40b78132f1e71a9e6f1', '2387337ba1e0b0249ba90f55b2ba2521', 'b83aac23b9528732c23cc7352950e880', 'da0d1111d2dc5d489242e60ebcbaf988', 'df263d996281d984952c07998dc54358', 'a4d2f0d23dcc84ce983ff9157f8b7f88', 'e22312179bf43e61576081a2f250f845', 'c6bff625bdb0393992c9d4db0c6bbe45', 'd840cc5d906c3e9c84374c8919d2074e', '9e3cfc48eccf81a0d57663e129aef3cb', '559cb990c9dffd8675f6bc2186971dc2', '170c944978496731ba71f34c25826a34', 'ccb1d45fb76f7c5a0bf619f979c6cf36', '692f93be8c7a41525c0baf2076aecfb4', 'a34bacf839b923770b2c360eefa26748', '24b16fede9a67c9251d3e7c7161c83ac', '2c89109d42178de8a367c0228f169bf8', '7fa732b517cbed14a48843d74526c11a', 'da8ce53cf0240070ce6c69c48cd588ee', 'fa14d4fe2f19414de3ebd9f63d5c0169', '94c7bb58efc3b337800875b5d382a072', 'ab1a4d0dd4d48a2ba1077c4494791306', '34ed066df378efacc9b924ec161e7639', '2df45244f09369e16ea3f9117ca45157', 'f5f8590cd58a54e94377e6ae2eded4d9', '82489c9737cc245530c7a6ebef3753ec', '6f2268bd1d3d3ebaabb04d6b5d099425', '16c222aa19898e5058938167c8ab6c57', 'd61e4bbd6393c9111e6526ea173a7c8b', 'e0cf1f47118daebc5b16269099ad7347', '754dda4b1ba34c6fa89716b85d68532b', 'c75b6f114c23a4d7ea11331e7c00e73c', '9b698eb3105bd82528f23d0c92dedfc0', '1141938ba2c2b13f5505d7c424ebae5f', 'a01610228fe998f515a72dd730294d87', 'ec5aa0b7846082a2415f0902f0da88f2', '3c7781a36bcd6cf08c11a970fbe0e2a6', '9ab0d88431732957a618d4a469a0d4c3', '299a23a2291e2126b91d54f3601ec162', '7c9d0b1f96aebd7b5eca8c3edaa19ebb', '69421f032498c97020180038fddb8e24', 'fe7ee8fc1959cc7214fa21c4840dff0a', '63923f49e5241343aa7acb6a06a751e7', '860320be12a1c050cd7731794e231bd3', 'abd815286ba1007abfbb8415b83ae2cf', 'b2f627fff19fda463cb386442eac2b3d', '0deb1c54814305ca9ad266f53bc82511', '5c04925674920eb58467fb52ce4ef728', '4ea06fbc83cdd0a06020c35d50e1e89a', 'c7635bfd99248a2cdef8249ef7bfbef4', 'c3e0c62ee91db8dc7382bde7419bb573', 'f3f27a324736617f20abbf2ffd806f6d', '92fb0c6d1758261f10d052e6e2c1123c', 'e46de7e1bcaaced9a54f1e9d0d2f800d', '2cfd4560539f887a5e420412b370b361', '7cce53cf90577442771720a370c3c723', 'e5841df2166dd424a57127423d276bbe', '670e8a43b246801ca1eaca97b3e19189', '0c74b7f78409a4022a2c4c5a5ca3ee19', '5d616dd38211ebb5d6ec52986674b6e4', '4ca82782c5372a547c104929f03fe7a9', 'bbf94b34eb32268ada57a3be5062fe7d', 'ad972f10e0800b49d76fed33a21f6698', 'aba3b6fd5d186d28e06ff97135cade7f', 'e2a2dcc36a08a345332c751b2f2e476c', 'c8c41c4a18675a74e01c8a20e8a0f662', '1cc3633c579a90cfdd895e64021e2163', '9246444d94f081e3549803b928260f56', '704afe073992cbe4813cae2f7715336f', 'b24d516bb65a5a58079f0f3526c87c57', '7bcdf75ad237b8e02e301f4091fb6bc8', '7f5d04d189dfb634e6a85bb9d9adf21e', 'eddb904a6db773755d2857aacadb1cb0', '3a15c7d0bbe60300a39f76f8a5ba6896', 'f5deaeeae1538fb6c45901d524ee2f98', 'b6f0479ae87d244975439c6124592772', 'a7aeed74714116f3b292a982238f83d2', '577bcc914f9e55d5e4e4f82f9f00e7d4', 'd736bb10d83a904aefc1d6ce93dc54b8', '389bc7bb1e1c2a5e7e147703232a88f6', '1c65cef3dfd1e00c0b03923a1c591db4', 'cbb6a3b884f4f88b3a8e3d44c636cbd8', '677e09724f0e2df9b6c000b75b5da10d', '22ac3c5a5bf0b520d281c122d1490650', '6c14da109e294d1e8155be8aa4b1ce8e', 'a284df1155ec3e67286080500df36a9a', 'ddb30680a691d157187ee1cf9e896d03', 'dabd8d2ce74e782c65a973ef76fd540b', '65658fde58ab3c2b6e5132a39fae7cb9', '6c3cf77d52820cd0fe646d38bc2145ca', 'cf67355a3333e6e143439161adc2d82e', '062ddb6c727310e76b6200b7c71f63b5', '8b4066554730ddfaa0266346bdc1b202', '3473decccb0509fb264818a7512a8b9b', 'e19347e1c3ca0c0b97de5fb3b690855a', '0cb929eae7a499e50248a3a78f7acfc7', '872488f88d1b2db54d55bc8bba2fad1b', '13f3cf8c531952d72e5847c4183e6910', '9c01802ddb981e6bcfbec0f0516b8e35', '35cf8659cfcb13224cbd47863a34fc58', '7eacb532570ff6858afd2723755ff790', 'c06d06da9666a219db15cf575aff2824', 'a760880003e7ddedfef56acb3b09697f', '81448138f5f163ccdba4acc69819f280', '4f284803bd0966cc24fa8683a34afc6e', '357a6fdf7642bf815a88822c447d9dc4', '0a0a0c8aaa00ade50f74a3f0ca981ed7', '1068c6e4c8051cfd4e9ea8072e3189e2', '06eb61b839a0cefee4967c67ccb099dc', 'f7f580e11d00a75814d2ded41fe8e8fe', '8a1e808b55fde9455cb3d8857ed88389', '3dc4876f3f08201c7c76cb71fa1da439', '58ae749f25eded36f486bc85feb3f0ab', '82cec96096d4281b7c95cd7e74623496', 'b9141aff1412dc76340b3822d9ea6c72', '00ec53c4682d36f5c4359f4ae7bd7ba1', '42e77b63637ab381e8be5f8318cc28a2', 'e6b4b2a746ed40e1af829d1fa82daa10', '28f0b864598a1291557bed248a998d4e', '11b921ef080f7736089c757404650e40', '7c590f01490190db0ed02a5070e20f01', 'a89cf525e1d9f04d16ce31165e139a4b', '2dace78f80bc92e6d7493423d729448e', '2a9d121cd9c3a1832bb6d2cc6bd7a8a7', '3e89ebdb49f712c7d90d1b39e348bbbf', 'bc6dc48b743dc5d013b1abaebd2faed2', '23ce1851341ec1fa9e0c259de10bf87c', '5ef0b4eba35ab2d6180b0bca7e46b6f9', '19b650660b253761af189682e03501dd', '2f885d0fbe2e131bfc9d98363e55d1d4', '85fc37b18c57097425b52fc7afbb6969', '678a1491514b7f1006d605e9161946b1', 'c3e878e27f52e2a57ace4d9a76fd9acf', '51d92be1c60d1db1d2e5e7a07da55b26', '959a557f5f6beb411fd954f3f34b21c3', '32b30a250abd6331e03a2a1f16466346', '44c4c17332cace2124a1a836d9fc4b6f', '43cca4b3de2097b9558efefd0ecc3588', '92262bf907af914b95a0fc33c3f33bf6', '2421fcb1263b9530df88f7f002e78ea5', '160c88652d47d0be60bfbfed25111412', '185c29dc24325934ee377cfda20e414c', '9c82c7143c102b71c593d98d96093fde', 'e4bb4c5173c2ce17fd8fcd40041c068f', 'fde9264cf376fffe2ee4ddf4a988880d', '941e1aaaba585b952b62c14a3a175a61', '8248a99e81e752cb9b41da3fc43fbe7f', 'ef0d3930a7b6c95bd2b32ed45989c61f', 'c0f168ce8900fa56e57789e2a2f2c9d0', 'eba0dc302bcd9a273f8bbb72be3a687b', 'b2eeb7362ef83deff5c7813a67e14f0a', '10a7cdd970fe135cf4f7bb55c0e3b59f', '71ad16ad2c4d81f348082ff6c4b20768', 'd554f7bb7be44a7267068a7df88ddd20', '39e4973ba3321b80f37d9b55f63ed8b8', '36a1694bce9815b7e38a9dad05ad42e0', '3ad7c2ebb96fcba7cda0cf54a2e802f5', 'a0872cc5b5ca4cc25076f3d868e1bdf8', '2290a7385ed77cc5592dc2153229f082', '647bba344396e7c8170902bcf2e15551', '144a3f71a03ab7c4f46f9656608efdb2', '758874998f5bd0c393da094e1967a72b', '9a96876e2f8f3dc4f3cf45f02c61c0c1', 'a5e0ff62be0b08456fc7f1e88812af3d', '5e388103a391daabe3de1d76a6739ccd', 'ce78d1da254c0843eb23951ae077ff5f', 'a0160709701140704575d499c997b6ca', '97af4fb322bb5c8973ade16764156bed', 'd86ea612dec96096c5e0fcc8dd42ab6d', '2291d2ec3b3048d1a6f86c2c4591b7e0', '2823f4797102ce1a1aec05359cc16dd9', 'c4015b7f368e6b4871809f49debe0579', '6a61d423d02a1c56250dc23ae7ff12f3', '8ce6790cc6a94e65f17f908f462fae85', '8e6b42f1644ecb1327dc03ab345e618b', 'fd2c5e4680d9a01dba3aada5ece22270', 'bea5955b308361a1b07bc55042e25e54', '33e8075e9970de0cfea955afd4644bb2', 'fc49306d97602c8ed1be1dfbf0835ead', '1e056d2b0ebd5c878c550da6ac5d3724', 'b73dfe25b4b8714c029b37a6ad3006fa', '5eac43aceba42c8757b54003a58277b5', '6766aa2750c19aad2fa1b32f36ed4aee', '7e7e69ea3384874304911625ac34321c', '8a3363abe792db2d8761d6403605aeb7', '087408522c31eeb1f982bc0eaf81d35f', 'f4f6dce2f3a0f9dada0c2b5b66452017', '83fa5a432ae55c253d0e60dbfa716723', 'ffeabd223de0d4eacb9a3e6e53e5448d', 'b56a18e0eacdf51aa2a5306b0f533204', 'f4dd765c12f2ef67f98f3558c282a9cd', 'f1c1592588411002af340cbaedd6fc33', '892c91e0a653ba19df81a90f89d99bcd', '4558dbb6f6f8bb2e16d03b85bde76e2c', '3493894fa4ea036cfc6433c3e2ee63b0', '138bb0696595b338afbab333c555292a', '013a006f03dbc5392effeb8f18fda755', 'b0b183c207f46f0cca7dc63b2604f5cc', 'c86a7ee3d8ef0b551ed58e354a836f2b', 'b4288d9c0ec0a1841b3b3728321e7088', 'f4be00279ee2e0a53eafdaa94a151e2c', '1e1d184167ca7676cf665225e236a3d2', '07871915a8107172b3b5dc15a6574ad3', '1b0114c51cc532ed34e1954b5b9e4b58', 'b706835de79a2b4e80506f582af3676a', '4a47d2983c8bd392b120b627e0e1cab4', 'a1d50185e7426cbb0acad1e6ca74b9aa', 'aff1621254f7c1be92f64550478c56e6', '63538fe6ef330c13a05a3ed7e599d5f7', '67f7fb873eaf29526a11a9b7ac33bfac', '147702db07145348245dc5a2f2fe5683', '6e7b33fdea3adc80ebd648fffb665bb8', '8b6dd7db9af49e67306feb59a8bdc52c', 'a8abb4bb284b5b27aa7cb790dc20f80b', '996a7fa078cc36c46d02f9af3bef918b', '076a0c97d09cf1a0ec3e19c7f2529f2b', 'a113c1ecd3cace2237256f4c712f61b5', '31839b036f63806cba3f47b93af8ccb5', 'e97ee2054defb209c35fe4dc94599061', 'f64eac11f2cd8f0efa196f8ad173178e', '6d70cb65d15211726dcce4c0e971e21c', 'e1d5be1c7f2f456670de3d53c7b54f4a', 'c410003ef13d451727aeff9082c29a5c', '7501e5d4da87ac39d782741cd794002d', '43dd49b4fdb9bede653e94468ff8df1e', '877a9ba7a98f75b90a9d49f53f15a858', '4fac9ba115140ac4f1c22da82aa0bc7f', 'abea47ba24142ed16b7d8fbf2c740e0d', '5c936263f3428a40227908d5a3847c0b', '18997733ec258a9fcaf239cc55d53363', 'f1b6f2857fb6d44dd73c7041e0aa0f19', '49ae49a23f67c759bf4fc791ba842aa2', '00e26af6ac3b1c1c49d7c3d79c60d000', '7380ad8a673226ae47fce7bff88e9c33', '3210ddbeaa16948a702b6049b8d9a202', '4e0cb6fb5fb446d1c92ede2ed8780188', 'e5f6ad6ce374177eef023bf5d0c018b6', '47a658229eb2368a99f1d032c8848542', '185e65bc40581880c4f2c82958de8cfe', '192fc044e74dffea144f9ac5dc9f3395', '0537fb40a68c18da59a35c2bfe1ca554', 'd395771085aab05244a4fb8fd91bf4ee', 'b7ee6f5f9aa5cd17ca1aea43ce848496', 'e6cb2a3c14431b55aa50c06529eaa21b', 'efe937780e95574250dabe07151bdc23', 'f8c1f23d6a8d8d7904fc0ea8e066b3bb', 'a1140a3d0df1c81e24ae954d935e8926', 'fccb60fb512d13df5083790d64c4d5dd', 'eb86d510361fc23b59f18c1bc9802cc6', '995e1fda4a2b5f55ef0df50868bf2a8f', '3a835d3215755c435ef4fe9965a3f2a0', '20b5e1cf8694af7a3c1ba4a87f073021', '3b5dca501ee1e6d8cd7b905f4e1bf723', 'a8c88a0055f636e4a163a5e3d16adab7', 'b534ba68236ba543ae44b22bd110a1d6', '54a367d629152b720749e187b3eaa11b', 'c8ed21db4f678f3b13b9d5ee16489088', '04ecb1fa28506ccb6f72b12c0245ddbc', 'ccb0989662211f61edae2e26d58ea92f', '801c14f07f9724229175b8ef8b4585a8', '5737034557ef5b8c02c0e46513b98f90', 'ebd9629fc3ae5e9f6611e2ee05a31cef', 'dd77279f7d325eec933f05b1672f6a1f', 'f85454e8279be180185cac7d243c5eb3', '92c8c96e4c37100777c7190b76d28233', '847cc55b7032108eee6dd897f3bca8a5', 'f90f2aca5c640289d0a29417bcb63a37', '3dd48ab31d016ffcbf3314df2b3cb9ce', '89fcd07f20b6785b92134bd6c1d0fa42', '8e82ab7243b7c66d768f1b8ce1c967eb', 'd7322ed717dedf1eb4e6e52a37ea7bcd', 'b137fdd1f79d56c7edf3365fea7520f2', '70c639df5e30bdee440e4cdf599fec2b', '38ca89564b2259401518960f7a06f94b', '2b6d65b9a9445c4271ab9076ead5605a', '53adaf494dc89ef7196d73636eb2451b', 'c9892a989183de32e976c6f04e700201', '443cb001c138b2561a0d90720d6ce111', 'c6036a69be21cb660499b75718a3ef24', '7f24d240521d99071c93af3917215ef7', 'eefc9e10ebdc4a2333b42b2dbb8f27b6', 'f9b902fc3289af4dd08de5d1de54f68f', '69cb3ea317a32c4e6143e665fdb20b14', '19bc916108fc6938f52cb96f7e087941', '52292e0c763fd027c6eba6b8f494d2eb', 'cd00692c3bfe59267d5ecfac5310286c', 'ffeed84c7cb1ae7bf4ec4bd78275bb98', 'd490d7b4576290fa60eb31b5fc917ad1', 'e7b24b112a44fdd9ee93bdf998c6ca0e', '4f4adcbf8c6f66dcfc8a3282ac2bf10a', '8ebda540cbcc4d7336496819a46a1b68', '2f29b6e3abc6ebdefb55456ea6ca5dc8', 'e17184bcb70dcf3942c54e0b537ffc6d', '1e48c4420b7073bc11916c6c1de226bb', 'd240e3d38a8882ecad8633c8f9c78c9b', 'faa9afea49ef2ff029a833cccc778fd0', '9908279ebbf1f9b250ba689db6a0222b', '46072631582fc240dd2674a7d063b040', 'd045c59a90d7587d8d671b5f5aec4e7c', '1f50893f80d6830d62765ffad7721742', '4a213d37242bdcad8e7300e202e7caa4', 'e3796ae838835da0b6f6ea37bcf8bcb7', '883e881bb4d22a7add958f2d6b052c9f', 'c3992e9a68c5ae12bd18488bc579b30d', 'd93ed5b6db83be78efb0d05ae420158e', 'ef4e3b775c934dada217712d76f3d51f', '39461a19e9eddfb385ea76b26521ea48', 'ffd52f3c7e12435a724a8f30fddadd9c', '15de21c670ae7c3f6f3f1f37029303c9', '4d5b995358e7798bc7e9d9db83c612a5', 'cd89fef7ffdd490db800357f47722b20', '310dcbbf4cce62f762a2aaa148d556bd', '53c04118df112c13a8c34b38343b9c10', '17326d10d511828f6b34fa6d751739e2', 'f73b76ce8949fe29bf2a537cfa420e8f', '93d65641ff3f1586614cf2c1ad240b6c', 'f4573fc71c731d5c362f0d7860945b88', 'eddea82ad2755b24c4e168c5fc2ebd40', 'd296c101daa88a51f6ca8cfc1ac79b50', '7750ca3559e5b8e1f44210283368fc16', '3b712de48137572f3849aabd5666a4e3', '8c6744c9d42ec2cb9e8885b54ff744d0', '428fca9bc1921c25c5121f9da7815cde', '430c3626b879b4005d41b8a46172e0c0', 'c22abfa379f38b5b0411bc11fa9bf92f', '2d6cc4b2d139a53512fb8cbb3086ae2e', '71f6278d140af599e06ad9bf1ba03cb0', 'dc6a70712a252123c40d2adba6a11d84', '98d6f58ab0dafbb86b083a001561bb34', '0eec27c419d0fe24e53c90338cdc8bc6', '27ed0fb950b856b06e1273989422e7d3', '9b72e31dac81715466cd580a448cf823', '2715518c875999308842e3455eda2fe3', 'fed33392d3a48aa149a87a38b875ba4a', '491442df5f88c6aa018e86dac21d3606', 'aa169b49b583a2b5af89203c2b78c67c', '92977ae4d2ba21425a59afb269c2a14e', '5ec91aac30eae62f4140325d09b9afd0', '8d34201a5b85900908db6cae92723617', '4588e674d3f0faf985047d4c3f13ed0d', '1587965fb4d4b5afe8428a4a024feb0d', '58238e9ae2dd305d79c2ebc8c1883422', '8d3bba7425e7c98c50f52ca1b52d3735', '6aab1270668d8cac7cef2566a1c5f569', 'dc82d632c9fcecb0778afbc7924494a6', '97e8527feaf77a97fc38f34216141515', '218a0aefd1d1a4be65601cc6ddc1520e', '3fe78a8acf5fda99de95303940a2420c', '884d79963bd8bc0ae9b13a1aa71add73', '26337353b7962f533d78c762373b3318', '8597a6cfa74defcbde3047c891d78f90', '3eb71f6293a2a31f3569e10af6552658', '2afe4567e1bf64d32a5527244d104cea', 'db85e2590b6109813dafa101ceb2faeb', '9232fe81225bcaef853ae32870a2b0fe', '53fde96fcc4b4ce72d7739202324cd49', '621461af90cadfdaf0e8d4cc25129f91', '33ceb07bf4eeb3da587e268d663aba1a', '352407221afb776e3143e8a1a0577885', '6cfe0e6127fa25df2a0ef2ae1067d915', '9996535e07258a7bbfd8b132435c5962', '0188e8b8b014829e2fa0f430f0a95961', '17d63b1625c816c22647a73e1482372b', 'f9a40a4780f5e1306c46f1c8daecee3b', 'd2ed45a52bc0edfa11c2064e9edee8bf', 'd6723e7cd6735df68d1ce4c704c29a04', 'cf004fdc76fa1a4f25f62e0eb5261ca3', 'ae5e3ce40e0404a45ecacaaf05e5f735', 'ff4d5fbbafdf976cfdc032e3bde78de5', 'af21d0c97db2e27e13572cbf59eb343d', 'a96b65a721e561e1e3de768ac819ffbb', '81e74d678581a3bb7a720b019f4f1a93', 'b056eb1587586b71e2da9acfe4fbd19e', '2bb232c0b13c774965ef8558f0fbd615', 'b6a1085a27ab7bff7550f8a3bd017df8', 'aa942ab2bfa6ebda4840e7360ce6e7ef', 'fe709c654eac84d5239d1a12a4f71877', '3cef96dcc9b8035d23f69e30bb19218a', 'caf1a3dfb505ffed0d024130f58c5cfa', '3948ead63a9f2944218de038d8934305', '0d0fd7c6e093f7b804fa0150b875b868', '9fd81843ad7f202f26c1a174c7357585', '286674e3082feb7e5afb92777e48821f', '8d317bdcf4aafcfc22149d77babee96d', 'dd458505749b2941217ddd59394240e8', '550a141f12de6341fba65b0ad0433500', '2de5d16682c3c35007e4e92982f1a2ba', 'f2fc990265c712c49d51a18a32b39f0c', 'b7b16ecf8ca53723593894116071700c', '8fe0093bb30d6f8c31474bd0764e6ac0', 'd516b13671a4179d9b7b458a6ebdeb92', 'cc1aa436277138f61cda703991069eaf', '07c5807d0d927dcd0980f86024e5208b', '1ce927f875864094e3906a4a0b5ece68', '55b37c5c270e5d84c793e486d798c01d', '66368270ffd51418ec58bd793f2d9b1b', 'fb7b9ffa5462084c5f4e7e85a093e6d7', '8efb100a295c0c690931222ff4467bb8', '58e4d44e550d0f7ee0a23d6b02d9b0db', '69a5b5995110b36a9a347898d97a610e', '2b8a61594b1f4c4db0902a8a395ced93', 'd64a340bcb633f536d56e51874281454', '9fe8593a8a330607d76796b35c64c600', '298f95e1bf9136124592c8d4825a06fc', '816b112c6105b3ebd537828a39af4818', 'f33ba15effa5c10e873bf3842afb46a6', 'aace49c7d80767cffec0e513ae886df0', 'fc2c7c47b918d0c2d792a719dfb602ef', '09c6c3783b4a70054da74f2538ed47c6', '5a4b25aaed25c2ee1b74de72dc03c14e', 'dc87c13749315c7217cdc4ac692e704c', 'afdec7005cc9f14302cd0474fd0f3c96', '84d2004bf28a2095230e8e14993d398d', '208e43f0e45c4c78cafadb83d2888cb6', '37f0e884fbad9667e38940169d0a3c95', '4e4e53aa080247bc31d0eb4e7aeb07a0', 'eaae339c4d89fc102edd9dbdb6a28915', 'b20bb95ab626d93fd976af958fbc61ba', '0bb4aec1710521c12ee76289d9440817', 'f7cade80b7cc92b991cf4d2806d6bd78', '36a16a2505369e0c922b6ea7a23a56d2', 'c9f95a0a5af052bffce5c89917335f67', '9cf81d8026a9018052c429cc4e56739b', 'b86e8d03fe992d1b0e19656875ee557c', '4da04049a062f5adfe81b67dd755cecc', 'b55ec28c52d5f6205684a473a2193564', 'd34ab169b70c9dcd35e62896010cd9ff', 'ca75910166da03ff9d4655a0338e6b09', '210f760a89db30aa72ca258a3483cc7f', 'c54e7837e0cd0ced286cb5995327d1ab', '7504adad8bb96320eb3afdd4df6e1f60', 'fba9d88164f3e2d9109ee770223212a0', '288cc0ff022877bd3df94bc9360b9c5d', '8bf1211fd4b7b94528899de0a43b9fb3', 'c3c59e5f8b3e9753913f4d435b53c308', 'e1e32e235eee1f970470a3a6658dfdd5', 'f197002b9a0853eca5e046d9ca4663d5', 'c8ba76c279269b1c6bc8a07e38e78fa4', '64223ccf70bbb65a3a4aceac37e21016', 'e515df0d202ae52fcebb14295743063b', '9431c87f273e507e6040fcb07dcb4509', '1a5b1e4daae265b790965a275b53ae50', 'a8849b052492b5106526b2331e526138', 'c399862d3b9d6b76c8436e924a68c45b', '069d3bb002acd8d7dd095917f9efe4cb', '00ac8ed3b4327bdd4ebbebcb2ba10a00', 'a01a0380ca3c61428c26a231f0e49a09', '7dcd340d84f762eba80aa538b0c527f7', '1fc214004c9481e4c8073e85323bfd4b', '41bfd20a38bb1b0bec75acf0845530a7', '021bbc7ee20b71134d53e20206bd6feb', '07563a3fe3bbe7e3ba84431ad9d055af', '2ba596643cbbbc20318224181fa46b28', 'f61d6947467ccd3aa5af24db320235dd', 'd9fc5b73a8d78fad3d6dffe419384e70', '10a5ab2db37feedfdeaab192ead4ac0e', '2b38c2df6a49b97f706ec9148ce48d86', '41ae36ecb9b3eee609d05b90c14222fb', 'dc4c44f624d600aa568390f1f1104aa0', 'a3fb4fbf9a6f9cf09166aa9c20cbc1ad', '9da187a7a191431db943a9a5a6fec6f4', '67d16d00201083a2b118dd5128dd6f59', 'f93882cbd8fc7fb794c1011d63be6fb6', '0fcbc61acd0479dc77e3cccc0f5ffca7', '298923c8190045e91288b430794814c4', 'b495ce63ede0f4efc9eec62cb947c162', '1aa48fc4880bb0c9b8a3bf979d3b917e', '68d13cf26c4b4f4f932e3eff990093ba', '8dd48d6a2e2cad213179a3992c0be53c', 'b9d487a30398d42ecff55c228ed5652b', '766d856ef1a6b02f93d894415e6bfa0e', 'dc5689792e08eb2e219dce49e64c885b', '6ecbdd6ec859d284dc13885a37ce8d81', 'a49e9411d64ff53eccfdd09ad10a15b3', 'df0aab058ce179e4f7ab135ed4e641a9', 'd8700cbd38cc9f30cecb34f0c195b137', 'a8240cb8235e9c493a0c30607586166c', '7250eb93b3c18cc9daa29cf58af7a004', '99c5e07b4d5de9d18c350cdf64c5aa3d', 'fe8c15fed5f808006ce95eddb7366e35', '25b2822c2f5a3230abfadd476e8b04c9', '6b180037abbebea991d8b1232f8a8ca9', '5807a685d1a9ab3b599035bc566ce2b9', 'bf62768ca46b6c3b5bea9515d1a1fc45', '051e4e127b92f5d98d3c79b195f2b291', '371bce7dc83817b7893bcdeed13799b5', '6855456e2fe46a9d49d3d3af4f57443d', '9dfcd5e558dfa04aaf37f137a1d9d3e5', '4e2545f819e67f0615003dd7e04a6087', 'f2201f5191c4e92cc5af043eebfd0946', '258be18e31c8188555c2ff05b4d542c3', 'd94e18a8adb4cc0f623f7a83b1ac75b4', '16e6a3326dd7d868cbc926602a61e4d0', 'df877f3865752637daa540ea9cbc474f', '7f1171a78ce0780a2142a6eb7bc4f3c8', '0ff39bbbf981ac0151d340c9aa40e63e', '85422afb467e9456013a2a51d4dff702', '84f7e69969dea92a925508f7c1f9579a', '06997f04a7db92466a2baa6ebc8b872d', '45645a27c4f1adc8a7a835976064a86d', '168908dd3227b8358eababa07fcaf091', '301ad0e3bd5cb1627a2044908a42fdc2', '24896ee4c6526356cc127852413ea3b4', '1896a3bf730516dd643ba67b4c447d36', '5e9f92a01c986bafcabbafd145520b13', 'b3967a0e938dc2a6340e258630febd5a', 'ab233b682ec355648e7891e66c54191b', '193002e668758ea9762904da1a22337c', 'b59c67bf196a4758191e42f76670ceba', '7bccfde7714a1ebadf06c5f4cea752c1', 'd79aac075930c83c2f1e369a511148fe', '0efe32849d230d7f53049ddc4a4b0c60', '024d7f84fff11dd7e8d9c510137a2381', 'e702e51da2c0f5be4dd354bb3e295d37', '11b9842e0a271ff252c1903e7132cd68', 'b8c37e33defde51cf91e1e03e51657da', '1c1d4df596d01da60385f0bb17a4a9e0', '456ac9b0d15a8b7f1e71073221059886', 'ef575e8837d065a1683c022d2077d342', 'e8c0653fea13f91bf3c48159f7c24f78', '5680522b8e2bb01943234bce7bf84534', '303ed4c69846ab36c2904d3ba8573050', '470e7a4f017a5476afb7eeb3f8b96f9b', 'a02ffd91ece5e7efeb46db8f10a74059', 'bdb106a0560c4e46ccc488ef010af787', 'fb89705ae6d743bf1e848c206e16a1d7', '291597a100aadd814d197af4f4bab3a7', 'b51a15f382ac914391a58850ab343b00', '7d04bbbe5494ae9d2f5a76aa1c00fa2f', '632cee946db83e7a52ce5e8d6f0fed35', 'fa3a3c407f82377f55c19c5d403335c7', '88ae6372cfdc5df69a976e893f4d554b', 'a9eb812238f753132652ae09963a05e9', '74bba22728b6185eec06286af6bec36d', 'd7a728a67d909e714c0774e22cb806f2', 'f29b38f160f87ae86df31cee1982066f', '821fa74b50ba3f7cba1e6c53e8fa6845', '4daa3db355ef2b0e64b472968cb70f0d', '2050e03ca119580f74cca14cc6e97462', 'dbe272bab69f8e13f14b405e038deb64', '437d7d1d97917cd627a34a6a0fb41136', 'd81f9c1be2e08964bf9f24b15f0e4900', '918317b57931b6b7a7d29490fe5ec9f9', '6a2feef8ed6a9fe76d6b3f30f02150b4', 'df7f28ac89ca37bf1abd2f6c184fe1cf', 'bca82e41ee7b0833588399b1fcd177c7', '8d7d8ee069cb0cbbf816bbb65d56947e', 'ae0eb3eed39d2bcef4622b2499a05fe6', '3df1d4b96d8976ff5986393e8767f5b2', '96ea64f3a1aa2fd00c72faacf0cb8ac9', '37bc2f75bf1bcfe8450a1a41c200364c', '7eb3c8be3d411e8ebfab08eba5f49632', '55a7cf9c71f1c9c495413f934dd1a158', 'c6e19e830859f2cb9f7c8f8cacb8d2a6', '912d2b1c7b2826caf99687388d2e8f7c', 'bbcbff5c1f1ded46c25d28119a85c6c2', '3bf55bbad370a8fcad1d09b005e278c2', 'c5ab0bc60ac7929182aadd08703f1ec6', 'e7f8a7fb0b77bcb3b283af5be021448f', '4f16c818875d9fcb6867c7bdc89be7eb', 'e49b8b4053df9505e1f48c3a701c0682', '1905aedab9bf2477edc068a355bba31a', '81dc9bdb52d04dc20036dbd8313ed055', '5f0f5e5f33945135b874349cfbed4fb9', '18d8042386b79e2c279fd162df0205c8', '22fb0cee7e1f3bde58293de743871417', '854d9fca60b4bd07f9bb215d59ef5561', '7940ab47468396569a906f75ff3f20ef', '90794e3b050f815354e3e29e977a88ab', '6ea2ef7311b482724a9b7b0bc0dd85c6', '598b3e71ec378bd83e0a727608b5db01', 'b3ba8f1bee1238a2f37603d90b58898d', '285ab9448d2751ee57ece7f762c39095', '75fc093c0ee742f6dddaa13fff98f104', 'c667d53acd899a97a85de0c201ba99be', '9b70e8fe62e40c570a322f1b0b659098', 'b7bb35b9c6ca2aee2df08cf09d7016c2', '944bdd9636749a0801c39b6e449dbedc', '4b0a59ddf11c58e7446c9df0da541a84', 'c32d9bf27a3da7ec8163957080c8628e', 'e0ec453e28e061cc58ac43f91dc2f3f0', '4311359ed4969e8401880e3c1836fbe1', '310ce61c90f3a46e340ee8257bc70e93', '285f89b802bcb2651801455c86d78f2a', '7b13b2203029ed80337f27127a9f1d28', '71a3cb155f8dc89bf3d0365288219936', '0c048b3a434e49e655c1247efb389cec', 'e034fb6b66aacc1d48f445ddfb08da98', 'c21002f464c5fc5bee3b98ced83963b8', '905056c1ac1dad141560467e0a99e1cf', '38913e1d6a7b94cb0f55994f679f5956', 'd38901788c533e8286cb6400b40b386d', 'e555ebe0ce426f7f9b2bef0706315e0c', '4f6ffe13a5d75b2d6a3923922b3922e5', 'ab88b15733f543179858600245108dd8', '43baa6762fa81bb43b39c62553b2970d', '26588e932c7ccfa1df309280702fe1b5', 'df6d2338b2b8fce1ec2f6dda0a630eb0', '13f320e7b5ead1024ac95c3b208610db', '9f53d83ec0691550f7d2507d57f4f5a2', '7a53928fa4dd31e82c6ef826f341daec', '4b6538a44a1dfdc2b83477cd76dee98e', 'a1519de5b5d44b31a01de013b9b51a80', 'dc58e3a306451c9d670adcd37004f48f', '89f0fd5c927d466d6ec9a21b9ac34ffa', 'a9078e8653368c9c291ae2f8b74012e7', 'a2137a2ae8e39b5002a3f8909ecb88fe', '6395ebd0f4b478145ecfbaf939454fa4', 'e3251075554389fe91d17a794861d47b', '5ea1649a31336092c05438df996a3e59', '7fec306d1e665bc9c748b5d2b99a6e97', '01f78be6f7cad02658508fe4616098a9', 'c1e39d912d21c91dce811d6da9929ae8', '53e3a7161e428b65688f14b84d61c610', '6c340f25839e6acdc73414517203f5f0', '0d7de1aca9299fe63f3e0041f02638a3', '68053af2923e00204c3ca7c6a3150cf7', '7bb060764a818184ebb1cc0d43d382aa', '68264bdb65b97eeae6788aa3348e553c', 'bb04af0f7ecaee4aae62035497da1387', '3a0772443a0739141292a5429b952fe6', '535ab76633d94208236a2e829ea6d888', '68ce199ec2c5517597ce0a4d89620f55', '3f67fd97162d20e6fe27748b5b372509', 'd707329bece455a462b58ce00d1194c9', '7634ea65a4e6d9041cfd3f7de18e334a', 'ca9c267dad0305d1a6308d2a0cf1c39c', '26dd0dbc6e3f4c8043749885523d6a25', '31857b449c407203749ae32dd0e7d64a', '3435c378bb76d4357324dd7e69f3cd18', 'db576a7d2453575f29eab4bac787b919', '250cf8b51c773f3f8dc8b4be867a9a02', 'addfa9b7e234254d26e9c7f2af1005cb', '995665640dc319973d3173a74a03860c', '68a83eeb494a308fe5295da69428a507', 'f91e24dfe80012e2a7984afa4480a6d6', 'a58149d355f02887dfbe55ebb2b64ba3', 'dc6a6489640ca02b0d42dabeb8e46bb7', '31b3b31a1c2f8a370206f111127c0dbd', 'a51fb975227d6640e4fe47854476d133', 'd5cfead94f5350c12c322b5b664544c1', '5487315b1286f907165907aa8fc96619', '4079016d940210b4ae9ae7d41c4a2065', 'e44fea3bec53bcea3b7513ccef5857ac', 'c042f4db68f23406c6cecf84a7ebb0fe', '74071a673307ca7459bcf75fbd024e09', 'b4a528955b84f584974e92d025a75d1f', '6c8dba7d0df1c4a79dd07646be9a26c8', '9f36407ead0629fc166f14dde7970f68', 'd709f38ef758b5066ef31b18039b8ce5', '16a5cdae362b8d27a1d8f8c7b78b4330', 'f0e52b27a7a5d6a1a87373dffa53dbe5', '1be3bc32e6564055d5ca3e5a354acbef', '41f1f19176d383480afa65d325c06ed0', 'f79921bbae40a577928b76d2fc3edc2a', 'c5ff2543b53f4cc0ad3819a36752467b', 'cd758e8f59dfdf06a852adad277986ca', '55743cc0393b1cb4b8b37d09ae48d097', 'e2230b853516e7b05d79744fbd4c9c13', 'e6d8545daa42d5ced125a4bf747b3688', 'f74909ace68e51891440e4da0b65a70c', '934815ad542a4a7c5e8a2dfa04fea9f5', '2f55707d4193dc27118a0f19a1985716', 'fae0b27c451c728867a567e8c1bb4e53', '9a3d458322d70046f63dfd8b0153ece4', 'c203d8a151612acf12457e4d67635a95', '6e2713a6efee97bacb63e52c54f0ada0', 'b5dc4e5d9b495d0196f61d45b26ef33e', '1bb91f73e9d31ea2830a5e73ce3ed328', '05f971b5ec196b8c65b75d2ef8267331'])"
     },
     "execution_count": 147,
     "metadata": {},
     "output_type": "execute_result"
    }
   ],
   "source": [
    "jobs_one_hot.keys()"
   ],
   "metadata": {
    "collapsed": false,
    "pycharm": {
     "name": "#%%\n"
    }
   }
  },
  {
   "cell_type": "code",
   "execution_count": 153,
   "outputs": [
    {
     "data": {
      "text/plain": "733"
     },
     "execution_count": 153,
     "metadata": {},
     "output_type": "execute_result"
    }
   ],
   "source": [
    "len(data_jobs['jobID'].unique())"
   ],
   "metadata": {
    "collapsed": false,
    "pycharm": {
     "name": "#%%\n"
    }
   }
  },
  {
   "cell_type": "code",
   "execution_count": 154,
   "outputs": [
    {
     "data": {
      "text/plain": "240"
     },
     "execution_count": 154,
     "metadata": {},
     "output_type": "execute_result"
    }
   ],
   "source": [
    "len(data_jobs['tagID'].unique())"
   ],
   "metadata": {
    "collapsed": false,
    "pycharm": {
     "name": "#%%\n"
    }
   }
  },
  {
   "cell_type": "code",
   "execution_count": 150,
   "outputs": [
    {
     "data": {
      "text/plain": "887"
     },
     "execution_count": 150,
     "metadata": {},
     "output_type": "execute_result"
    }
   ],
   "source": [
    "len(jobs_one_hot['05f971b5ec196b8c65b75d2ef8267331'])"
   ],
   "metadata": {
    "collapsed": false,
    "pycharm": {
     "name": "#%%\n"
    }
   }
  },
  {
   "cell_type": "code",
   "execution_count": 163,
   "outputs": [],
   "source": [
    "tags_one_hot = tags_to_one_hot(data_tags)"
   ],
   "metadata": {
    "collapsed": false,
    "pycharm": {
     "name": "#%%\n"
    }
   }
  },
  {
   "cell_type": "code",
   "execution_count": 160,
   "outputs": [],
   "source": [
    "tags_index_dict = tags_one_hot"
   ],
   "metadata": {
    "collapsed": false,
    "pycharm": {
     "name": "#%%\n"
    }
   }
  },
  {
   "cell_type": "code",
   "execution_count": 164,
   "outputs": [],
   "source": [
    "users = data_jobs"
   ],
   "metadata": {
    "collapsed": false,
    "pycharm": {
     "name": "#%%\n"
    }
   }
  },
  {
   "cell_type": "code",
   "execution_count": 169,
   "outputs": [],
   "source": [
    "index = 'jobID'"
   ],
   "metadata": {
    "collapsed": false,
    "pycharm": {
     "name": "#%%\n"
    }
   }
  },
  {
   "cell_type": "code",
   "execution_count": 170,
   "outputs": [],
   "source": [
    "users_tags_dict  =  dict()\n",
    "for i in range(0, len(users)):\n",
    "    first = users[index][i]\n",
    "    tagID = users[\"tagID\"][i]\n",
    "    if first not in users_tags_dict:\n",
    "        users_tags_dict[first ] = [tagID]\n",
    "    else:\n",
    "        k = users_tags_dict[first]\n",
    "        k.append(tagID)\n",
    "\n",
    "        users_tags_dict[first] = k"
   ],
   "metadata": {
    "collapsed": false,
    "pycharm": {
     "name": "#%%\n"
    }
   }
  },
  {
   "cell_type": "code",
   "execution_count": 174,
   "outputs": [
    {
     "data": {
      "text/plain": "733"
     },
     "execution_count": 174,
     "metadata": {},
     "output_type": "execute_result"
    }
   ],
   "source": [
    "len(users_tags_dict.keys())"
   ],
   "metadata": {
    "collapsed": false,
    "pycharm": {
     "name": "#%%\n"
    }
   }
  },
  {
   "cell_type": "code",
   "execution_count": 194,
   "outputs": [
    {
     "data": {
      "text/plain": "733"
     },
     "execution_count": 194,
     "metadata": {},
     "output_type": "execute_result"
    }
   ],
   "source": [
    "# data_jobs['jobID']의 unique id 733개에 태그들에 one_hot value 적용\n",
    "len(data_jobs['jobID'].unique())"
   ],
   "metadata": {
    "collapsed": false,
    "pycharm": {
     "name": "#%%\n"
    }
   }
  },
  {
   "cell_type": "code",
   "execution_count": 175,
   "outputs": [],
   "source": [
    "id_one_hot = dict()\n",
    "for key, values in users_tags_dict.items():\n",
    "    one_hot = np.zeros(shape=(len(tags_index_dict)))\n",
    "    for v in values:\n",
    "        one_hot[tags_index_dict[v]] =1.\n",
    "    id_one_hot[key] = one_hot\n"
   ],
   "metadata": {
    "collapsed": false,
    "pycharm": {
     "name": "#%%\n"
    }
   }
  },
  {
   "cell_type": "code",
   "execution_count": 179,
   "outputs": [
    {
     "data": {
      "text/plain": "887"
     },
     "execution_count": 179,
     "metadata": {},
     "output_type": "execute_result"
    }
   ],
   "source": [
    "len(id_one_hot.keys())\n",
    "len(id_one_hot['7bb060764a818184ebb1cc0d43d382aa'])"
   ],
   "metadata": {
    "collapsed": false,
    "pycharm": {
     "name": "#%%\n"
    }
   }
  },
  {
   "cell_type": "code",
   "execution_count": 186,
   "outputs": [
    {
     "data": {
      "text/plain": "196"
     },
     "execution_count": 186,
     "metadata": {},
     "output_type": "execute_result"
    }
   ],
   "source": [
    "len(data_user_tag['userID'].unique())"
   ],
   "metadata": {
    "collapsed": false,
    "pycharm": {
     "name": "#%%\n"
    }
   }
  },
  {
   "cell_type": "code",
   "execution_count": 188,
   "outputs": [],
   "source": [
    "users = data_user_tag\n",
    "index = 'userID'\n",
    "\n",
    "users_tags_dict  =  dict()\n",
    "for i in range(0, len(users)):\n",
    "    first = users[index][i]\n",
    "    tagID = users[\"tagID\"][i]\n",
    "    if first not in users_tags_dict:\n",
    "        users_tags_dict[first ] = [tagID]\n",
    "    else:\n",
    "        k = users_tags_dict[first]\n",
    "        k.append(tagID)\n",
    "\n",
    "        users_tags_dict[first] = k"
   ],
   "metadata": {
    "collapsed": false,
    "pycharm": {
     "name": "#%%\n"
    }
   }
  },
  {
   "cell_type": "code",
   "execution_count": 190,
   "outputs": [
    {
     "data": {
      "text/plain": "196"
     },
     "execution_count": 190,
     "metadata": {},
     "output_type": "execute_result"
    }
   ],
   "source": [
    "len(users_tags_dict.keys())"
   ],
   "metadata": {
    "collapsed": false,
    "pycharm": {
     "name": "#%%\n"
    }
   }
  },
  {
   "cell_type": "code",
   "execution_count": 191,
   "outputs": [],
   "source": [
    "id_one_hot = dict()\n",
    "for key, values in users_tags_dict.items():\n",
    "    one_hot = np.zeros(shape=(len(tags_index_dict)))\n",
    "    for v in values:\n",
    "        one_hot[tags_index_dict[v]] =1.\n",
    "    id_one_hot[key] = one_hot"
   ],
   "metadata": {
    "collapsed": false,
    "pycharm": {
     "name": "#%%\n"
    }
   }
  },
  {
   "cell_type": "code",
   "execution_count": 193,
   "outputs": [
    {
     "data": {
      "text/plain": "196"
     },
     "execution_count": 193,
     "metadata": {},
     "output_type": "execute_result"
    }
   ],
   "source": [
    "# unique user id 196 개에 태그들을 이어 붙여 원-핫인코딩으로 생성 (x\n",
    "# 각 태그를 원핫인코딩으로 생성하고 각 태그를 userid와 jobid에서의 keyword를 join하여 one-hot-encoding으로 사용한다\n",
    "\n",
    "len(id_one_hot.keys())"
   ],
   "metadata": {
    "collapsed": false,
    "pycharm": {
     "name": "#%%\n"
    }
   }
  },
  {
   "cell_type": "code",
   "execution_count": 196,
   "outputs": [
    {
     "data": {
      "text/plain": "887"
     },
     "execution_count": 196,
     "metadata": {},
     "output_type": "execute_result"
    }
   ],
   "source": [
    "len(id_one_hot['15d84e9a5eceb67bcb8fb0e8c839a903'])"
   ],
   "metadata": {
    "collapsed": false,
    "pycharm": {
     "name": "#%%\n"
    }
   }
  },
  {
   "cell_type": "code",
   "execution_count": 200,
   "outputs": [
    {
     "data": {
      "text/plain": "'fe292163d06253b716e9a0099b42031d'"
     },
     "execution_count": 200,
     "metadata": {},
     "output_type": "execute_result"
    }
   ],
   "source": [
    "data_train['userID'][0]"
   ],
   "metadata": {
    "collapsed": false,
    "pycharm": {
     "name": "#%%\n"
    }
   }
  },
  {
   "cell_type": "code",
   "execution_count": 206,
   "outputs": [
    {
     "data": {
      "text/plain": "array([0., 0., 1., 0., 1., 0., 0., 1., 0., 0., 0., 0., 0., 0., 0., 1., 0.,\n       1., 0., 0., 0., 0., 0., 0., 0., 0., 0., 1., 0., 0., 0., 0., 0., 0.,\n       1., 1., 0., 0., 0., 0., 0., 0., 0., 0., 1., 0., 0., 0., 0., 0., 0.,\n       0., 0., 0., 0., 0., 0., 0., 0., 0., 0., 0., 1., 0., 0., 0., 0., 0.,\n       0., 0., 0., 0., 0., 0., 0., 0., 0., 0., 0., 0., 0., 0., 0., 0., 0.,\n       0., 0., 0., 0., 0., 0., 0., 0., 0., 0., 0., 0., 0., 0., 0., 0., 0.,\n       1., 0., 0., 0., 0., 0., 0., 0., 0., 0., 0., 0., 0., 0., 1., 0., 0.,\n       0., 0., 0., 0., 0., 0., 0., 0., 0., 0., 0., 0., 0., 0., 0., 0., 0.,\n       0., 0., 0., 0., 0., 0., 0., 0., 0., 0., 0., 0., 0., 0., 0., 0., 0.,\n       0., 0., 1., 0., 0., 0., 0., 0., 0., 0., 0., 0., 0., 0., 0., 0., 0.,\n       0., 0., 0., 0., 0., 0., 0., 0., 0., 0., 0., 0., 0., 0., 0., 0., 0.,\n       0., 0., 0., 0., 0., 0., 0., 0., 0., 0., 0., 0., 0., 0., 0., 0., 0.,\n       0., 0., 0., 0., 0., 0., 0., 0., 0., 0., 0., 0., 0., 0., 0., 0., 0.,\n       0., 0., 0., 0., 0., 0., 0., 0., 0., 0., 0., 0., 0., 0., 0., 0., 0.,\n       0., 0., 0., 0., 0., 0., 0., 0., 0., 0., 0., 0., 0., 0., 0., 0., 0.,\n       0., 0., 0., 0., 0., 0., 0., 0., 0., 0., 0., 0., 0., 0., 0., 0., 0.,\n       0., 0., 0., 0., 0., 0., 0., 0., 0., 0., 0., 0., 0., 0., 0., 0., 0.,\n       0., 0., 0., 0., 0., 0., 0., 0., 0., 0., 0., 0., 0., 0., 0., 0., 0.,\n       0., 0., 0., 0., 0., 0., 0., 0., 0., 0., 0., 0., 0., 0., 0., 0., 0.,\n       0., 0., 0., 0., 0., 0., 0., 0., 0., 0., 0., 0., 0., 0., 0., 0., 0.,\n       0., 0., 0., 0., 0., 0., 0., 0., 0., 0., 0., 0., 0., 0., 0., 0., 0.,\n       0., 0., 0., 0., 0., 0., 0., 0., 0., 0., 0., 0., 0., 0., 0., 0., 0.,\n       0., 0., 0., 0., 0., 0., 0., 0., 0., 0., 0., 0., 0., 0., 0., 0., 0.,\n       0., 0., 0., 0., 0., 0., 0., 0., 0., 0., 0., 0., 0., 0., 0., 0., 0.,\n       0., 0., 0., 0., 0., 0., 0., 0., 0., 0., 0., 0., 0., 0., 0., 0., 0.,\n       0., 0., 0., 0., 0., 0., 0., 0., 0., 0., 0., 0., 0., 0., 0., 0., 0.,\n       0., 0., 0., 0., 0., 0., 0., 0., 0., 0., 0., 0., 0., 0., 0., 0., 0.,\n       0., 0., 0., 0., 0., 0., 0., 0., 0., 0., 0., 0., 0., 0., 0., 0., 0.,\n       0., 0., 0., 0., 0., 0., 0., 0., 0., 0., 0., 0., 0., 0., 0., 0., 0.,\n       0., 0., 0., 0., 0., 0., 0., 0., 0., 0., 0., 0., 0., 0., 0., 0., 0.,\n       0., 0., 0., 0., 0., 0., 0., 0., 0., 0., 0., 0., 0., 0., 0., 0., 0.,\n       0., 0., 0., 0., 0., 0., 0., 0., 0., 0., 0., 0., 0., 0., 0., 0., 0.,\n       0., 0., 0., 0., 0., 0., 0., 0., 0., 0., 0., 0., 0., 0., 0., 0., 0.,\n       0., 0., 0., 0., 0., 0., 0., 0., 0., 0., 0., 0., 0., 0., 0., 0., 0.,\n       0., 0., 0., 0., 0., 0., 0., 0., 0., 0., 0., 0., 0., 0., 0., 0., 0.,\n       0., 0., 0., 0., 0., 0., 0., 0., 0., 0., 0., 0., 0., 0., 0., 0., 0.,\n       0., 0., 0., 0., 0., 0., 0., 0., 0., 0., 0., 0., 0., 0., 0., 0., 0.,\n       0., 0., 0., 0., 0., 0., 0., 0., 0., 0., 0., 0., 0., 0., 0., 0., 0.,\n       0., 0., 0., 0., 0., 0., 0., 0., 0., 0., 0., 0., 0., 0., 0., 0., 0.,\n       0., 0., 0., 0., 0., 0., 0., 0., 0., 0., 0., 0., 0., 0., 0., 0., 0.,\n       0., 0., 0., 0., 0., 0., 0., 0., 0., 0., 0., 0., 0., 0., 0., 0., 0.,\n       0., 0., 0., 0., 0., 0., 0., 0., 0., 0., 0., 0., 0., 0., 0., 0., 0.,\n       0., 0., 0., 0., 0., 0., 0., 0., 0., 0., 0., 0., 0., 0., 0., 0., 0.,\n       0., 0., 0., 0., 0., 0., 0., 0., 0., 0., 0., 0., 0., 0., 0., 0., 0.,\n       0., 0., 0., 0., 0., 0., 0., 0., 0., 0., 0., 0., 0., 0., 0., 0., 0.,\n       0., 0., 0., 0., 0., 0., 0., 0., 0., 0., 0., 0., 0., 0., 0., 0., 0.,\n       0., 0., 0., 0., 0., 0., 0., 0., 0., 0., 0., 0., 0., 0., 0., 0., 0.,\n       0., 0., 0., 0., 0., 0., 0., 0., 0., 0., 0., 0., 0., 0., 0., 0., 0.,\n       0., 0., 0., 0., 0., 0., 0., 0., 0., 0., 0., 0., 0., 0., 0., 0., 0.,\n       0., 0., 0., 0., 0., 0., 0., 0., 0., 0., 0., 0., 0., 0., 0., 0., 0.,\n       0., 0., 0., 0., 0., 0., 0., 0., 0., 0., 0., 0., 0., 0., 0., 0., 0.,\n       0., 0., 0., 0., 0., 0., 0., 0., 0., 0., 0., 0., 0., 0., 0., 0., 0.,\n       0., 0., 0.])"
     },
     "execution_count": 206,
     "metadata": {},
     "output_type": "execute_result"
    }
   ],
   "source": [
    "users_one_hot[data_train['userID'][0]]"
   ],
   "metadata": {
    "collapsed": false,
    "pycharm": {
     "name": "#%%\n"
    }
   }
  },
  {
   "cell_type": "code",
   "execution_count": 210,
   "outputs": [
    {
     "data": {
      "text/plain": "196"
     },
     "execution_count": 210,
     "metadata": {},
     "output_type": "execute_result"
    }
   ],
   "source": [
    "len(users_tags_dict.keys())"
   ],
   "metadata": {
    "collapsed": false,
    "pycharm": {
     "name": "#%%\n"
    }
   }
  },
  {
   "cell_type": "code",
   "execution_count": null,
   "outputs": [],
   "source": [
    "# 해당하는 모든 태그들에 1 표시를 해준다 , 원 핫은 원래 하나만 체크하는 것이지만\n"
   ],
   "metadata": {
    "collapsed": false,
    "pycharm": {
     "name": "#%%\n"
    }
   }
  },
  {
   "cell_type": "code",
   "execution_count": 211,
   "outputs": [
    {
     "name": "stdout",
     "output_type": "stream",
     "text": [
      "e576423831e043f7928d9ac113abbe6f ['82c2559140b95ccda9c6ca4a8b981f1e', '2ba8698b79439589fdd2b0f7218d8b07', '351b33587c5fdd93bd42ef7ac9995a28', '81e5f81db77c596492e6f1a5a792ed53', '0e095e054ee94774d6a496099eb1cf6a', 'e4873aa9a05cc5ed839561d121516766', '884d79963bd8bc0ae9b13a1aa71add73', 'bb7946e7d85c81a9e69fee1cea4a087c', '35464c848f410e55a13bb9d78e7fddd0', 'a1d50185e7426cbb0acad1e6ca74b9aa', '7501e5d4da87ac39d782741cd794002d', '6d9cb7de5e8ac30bd5e8734bc96a35c1', '5ef059938ba799aaa845e1c2e8a762bd', '6b8eba43551742214453411664a0dcc8', '6c8dba7d0df1c4a79dd07646be9a26c8', 'c88d8d0a6097754525e02c2246d8d27f', '5680522b8e2bb01943234bce7bf84534', '884ce4bb65d328ecb03c598409e2b168', 'b20bb95ab626d93fd976af958fbc61ba', '9996535e07258a7bbfd8b132435c5962', '45f31d16b1058d586fc3be7207b58053', '372d3f309fef061977fb2f7ba36d74d2', '9766527f2b5d3e95d4a733fcfb77bd7e', '38ca89564b2259401518960f7a06f94b', 'f47330643ae134ca204bf6b2481fec47', 'aff0a6a4521232970b2c1cf539ad0a19', '45f31d16b1058d586fc3be7207b58053', '372d3f309fef061977fb2f7ba36d74d2', '9766527f2b5d3e95d4a733fcfb77bd7e', '38ca89564b2259401518960f7a06f94b', 'f47330643ae134ca204bf6b2481fec47', 'aff0a6a4521232970b2c1cf539ad0a19', '82c2559140b95ccda9c6ca4a8b981f1e', '2ba8698b79439589fdd2b0f7218d8b07', '351b33587c5fdd93bd42ef7ac9995a28', '81e5f81db77c596492e6f1a5a792ed53', '0e095e054ee94774d6a496099eb1cf6a', 'e4873aa9a05cc5ed839561d121516766', '884d79963bd8bc0ae9b13a1aa71add73', 'bb7946e7d85c81a9e69fee1cea4a087c', '35464c848f410e55a13bb9d78e7fddd0', 'a1d50185e7426cbb0acad1e6ca74b9aa', '7501e5d4da87ac39d782741cd794002d', '6d9cb7de5e8ac30bd5e8734bc96a35c1', '5ef059938ba799aaa845e1c2e8a762bd', '6b8eba43551742214453411664a0dcc8', '6c8dba7d0df1c4a79dd07646be9a26c8', 'c88d8d0a6097754525e02c2246d8d27f', '5680522b8e2bb01943234bce7bf84534', '884ce4bb65d328ecb03c598409e2b168', 'b20bb95ab626d93fd976af958fbc61ba', '9996535e07258a7bbfd8b132435c5962', '884d79963bd8bc0ae9b13a1aa71add73', 'bb7946e7d85c81a9e69fee1cea4a087c', '35464c848f410e55a13bb9d78e7fddd0', 'a1d50185e7426cbb0acad1e6ca74b9aa', '7501e5d4da87ac39d782741cd794002d', '82c2559140b95ccda9c6ca4a8b981f1e', '2ba8698b79439589fdd2b0f7218d8b07', '351b33587c5fdd93bd42ef7ac9995a28', '81e5f81db77c596492e6f1a5a792ed53', '0e095e054ee94774d6a496099eb1cf6a', '82c2559140b95ccda9c6ca4a8b981f1e', '2ba8698b79439589fdd2b0f7218d8b07', '351b33587c5fdd93bd42ef7ac9995a28', '81e5f81db77c596492e6f1a5a792ed53', '0e095e054ee94774d6a496099eb1cf6a', '82c2559140b95ccda9c6ca4a8b981f1e', '2ba8698b79439589fdd2b0f7218d8b07', '351b33587c5fdd93bd42ef7ac9995a28', '81e5f81db77c596492e6f1a5a792ed53', '0e095e054ee94774d6a496099eb1cf6a', '45f31d16b1058d586fc3be7207b58053', '372d3f309fef061977fb2f7ba36d74d2', '9766527f2b5d3e95d4a733fcfb77bd7e', '38ca89564b2259401518960f7a06f94b', 'f47330643ae134ca204bf6b2481fec47', '6b8eba43551742214453411664a0dcc8', '6c8dba7d0df1c4a79dd07646be9a26c8', 'c88d8d0a6097754525e02c2246d8d27f', '5680522b8e2bb01943234bce7bf84534', '884ce4bb65d328ecb03c598409e2b168', '6b8eba43551742214453411664a0dcc8', '6c8dba7d0df1c4a79dd07646be9a26c8', 'c88d8d0a6097754525e02c2246d8d27f', '5680522b8e2bb01943234bce7bf84534', '884ce4bb65d328ecb03c598409e2b168', '6b8eba43551742214453411664a0dcc8', '6c8dba7d0df1c4a79dd07646be9a26c8', 'c88d8d0a6097754525e02c2246d8d27f', '5680522b8e2bb01943234bce7bf84534', '884ce4bb65d328ecb03c598409e2b168', '45f31d16b1058d586fc3be7207b58053', '372d3f309fef061977fb2f7ba36d74d2', '9766527f2b5d3e95d4a733fcfb77bd7e', '38ca89564b2259401518960f7a06f94b', 'f47330643ae134ca204bf6b2481fec47', '45f31d16b1058d586fc3be7207b58053', '372d3f309fef061977fb2f7ba36d74d2', '9766527f2b5d3e95d4a733fcfb77bd7e', '38ca89564b2259401518960f7a06f94b', 'f47330643ae134ca204bf6b2481fec47', '884d79963bd8bc0ae9b13a1aa71add73', 'bb7946e7d85c81a9e69fee1cea4a087c', '35464c848f410e55a13bb9d78e7fddd0', 'a1d50185e7426cbb0acad1e6ca74b9aa', '7501e5d4da87ac39d782741cd794002d', '884d79963bd8bc0ae9b13a1aa71add73', 'bb7946e7d85c81a9e69fee1cea4a087c', '35464c848f410e55a13bb9d78e7fddd0', 'a1d50185e7426cbb0acad1e6ca74b9aa', '7501e5d4da87ac39d782741cd794002d']\n"
     ]
    }
   ],
   "source": [
    "for key , value in users_tags_dict.items():\n",
    "    print(key, value)\n",
    "    break"
   ],
   "metadata": {
    "collapsed": false,
    "pycharm": {
     "name": "#%%\n"
    }
   }
  },
  {
   "cell_type": "code",
   "execution_count": 215,
   "outputs": [
    {
     "data": {
      "text/plain": "{'602d1305678a8d5fdb372271e980da6a': 0,\n 'e3251075554389fe91d17a794861d47b': 1,\n 'a1d50185e7426cbb0acad1e6ca74b9aa': 2,\n '884d79963bd8bc0ae9b13a1aa71add73': 3,\n '4122cb13c7a474c1976c9706ae36521d': 4,\n '6e7d2da6d3953058db75714ac400b584': 5,\n '208e43f0e45c4c78cafadb83d2888cb6': 6,\n 'fe2d010308a6b3799a3d9c728ee74244': 7,\n '42d6c7d61481d1c21bd1635f59edae05': 8,\n '97416ac0f58056947e2eb5d5d253d4f2': 9,\n '0e095e054ee94774d6a496099eb1cf6a': 10,\n '6ecbdd6ec859d284dc13885a37ce8d81': 11,\n '6d3a1e06d6a06349436bc054313b648c': 12,\n 'bb04af0f7ecaee4aae62035497da1387': 13,\n 'e702e51da2c0f5be4dd354bb3e295d37': 14,\n 'f47330643ae134ca204bf6b2481fec47': 15,\n '109d2dd3608f669ca17920c511c2a41e': 16,\n '81dc9bdb52d04dc20036dbd8313ed055': 17,\n '801c14f07f9724229175b8ef8b4585a8': 18,\n '7d771e0e8f3633ab54856925ecdefc5d': 19,\n '8a3363abe792db2d8761d6403605aeb7': 20,\n 'da11e8cd1811acb79ccf0fd62cd58f86': 21,\n '71a58e8cb75904f24cde464161c3e766': 22,\n '838e8afb1ca34354ac209f53d90c3a43': 23,\n 'c8ba76c279269b1c6bc8a07e38e78fa4': 24,\n 'a9078e8653368c9c291ae2f8b74012e7': 25,\n '69a5b5995110b36a9a347898d97a610e': 26,\n '5680522b8e2bb01943234bce7bf84534': 27,\n '3bf55bbad370a8fcad1d09b005e278c2': 28,\n '6a61d423d02a1c56250dc23ae7ff12f3': 29,\n '6eb6e75fddec0218351dc5c0c8464104': 30,\n '8e2cfdc275761edc592f73a076197c33': 31,\n 'c9f95a0a5af052bffce5c89917335f67': 32,\n '6c8dba7d0df1c4a79dd07646be9a26c8': 33,\n '3948ead63a9f2944218de038d8934305': 34,\n '9adeb82fffb5444e81fa0ce8ad8afe7a': 35,\n 'a4d2f0d23dcc84ce983ff9157f8b7f88': 36,\n 'a0833c8a1817526ac555f8d67727caf6': 37,\n '95151403b0db4f75bfd8da0b393af853': 38,\n '3fe78a8acf5fda99de95303940a2420c': 39,\n 'db2b4182156b2f1f817860ac9f409ad7': 40,\n 'c4851e8e264415c4094e4e85b0baa7cc': 41,\n '2ba8698b79439589fdd2b0f7218d8b07': 42,\n 'e034fb6b66aacc1d48f445ddfb08da98': 43,\n 'aace49c7d80767cffec0e513ae886df0': 44,\n '9a3d458322d70046f63dfd8b0153ece4': 45,\n '4e2545f819e67f0615003dd7e04a6087': 46,\n 'd282ef263719ab842e05382dc235f69e': 47,\n '38ca89564b2259401518960f7a06f94b': 48,\n 'c1e39d912d21c91dce811d6da9929ae8': 49,\n '491442df5f88c6aa018e86dac21d3606': 50,\n '81e5f81db77c596492e6f1a5a792ed53': 51,\n '6c14da109e294d1e8155be8aa4b1ce8e': 52,\n '0c048b3a434e49e655c1247efb389cec': 53,\n 'bd4c9ab730f5513206b999ec0d90d1fb': 54,\n '0e9fa1f3e9e66792401a6972d477dcc3': 55,\n '8248a99e81e752cb9b41da3fc43fbe7f': 56,\n 'b147a61c1d07c1c999560f62add6dbc7': 57,\n '11c484ea9305ea4c7bb6b2e6d570d466': 58,\n 'fc3cf452d3da8402bebb765225ce8c0e': 59,\n 'bb03e43ffe34eeb242a2ee4a4f125e56': 60,\n '8f1d43620bc6bb580df6e80b0dc05c48': 61,\n 'b24d516bb65a5a58079f0f3526c87c57': 62,\n 'a26398dca6f47b49876cbaffbc9954f9': 63,\n '4da04049a062f5adfe81b67dd755cecc': 64,\n '68a83eeb494a308fe5295da69428a507': 65,\n '03f544613917945245041ea1581df0c2': 66,\n 'a58149d355f02887dfbe55ebb2b64ba3': 67,\n '6e2713a6efee97bacb63e52c54f0ada0': 68,\n '2dffbc474aa176b6dc957938c15d0c8b': 69,\n '97af4fb322bb5c8973ade16764156bed': 70,\n '905056c1ac1dad141560467e0a99e1cf': 71,\n 'cd758e8f59dfdf06a852adad277986ca': 72,\n '03e7ef47cee6fa4ae7567394b99912b7': 73,\n '06964dce9addb1c5cb5d6e3d9838f733': 74,\n '8c9f32e03aeb2e3000825c8c875c4edd': 75,\n 'a5e0ff62be0b08456fc7f1e88812af3d': 76,\n '87ec2f451208df97228105657edb717f': 77,\n 'b5488aeff42889188d03c9895255cecc': 78,\n '70efba66d3d8d53194fb1a8446ae07fa': 79,\n '46515dcd99ea50dd0671bc6840830404': 80,\n '2de5d16682c3c35007e4e92982f1a2ba': 81,\n '7bccfde7714a1ebadf06c5f4cea752c1': 82,\n '6b8eba43551742214453411664a0dcc8': 83,\n '45f31d16b1058d586fc3be7207b58053': 84,\n 'a223c6b3710f85df22e9377d6c4f7553': 85,\n '39e4973ba3321b80f37d9b55f63ed8b8': 86,\n '36a1694bce9815b7e38a9dad05ad42e0': 87,\n '1e1d184167ca7676cf665225e236a3d2': 88,\n 'f7f580e11d00a75814d2ded41fe8e8fe': 89,\n '8597a6cfa74defcbde3047c891d78f90': 90,\n '1c65cef3dfd1e00c0b03923a1c591db4': 91,\n 'e1d5be1c7f2f456670de3d53c7b54f4a': 92,\n 'ab1a4d0dd4d48a2ba1077c4494791306': 93,\n 'a49e9411d64ff53eccfdd09ad10a15b3': 94,\n 'a42a596fc71e17828440030074d15e74': 95,\n 'e53a0a2978c28872a4505bdb51db06dc': 96,\n '9996535e07258a7bbfd8b132435c5962': 97,\n '9701a1c165dd9420816bfec5edd6c2b1': 98,\n 'eb86d510361fc23b59f18c1bc9802cc6': 99,\n '43cca4b3de2097b9558efefd0ecc3588': 100,\n '26588e932c7ccfa1df309280702fe1b5': 101,\n '285ab9448d2751ee57ece7f762c39095': 102,\n '52292e0c763fd027c6eba6b8f494d2eb': 103,\n '2b6d65b9a9445c4271ab9076ead5605a': 104,\n '50c3d7614917b24303ee6a220679dab3': 105,\n 'ffeed84c7cb1ae7bf4ec4bd78275bb98': 106,\n '82cec96096d4281b7c95cd7e74623496': 107,\n 'cfa5301358b9fcbe7aa45b1ceea088c6': 108,\n '4079016d940210b4ae9ae7d41c4a2065': 109,\n '69d658d0b2859e32cd4dc3b970c8496c': 110,\n 'fccb3cdc9acc14a6e70a12f74560c026': 111,\n 'c7635bfd99248a2cdef8249ef7bfbef4': 112,\n '1e6e0a04d20f50967c64dac2d639a577': 113,\n '123b7f02433572a0a560e620311a469c': 114,\n '217c0e01c1828e7279051f1b6675745d': 115,\n '285f89b802bcb2651801455c86d78f2a': 116,\n 'd38901788c533e8286cb6400b40b386d': 117,\n 'df0aab058ce179e4f7ab135ed4e641a9': 118,\n '489d0396e6826eb0c1e611d82ca8b215': 119,\n '3eb71f6293a2a31f3569e10af6552658': 120,\n 'a113c1ecd3cace2237256f4c712f61b5': 121,\n 'e92d74ccacdc984afa0c517ad0d557a6': 122,\n '17fafe5f6ce2f1904eb09d2e80a4cbf6': 123,\n '41a60377ba920919939d83326ebee5a1': 124,\n 'b1c00bcd4b5183705c134b3365f8c45e': 125,\n '0eec27c419d0fe24e53c90338cdc8bc6': 126,\n 'c21002f464c5fc5bee3b98ced83963b8': 127,\n 'e8b1cbd05f6e6a358a81dee52493dd06': 128,\n '372d3f309fef061977fb2f7ba36d74d2': 129,\n '16e6a3326dd7d868cbc926602a61e4d0': 130,\n '2421fcb1263b9530df88f7f002e78ea5': 131,\n '7501e5d4da87ac39d782741cd794002d': 132,\n '83f97f4825290be4cb794ec6a234595f': 133,\n '8f19793b2671094e63a15ab883d50137': 134,\n '6d9cb7de5e8ac30bd5e8734bc96a35c1': 135,\n '944bdd9636749a0801c39b6e449dbedc': 136,\n '0f2c9a93eea6f38fabb3acb1c31488c6': 137,\n 'c60d060b946d6dd6145dcbad5c4ccf6f': 138,\n '2d2ca7eedf739ef4c3800713ec482e1a': 139,\n '1d72310edc006dadf2190caad5802983': 140,\n '0ce2ffd21fc958d9ef0ee9ba5336e357': 141,\n '309a8e73b2cdb95fc1affa8845504e87': 142,\n '9d7311ba459f9e45ed746755a32dcd11': 143,\n '71e09b16e21f7b6919bbfc43f6a5b2f0': 144,\n '07cb5f86508f146774a2fac4373a8e50': 145,\n 'c6036a69be21cb660499b75718a3ef24': 146,\n '06eb61b839a0cefee4967c67ccb099dc': 147,\n 'ebd6d2f5d60ff9afaeda1a81fc53e2d0': 148,\n '7d04bbbe5494ae9d2f5a76aa1c00fa2f': 149,\n '43351f7bf9a215be70c2c2caa7555002': 150,\n '0d7de1aca9299fe63f3e0041f02638a3': 151,\n 'db85e2590b6109813dafa101ceb2faeb': 152,\n '147702db07145348245dc5a2f2fe5683': 153,\n '33ceb07bf4eeb3da587e268d663aba1a': 154,\n '7810ccd41bf26faaa2c4e1f20db70a71': 155,\n '2f29b6e3abc6ebdefb55456ea6ca5dc8': 156,\n 'fc528592c3858f90196fbfacc814f235': 157,\n '3a029f04d76d32e79367c4b3255dda4d': 158,\n '2812e5cf6d8f21d69c91dddeefb792a7': 159,\n 'e6d8545daa42d5ced125a4bf747b3688': 160,\n '3210ddbeaa16948a702b6049b8d9a202': 161,\n 'a01610228fe998f515a72dd730294d87': 162,\n 'dbe272bab69f8e13f14b405e038deb64': 163,\n 'a0f3601dc682036423013a5d965db9aa': 164,\n '063e26c670d07bb7c4d30e6fc69fe056': 165,\n 'fec87a37cdeec1c6ecf8181c0aa2d3bf': 166,\n 'f3173935ed8ac4bf073c1bcd63171f8a': 167,\n '7bd28f15a49d5e5848d6ec70e584e625': 168,\n 'ad71c82b22f4f65b9398f76d8be4c615': 169,\n '9683cc5f89562ea48e72bb321d9f03fb': 170,\n 'a9be4c2a4041cadbf9d61ae16dd1389e': 171,\n '1943102704f8f8f3302c2b730728e023': 172,\n '884ce4bb65d328ecb03c598409e2b168': 173,\n 'f7cade80b7cc92b991cf4d2806d6bd78': 174,\n 'd6723e7cd6735df68d1ce4c704c29a04': 175,\n '0c8ce55163055c4da50a81e0a273468c': 176,\n 'c88d8d0a6097754525e02c2246d8d27f': 177,\n 'a70dc40477bc2adceef4d2c90f47eb82': 178,\n '325995af77a0e8b06d1204a171010b3a': 179,\n 'b3b43aeeacb258365cc69cdaf42a68af': 180,\n 'f4573fc71c731d5c362f0d7860945b88': 181,\n '883e881bb4d22a7add958f2d6b052c9f': 182,\n '4e4e53aa080247bc31d0eb4e7aeb07a0': 183,\n '6c524f9d5d7027454a783c841250ba71': 184,\n 'e4dd5528f7596dcdf871aa55cfccc53c': 185,\n 'b20bb95ab626d93fd976af958fbc61ba': 186,\n 'e00406144c1e7e35240afed70f34166a': 187,\n '076023edc9187cf1ac1f1163470e479a': 188,\n '9185f3ec501c674c7c788464a36e7fb3': 189,\n '82c2559140b95ccda9c6ca4a8b981f1e': 190,\n 'a7d8ae4569120b5bec12e7b6e9648b86': 191,\n '6a5889bb0190d0211a991f47bb19a777': 192,\n 'fd2c5e4680d9a01dba3aada5ece22270': 193,\n 'd6288499d0083cc34e60a077b7c4b3e1': 194,\n 'fe70c36866add1572a8e2b96bfede7bf': 195,\n 'c913303f392ffc643f7240b180602652': 196,\n '47a658229eb2368a99f1d032c8848542': 197,\n '50abc3e730e36b387ca8e02c26dc0a22': 198,\n '5caf41d62364d5b41a893adc1a9dd5d4': 199,\n '996009f2374006606f4c0b0fda878af1': 200,\n 'b9f94c77652c9a76fc8a442748cd54bd': 201,\n '365d17770080c807a0e47ae9118d8641': 202,\n 'f8bf09f5fceaea80e1f864a1b48938bf': 203,\n '1bb91f73e9d31ea2830a5e73ce3ed328': 204,\n '70fcb77e6349f4467edd7227baa73222': 205,\n '54f5f4071faca32ad5285fef87b78646': 206,\n 'f09696910bdd874a99cd74c8f05b5c44': 207,\n '9c3b1830513cc3b8fc4b76635d32e692': 208,\n '9b698eb3105bd82528f23d0c92dedfc0': 209,\n '18ead4c77c3f40dabf9735432ac9d97a': 210,\n '6cdd60ea0045eb7a6ec44c54d29ed402': 211,\n '2715518c875999308842e3455eda2fe3': 212,\n '144a3f71a03ab7c4f46f9656608efdb2': 213,\n 'abea47ba24142ed16b7d8fbf2c740e0d': 214,\n '3a15c7d0bbe60300a39f76f8a5ba6896': 215,\n 'dc09c97fd73d7a324bdbfe7c79525f64': 216,\n '1c54985e4f95b7819ca0357c0cb9a09f': 217,\n 'aff0a6a4521232970b2c1cf539ad0a19': 218,\n '6a2feef8ed6a9fe76d6b3f30f02150b4': 219,\n '5751ec3e9a4feab575962e78e006250d': 220,\n '51de85ddd068f0bc787691d356176df9': 221,\n '93fb9d4b16aa750c7475b6d601c35c2c': 222,\n '2cfd4560539f887a5e420412b370b361': 223,\n 'bd5af7cd922fd2603be4ee3dc43b0b77': 224,\n 'e555ebe0ce426f7f9b2bef0706315e0c': 225,\n '130f1a8e9e102707f3f91b010f151b0b': 226,\n '20d135f0f28185b84a4cf7aa51f29500': 227,\n 'f91e24dfe80012e2a7984afa4480a6d6': 228,\n '81e74d678581a3bb7a720b019f4f1a93': 229,\n '2c89109d42178de8a367c0228f169bf8': 230,\n '6974ce5ac660610b44d9b9fed0ff9548': 231,\n 'c6e19e830859f2cb9f7c8f8cacb8d2a6': 232,\n '56468d5607a5aaf1604ff5e15593b003': 233,\n 'e6c2dc3dee4a51dcec3a876aa2339a78': 234,\n 'fc9b003bb003a298c2ad0d05e4342bdc': 235,\n 'b51a15f382ac914391a58850ab343b00': 236,\n '309fee4e541e51de2e41f21bebb342aa': 237,\n '63dc7ed1010d3c3b8269faf0ba7491d4': 238,\n '277281aada22045c03945dcb2ca6f2ec': 239,\n '72e6d3238361fe70f22fb0ac624a7072': 240,\n 'bb7946e7d85c81a9e69fee1cea4a087c': 241,\n '1579779b98ce9edb98dd85606f2c119d': 242,\n '4e6cd95227cb0c280e99a195be5f6615': 243,\n '6ba3af5d7b2790e73f0de32e5c8c1798': 244,\n 'e94f63f579e05cb49c05c2d050ead9c0': 245,\n 'd88518acbcc3d08d1f18da62f9bb26ec': 246,\n '3b712de48137572f3849aabd5666a4e3': 247,\n 'f18a6d1cde4b205199de8729a6637b42': 248,\n 'b710915795b9e9c02cf10d6d2bdb688c': 249,\n '41bfd20a38bb1b0bec75acf0845530a7': 250,\n 'a2557a7b2e94197ff767970b67041697': 251,\n '6f3e29a35278d71c7f65495871231324': 252,\n '35464c848f410e55a13bb9d78e7fddd0': 253,\n '9766527f2b5d3e95d4a733fcfb77bd7e': 254,\n '351b33587c5fdd93bd42ef7ac9995a28': 255,\n 'e4873aa9a05cc5ed839561d121516766': 256,\n '5ef059938ba799aaa845e1c2e8a762bd': 257,\n '995665640dc319973d3173a74a03860c': 258,\n 'bcc0d400288793e8bdcd7c19a8ac0c2b': 259,\n '67e103b0761e60683e83c559be18d40c': 260,\n 'b571ecea16a9824023ee1af16897a582': 261,\n '02522a2b2726fb0a03bb19f2d8d9524d': 262,\n 'f93882cbd8fc7fb794c1011d63be6fb6': 263,\n '53f0d7c537d99b3824f0f99d62ea2428': 264,\n '495dabfd0ca768a3c3abd672079f48b6': 265,\n 'bbcbff5c1f1ded46c25d28119a85c6c2': 266,\n '4f6ffe13a5d75b2d6a3923922b3922e5': 267,\n '996a7fa078cc36c46d02f9af3bef918b': 268,\n '9f61408e3afb633e50cdf1b20de6f466': 269,\n '1cd3882394520876dc88d1472aa2a93f': 270,\n '41ae36ecb9b3eee609d05b90c14222fb': 271,\n '48ab2f9b45957ab574cf005eb8a76760': 272,\n 'f7e0b956540676a129760a3eae309294': 273,\n 'c1fea270c48e8079d8ddf7d06d26ab52': 274,\n '4e8412ad48562e3c9934f45c3e144d48': 275,\n 'dabd8d2ce74e782c65a973ef76fd540b': 276,\n 'dd77279f7d325eec933f05b1672f6a1f': 277,\n 'd77f00766fd3be3f2189c843a6af3fb2': 278,\n '68b1fbe7f16e4ae3024973f12f3cb313': 279,\n '1359aa933b48b754a2f54adb688bfa77': 280,\n '819c9fbfb075d62a16393b9fe4fcbaa5': 281,\n 'c667d53acd899a97a85de0c201ba99be': 282,\n '4a06d868d044c50af0cf9bc82d2fc19f': 283,\n '26408ffa703a72e8ac0117e74ad46f33': 284,\n '5eac43aceba42c8757b54003a58277b5': 285,\n '2ac2406e835bd49c70469acae337d292': 286,\n '01d8bae291b1e4724443375634ccfa0e': 287,\n '1113d7a76ffceca1bb350bfe145467c6': 288,\n '5a7f963e5e0504740c3a6b10bb6d4fa5': 289,\n 'c4de8ced6214345614d33fb0b16a8acd': 290,\n '7cf64379eb6f29a4d25c4b6a2df713e4': 291,\n 'f3f1b7fc5a8779a9e618e1f23a7b7860': 292,\n 'f9be311e65d81a9ad8150a60844bb94c': 293,\n 'ed57844fa5e051809ead5aa7e3e1d555': 294,\n '7d12b66d3df6af8d429c1a357d8b9e1a': 295,\n '05f971b5ec196b8c65b75d2ef8267331': 296,\n 'b427426b8acd2c2e53827970f2c2f526': 297,\n '49af6c4e558a7569d80eee2e035e2bd7': 298,\n '539fd53b59e3bb12d203f45a912eeaf2': 299,\n 'e58cc5ca94270acaceed13bc82dfedf7': 300,\n '95e6834d0a3d99e9ea8811855ae9229d': 301,\n '0d4f4805c36dc6853edfa4c7e1638b48': 302,\n 'df12ecd077efc8c23881028604dbb8cc': 303,\n 'faafda66202d234463057972460c04f5': 304,\n '9a4400501febb2a95e79248486a5f6d3': 305,\n '58ae749f25eded36f486bc85feb3f0ab': 306,\n '2c6ae45a3e88aee548c0714fad7f8269': 307,\n '962e56a8a0b0420d87272a682bfd1e53': 308,\n '6cd67d9b6f0150c77bda2eda01ae484c': 309,\n 'fb89705ae6d743bf1e848c206e16a1d7': 310,\n '9ad6aaed513b73148b7d49f70afcfb32': 311,\n '7e1d842d0f7ee600116ffc6b2d87d83f': 312,\n '4588e674d3f0faf985047d4c3f13ed0d': 313,\n 'd8e1344e27a5b08cdfd5d027d9b8d6de': 314,\n '81b073de9370ea873f548e31b8adc081': 315,\n 'b7f1f29db7c23648f2bb8d6a8ee0469b': 316,\n '204da255aea2cd4a75ace6018fad6b4d': 317,\n 'a368b0de8b91cfb3f91892fbf1ebd4b2': 318,\n '96da2f590cd7246bbde0051047b0d6f7': 319,\n 'a8c88a0055f636e4a163a5e3d16adab7': 320,\n 'cd10c7f376188a4a2ca3e8fea2c03aeb': 321,\n '97275a23ca44226c9964043c8462be96': 322,\n '61b1fb3f59e28c67f3925f3c79be81a1': 323,\n 'cb79f8fa58b91d3af6c9c991f63962d3': 324,\n 'ffeabd223de0d4eacb9a3e6e53e5448d': 325,\n 'a14ac55a4f27472c5d894ec1c3c743d2': 326,\n '83f2550373f2f19492aa30fbd5b57512': 327,\n '9407c826d8e3c07ad37cb2d13d1cb641': 328,\n '2b3bf3eee2475e03885a110e9acaab61': 329,\n '8bdb5058376143fa358981954e7626b8': 330,\n '228499b55310264a8ea0e27b6e7c6ab6': 331,\n 'f976b57bb9dd27aa2e7e7df2825893a6': 332,\n 'c930eecd01935feef55942cc445f708f': 333,\n '7e05d6f828574fbc975a896b25bb011e': 334,\n 'c8067ad1937f728f51288b3eb986afaa': 335,\n '6211080fa89981f66b1a0c9d55c61d0f': 336,\n 'e60e81c4cbe5171cd654662d9887aec2': 337,\n 'af5afd7f7c807171981d443ad4f4f648': 338,\n '182e6c2d3d78eef40e5dac7da77a748f': 339,\n '4f398cb9d6bc79ae567298335b51ba8a': 340,\n 'a0160709701140704575d499c997b6ca': 341,\n '7e3b7a5bafcb0fa8e8dfe3ea6aca9186': 342,\n '5ea1649a31336092c05438df996a3e59': 343,\n '1177967c7957072da3dc1db4ceb30e7a': 344,\n '286674e3082feb7e5afb92777e48821f': 345,\n '0efe32849d230d7f53049ddc4a4b0c60': 346,\n '1368ba1ab6ed38bb1f26f36673739d54': 347,\n 'a3fb4fbf9a6f9cf09166aa9c20cbc1ad': 348,\n 'daa96d9681a21445772454cbddf0cac1': 349,\n '861dc9bd7f4e7dd3cccd534d0ae2a2e9': 350,\n 'b495ce63ede0f4efc9eec62cb947c162': 351,\n '4ebd440d99504722d80de606ea8507da': 352,\n 'b7b16ecf8ca53723593894116071700c': 353,\n '3e89ebdb49f712c7d90d1b39e348bbbf': 354,\n '55b1927fdafef39c48e5b73b5d61ea60': 355,\n '57bafb2c2dfeefba931bb03a835b1fa9': 356,\n 'd16509f6eaca1022bd8f28d6bc582cae': 357,\n 'e58aea67b01fa747687f038dfde066f6': 358,\n 'd1dc3a8270a6f9394f88847d7f0050cf': 359,\n 'ebb71045453f38676c40deb9864f811d': 360,\n 'feab05aa91085b7a8012516bc3533958': 361,\n 'fb2e203234df6dee15934e448ee88971': 362,\n 'a2cc63e065705fe938a4dda49092966f': 363,\n 'f52378e14237225a6f6c7d802dc6abbd': 364,\n 'ea8fcd92d59581717e06eb187f10666d': 365,\n '55b37c5c270e5d84c793e486d798c01d': 366,\n '452bf208bf901322968557227b8f6efe': 367,\n '2b8a61594b1f4c4db0902a8a395ced93': 368,\n 'bffc98347ee35b3ead06728d6f073c68': 369,\n '006f52e9102a8d3be2fe5614f42ba989': 370,\n 'f7e6c85504ce6e82442c770f7c8606f0': 371,\n 'b2531e7bb29bf22e1daae486fae3417a': 372,\n '49ad23d1ec9fa4bd8d77d02681df5cfa': 373,\n 'ff1418e8cc993fe8abcfe3ce2003e5c5': 374,\n '45645a27c4f1adc8a7a835976064a86d': 375,\n '1651cf0d2f737d7adeab84d339dbabd3': 376,\n '64a08e5f1e6c39faeb90108c430eb120': 377,\n 'ab452534c5ce28c4fbb0e102d4a4fb2e': 378,\n '852c44ddce7e0c7e4c64d86147300831': 379,\n '1896a3bf730516dd643ba67b4c447d36': 380,\n 'be3e9d3f7d70537357c67bb3f4086846': 381,\n 'f6c79f4af478638c39b206ec30ab166b': 382,\n '4dcf435435894a4d0972046fc566af76': 383,\n '7cc532d783a7461f227a5da8ea80bfe1': 384,\n 'e82c4b19b8151ddc25d4d93baf7b908f': 385,\n '7eb3c8be3d411e8ebfab08eba5f49632': 386,\n 'ab8aa05e782481f55fc1412a97e7ac34': 387,\n '1e48c4420b7073bc11916c6c1de226bb': 388,\n '5b4130c9e891d39891289001cc97d86b': 389,\n '8b5040a8a5baf3e0e67386c2e3a9b903': 390,\n '7a6a74cbe87bc60030a4bd041dd47b78': 391,\n '76dc611d6ebaafc66cc0879c71b5db5c': 392,\n '515ab26c135e92ed8bf3a594d67e4ade': 393,\n '941e1aaaba585b952b62c14a3a175a61': 394,\n 'fddd7938a71db5f81fcc621673ab67b7': 395,\n 'e02e27e04fdff967ba7d76fb24b8069d': 396,\n '193002e668758ea9762904da1a22337c': 397,\n '0a09c8844ba8f0936c20bd791130d6b6': 398,\n '3a20f62a0af1aa152670bab3c602feed': 399,\n '32b991e5d77ad140559ffb95522992d0': 400,\n '160c88652d47d0be60bfbfed25111412': 401,\n '77f959f119f4fb2321e9ce801e2f5163': 402,\n 'c8ed21db4f678f3b13b9d5ee16489088': 403,\n '1b113258af3968aaf3969ca67e744ff8': 404,\n '4a213d37242bdcad8e7300e202e7caa4': 405,\n '89ae0fe22c47d374bc9350ef99e01685': 406,\n '19bc916108fc6938f52cb96f7e087941': 407,\n '68c694de94e6c110f42e587e8e48d852': 408,\n '995e1fda4a2b5f55ef0df50868bf2a8f': 409,\n 'd7322ed717dedf1eb4e6e52a37ea7bcd': 410,\n '7f1de29e6da19d22b51c68001e7e0e54': 411,\n '11d0e6287202fced83f79975ec59a3a6': 412,\n '26751be1181460baf78db8d5eb7aad39': 413,\n '250413d2982f1f83aa62a3a323cd2a87': 414,\n '3c1e4bd67169b8153e0047536c9f541e': 415,\n 'fb89fd138b104dcf8e2077ad2a23954d': 416,\n '71f6278d140af599e06ad9bf1ba03cb0': 417,\n 'c15da1f2b5e5ed6e6837a3802f0d1593': 418,\n '2b0f658cbffd284984fb11d90254081f': 419,\n 'e22312179bf43e61576081a2f250f845': 420,\n '8303a79b1e19a194f1875981be5bdb6f': 421,\n 'fd06b8ea02fe5b1c2496fe1700e9d16c': 422,\n 'b23975176653284f1f7356ba5539cfcb': 423,\n '7940ab47468396569a906f75ff3f20ef': 424,\n 'cd0f74b5955dc87fd0605745c4b49ee8': 425,\n '020bf2c45e7bb322f89a226bd2c5d41b': 426,\n 'd6ef5f7fa914c19931a55bb262ec879c': 427,\n 'cee8d6b7ce52554fd70354e37bbf44a2': 428,\n '5607fe8879e4fd269e88387e8cb30b7e': 429,\n 'f1e2b2c9255d552500a833ac828cd635': 430,\n '2321994d85d661d792223f647000c65f': 431,\n 'c850371fda6892fbfd1c5a5b457e5777': 432,\n 'df4fe8a8bcd5c95cdb640aa9793bb32b': 433,\n 'ba9a56ce0a9bfa26e8ed9e10b2cc8f46': 434,\n 'fb60d411a5c5b72b2e7d3527cfc84fd0': 435,\n '220c77af02f8ad8561b150d93000ddff': 436,\n '2f4fe03d77724a7217006e5d16728874': 437,\n 'fe709c654eac84d5239d1a12a4f71877': 438,\n 'c6bff625bdb0393992c9d4db0c6bbe45': 439,\n '6602294be910b1e3c4571bd98c4d5484': 440,\n '959a557f5f6beb411fd954f3f34b21c3': 441,\n 'dc4c44f624d600aa568390f1f1104aa0': 442,\n '1afa34a7f984eeabdbb0a7d494132ee5': 443,\n 'c0e190d8267e36708f955d7ab048990d': 444,\n 'e9fd7c2c6623306db59b6aef5c0d5cac': 445,\n '24146db4eb48c718b84cae0a0799dcfc': 446,\n 'a0872cc5b5ca4cc25076f3d868e1bdf8': 447,\n 'bad5f33780c42f2588878a9d07405083': 448,\n 'd82118376df344b0010f53909b961db3': 449,\n 'a1afc58c6ca9540d057299ec3016d726': 450,\n 'e19347e1c3ca0c0b97de5fb3b690855a': 451,\n '86d7c8a08b4aaa1bc7c599473f5dddda': 452,\n '52c5189391854c93e8a0e1326e56c14f': 453,\n 'ac1ad983e08ad3304a97e147f522747e': 454,\n '5f2c22cb4a5380af7ca75622a6426917': 455,\n 'fd4f21f2556dad0ea8b7a5c04eabebda': 456,\n '242c100dc94f871b6d7215b868a875f8': 457,\n '299570476c6f0309545110c592b6a63b': 458,\n '24e27b869b66e9e62724bd7725d5d9c1': 459,\n 'ffd52f3c7e12435a724a8f30fddadd9c': 460,\n '70c445ee64b1ed0583367a12a79a9ef2': 461,\n '5c50b4df4b176845cd235b6a510c6903': 462,\n '2a34abd6ebbd7fcf5a4421229c946c0a': 463,\n 'de7092ba6df4276921d27a3704c57998': 464,\n 'd8bf84be3800d12f74d8b05e9b89836f': 465,\n '61b4a64be663682e8cb037d9719ad8cd': 466,\n 'a7a3d70c6d17a73140918996d03c014f': 467,\n 'd30960ce77e83d896503d43ba249caf7': 468,\n '8b0d268963dd0cfb808aac48a549829f': 469,\n '7c9d0b1f96aebd7b5eca8c3edaa19ebb': 470,\n '9813b270ed0288e7c0388f0fd4ec68f5': 471,\n '735b90b4568125ed6c3f678819b6e058': 472,\n '17326d10d511828f6b34fa6d751739e2': 473,\n '4a5876b450b45371f6cfe5047ac8cd45': 474,\n '045117b0e0a11a242b9765e79cbf113f': 475,\n 'b59c67bf196a4758191e42f76670ceba': 476,\n '5dec707028b05bcbd3a1db5640f842c5': 477,\n 'e8c0653fea13f91bf3c48159f7c24f78': 478,\n 'dbab2adc8f9d078009ee3fa810bea142': 479,\n 'eb0ecdb070a1a0ac46de0cd733d39cf3': 480,\n '3de568f8597b94bda53149c7d7f5958c': 481,\n 'e8dfff4676a47048d6f0c4ef899593dd': 482,\n '9af76329c78e28c977ab1bcd1c3fe9b8': 483,\n 'fa2431bf9d65058fe34e9713e32d60e6': 484,\n '5e9f92a01c986bafcabbafd145520b13': 485,\n '443cb001c138b2561a0d90720d6ce111': 486,\n '74071a673307ca7459bcf75fbd024e09': 487,\n 'eecca5b6365d9607ee5a9d336962c534': 488,\n '28dd2c7955ce926456240b2ff0100bde': 489,\n 'c54e7837e0cd0ced286cb5995327d1ab': 490,\n '0768281a05da9f27df178b5c39a51263': 491,\n 'd14220ee66aeec73c49038385428ec4c': 492,\n '389bc7bb1e1c2a5e7e147703232a88f6': 493,\n '194cf6c2de8e00c05fcf16c498adc7bf': 494,\n '61d77652c97ef636343742fc3dcf3ba9': 495,\n '5fd0b37cd7dbbb00f97ba6ce92bf5add': 496,\n '250cf8b51c773f3f8dc8b4be867a9a02': 497,\n '42998cf32d552343bc8e460416382dca': 498,\n '7fe1f8abaad094e0b5cb1b01d712f708': 499,\n '98b297950041a42470269d56260243a1': 500,\n '428fca9bc1921c25c5121f9da7815cde': 501,\n '754dda4b1ba34c6fa89716b85d68532b': 502,\n '7c590f01490190db0ed02a5070e20f01': 503,\n '07042ac7d03d3b9911a00da43ce0079a': 504,\n 'a89cf525e1d9f04d16ce31165e139a4b': 505,\n '4476b929e30dd0c4e8bdbcc82c6ba23a': 506,\n 'fc79250f8c5b804390e8da280b4cf06e': 507,\n 'dfd7468ac613286cdbb40872c8ef3b06': 508,\n '19de10adbaa1b2ee13f77f679fa1483a': 509,\n '39027dfad5138c9ca0c474d71db915c3': 510,\n '25b2822c2f5a3230abfadd476e8b04c9': 511,\n 'b139e104214a08ae3f2ebcce149cdf6e': 512,\n '2d3acd3e240c61820625fff66a19938f': 513,\n '5b8e4fd39d9786228649a8a8bec4e008': 514,\n 'bf62768ca46b6c3b5bea9515d1a1fc45': 515,\n '52d080a3e172c33fd6886a37e7288491': 516,\n '860320be12a1c050cd7731794e231bd3': 517,\n 'd7a84628c025d30f7b2c52c958767e76': 518,\n '571e0f7e2d992e738adff8b1bd43a521': 519,\n '0004d0b59e19461ff126e3a08a814c33': 520,\n 'ad972f10e0800b49d76fed33a21f6698': 521,\n '347665597cbfaef834886adbb848011f': 522,\n 'b21f9f98829dea9a48fd8aaddc1f159d': 523,\n '7c4ede33a62160a19586f6e26eaefacf': 524,\n '01e00f2f4bfcbb7505cb641066f2859b': 525,\n '2cb6b10338a7fc4117a80da24b582060': 526,\n '778609db5dc7e1a8315717a9cdd8fd6f': 527,\n '466accbac9a66b805ba50e42ad715740': 528,\n '0771fc6f0f4b1d7d1bb73bbbe14e0e31': 529,\n '8698ff92115213ab187d31d4ee5da8ea': 530,\n 'dc960c46c38bd16e953d97cdeefdbc68': 531,\n '7437d136770f5b35194cb46c1653efaa': 532,\n '9597353e41e6957b5e7aa79214fcb256': 533,\n '5129a5ddcd0dcd755232baa04c231698': 534,\n 'ae1eaa32d10b6c886981755d579fb4d8': 535,\n '65fc9fb4897a89789352e211ca2d398f': 536,\n 'cda72177eba360ff16b7f836e2754370': 537,\n 'f499d34bd87b42948b3960b8f6b82e74': 538,\n 'dc513ea4fbdaa7a14786ffdebc4ef64e': 539,\n '00e26af6ac3b1c1c49d7c3d79c60d000': 540,\n 'db576a7d2453575f29eab4bac787b919': 541,\n '3473decccb0509fb264818a7512a8b9b': 542,\n 'b5baa9c23ac3e015ad287b17a3d4afa3': 543,\n 'd827f12e35eae370ba9c65b7f6026695': 544,\n '102f0bb6efb3a6128a3c750dd16729be': 545,\n 'bf424cb7b0dea050a42b9739eb261a3a': 546,\n '2df45244f09369e16ea3f9117ca45157': 547,\n '17e23e50bedc63b4095e3d8204ce063b': 548,\n '894b77f805bd94d292574c38c5d628d5': 549,\n '0188e8b8b014829e2fa0f430f0a95961': 550,\n '2a50e9c2d6b89b95bcb416d6857f8b45': 551,\n '66808e327dc79d135ba18e051673d906': 552,\n '4b86abe48d358ecf194c56c69108433e': 553,\n 'd759175de8ea5b1d9a2660e45554894f': 554,\n '97d98119037c5b8a9663cb21fb8ebf47': 555,\n 'd8d31bd778da8bdd536187c36e48892b': 556,\n 'f7696a9b362ac5a51c3dc8f098b73923': 557,\n '46b2644cbdf489fac0e2d192212d206d': 558,\n 'ac796a52db3f16bbdb6557d3d89d1c5a': 559,\n 'c0a271bc0ecb776a094786474322cb82': 560,\n 'b1300291698eadedb559786c809cc592': 561,\n 'd72fbbccd9fe64c3a14f85d225a046f4': 562,\n '6d0f846348a856321729a2f36734d1a7': 563,\n 'bd70364a8fcba02366697df66f50b4d4': 564,\n '8c00dee24c9878fea090ed070b44f1ab': 565,\n '934815ad542a4a7c5e8a2dfa04fea9f5': 566,\n '45fbc6d3e05ebd93369ce542e8f2322d': 567,\n 'd2ed45a52bc0edfa11c2064e9edee8bf': 568,\n '1f4477bad7af3616c1f933a02bfabe4e': 569,\n 'd045c59a90d7587d8d671b5f5aec4e7c': 570,\n '0d0871f0806eae32d30983b62252da50': 571,\n '9f53d83ec0691550f7d2507d57f4f5a2': 572,\n '40b5f25a228570053bc64a043c3f1833': 573,\n 'bc7f621451b4f5df308a8e098112185d': 574,\n 'd46e1fcf4c07ce4a69ee07e4134bcef1': 575,\n '96055f5b06bf9381ac43879351642cf5': 576,\n '5be278a9e02bed9248a4674ff62fea2c': 577,\n '806beafe154032a5b818e97b4420ad98': 578,\n '149815eb972b3c370dee3b89d645ae14': 579,\n '277a78fc05c8864a170e9a56ceeabc4c': 580,\n '85d8ce590ad8981ca2c8286f79f59954': 581,\n '4a2ddf148c5a9c42151a529e8cbdcc06': 582,\n '55a988dfb00a914717b3000a3374694c': 583,\n 'a9eb812238f753132652ae09963a05e9': 584,\n 'da4fb5c6e93e74d3df8527599fa62642': 585,\n 'b73dfe25b4b8714c029b37a6ad3006fa': 586,\n '6766aa2750c19aad2fa1b32f36ed4aee': 587,\n 'c2ba1bc54b239208cb37b901c0d3b363': 588,\n '6cd9313ed34ef58bad3fdd504355e72c': 589,\n 'a36b0dcd1e6384abc0e1867860ad3ee3': 590,\n '973a5f0ccbc4ee3524ccf035d35b284b': 591,\n '314450613369e0ee72d0da7f6fee773c': 592,\n 'a00e5eb0973d24649a4a920fc53d9564': 593,\n 'a8f15eda80c50adb0e71943adc8015cf': 594,\n 'b3bbccd6c008e727785cb81b1aa08ac5': 595,\n '49ae49a23f67c759bf4fc791ba842aa2': 596,\n 'b56a18e0eacdf51aa2a5306b0f533204': 597,\n 'c4492cbe90fbdbf88a5aec486aa81ed5': 598,\n '07a9d3fed4c5ea6b17e80258dee231fa': 599,\n '10c66082c124f8afe3df4886f5e516e0': 600,\n '22722a343513ed45f14905eb07621686': 601,\n 'ef67f7c2d86352c2c42e19d20f881f53': 602,\n '9da187a7a191431db943a9a5a6fec6f4': 603,\n 'a3788c8c64fd65c470e23e7534c3ebc8': 604,\n '678a1491514b7f1006d605e9161946b1': 605,\n '66be31e4c40d676991f2405aaecc6934': 606,\n 'd860bd12ce9c026814bbdfc1c573f0f5': 607,\n '4c144c47ecba6f8318128703ca9e2601': 608,\n '8c249675aea6c3cbd91661bbae767ff1': 609,\n 'de594ef5c314372edec29b93cab9d72e': 610,\n '148510031349642de5ca0c544f31b2ef': 611,\n 'a78482ce76496fcf49085f2190e675b4': 612,\n 'daaaf13651380465fc284db6940d8478': 613,\n '4a3e00961a08879c34f91ca0070ea2f5': 614,\n '2c3ddf4bf13852db711dd1901fb517fa': 615,\n 'd3b1fb02964aa64e257f9f26a31f72cf': 616,\n 'cdd96eedd7f695f4d61802f8105ba2b0': 617,\n 'a226e450e214f350856e2980b6e55ac9': 618,\n '4671aeaf49c792689533b00664a5c3ef': 619,\n '5cbdfd0dfa22a3fca7266376887f549b': 620,\n '78b9cab19959e4af8ff46156ee460c74': 621,\n '0ebcc77dc72360d0eb8e9504c78d38bd': 622,\n 'e57c6b956a6521b28495f2886ca0977a': 623,\n '573eec40e4ef4f2089531dd5cbf629f8': 624,\n '297fa7777981f402dbba17e9f29e292d': 625,\n '50905d7b2216bfeccb5b41016357176b': 626,\n '8fb5f8be2aa9d6c64a04e3ab9f63feee': 627,\n '68d309812548887400e375eaa036d2f1': 628,\n '7eb7eabbe9bd03c2fc99881d04da9cbd': 629,\n '17ed8abedc255908be746d245e50263a': 630,\n '49182f81e6a13cf5eaa496d51fea6406': 631,\n '13f320e7b5ead1024ac95c3b208610db': 632,\n 'aba3b6fd5d186d28e06ff97135cade7f': 633,\n '621bf66ddb7c962aa0d22ac97d69b793': 634,\n 'ebd9629fc3ae5e9f6611e2ee05a31cef': 635,\n '07563a3fe3bbe7e3ba84431ad9d055af': 636,\n 'a86c450b76fb8c371afead6410d55534': 637,\n 'e5f6ad6ce374177eef023bf5d0c018b6': 638,\n '71a3cb155f8dc89bf3d0365288219936': 639,\n '9fe8593a8a330607d76796b35c64c600': 640,\n '642e92efb79421734881b53e1e1b18b6': 641,\n '072b030ba126b2f4b2374f342be9ed44': 642,\n '52720e003547c70561bf5e03b95aa99f': 643,\n 'c20ad4d76fe97759aa27a0c99bff6710': 644,\n '9bf31c7ff062936a96d3c8bd1f8f2ff3': 645,\n '4c27cea8526af8cfee3be5e183ac9605': 646,\n '6883966fd8f918a4aa29be29d2c386fb': 647,\n '9fd81843ad7f202f26c1a174c7357585': 648,\n '94f6d7e04a4d452035300f18b984988c': 649,\n 'b1563a78ec59337587f6ab6397699afc': 650,\n 'c399862d3b9d6b76c8436e924a68c45b': 651,\n 'e5841df2166dd424a57127423d276bbe': 652,\n 'b4a528955b84f584974e92d025a75d1f': 653,\n 'e369853df766fa44e1ed0ff613f563bd': 654,\n '9188905e74c28e489b44e954ec0b9bca': 655,\n '7250eb93b3c18cc9daa29cf58af7a004': 656,\n '01161aaa0b6d1345dd8fe4e481144d84': 657,\n '8bf1211fd4b7b94528899de0a43b9fb3': 658,\n 'b5b41fac0361d157d9673ecb926af5ae': 659,\n '8c6744c9d42ec2cb9e8885b54ff744d0': 660,\n 'e4a6222cdb5b34375400904f03d8e6a5': 661,\n '8e98d81f8217304975ccb23337bb5761': 662,\n 'c5ff2543b53f4cc0ad3819a36752467b': 663,\n '01386bd6d8e091c2ab4c7c7de644d37b': 664,\n 'f4be00279ee2e0a53eafdaa94a151e2c': 665,\n '766ebcd59621e305170616ba3d3dac32': 666,\n '3a066bda8c96b9478bb0512f0a43028c': 667,\n 'e3796ae838835da0b6f6ea37bcf8bcb7': 668,\n 'c24cd76e1ce41366a4bbe8a49b02a028': 669,\n 'f718499c1c8cef6730f9fd03c8125cab': 670,\n 'd6baf65e0b240ce177cf70da146c8dc8': 671,\n '07cdfd23373b17c6b337251c22b7ea57': 672,\n '92c8c96e4c37100777c7190b76d28233': 673,\n '2b44928ae11fb9384c4cf38708677c48': 674,\n '3d2d8ccb37df977cb6d9da15b76c3f3a': 675,\n '35cf8659cfcb13224cbd47863a34fc58': 676,\n 'beb22fb694d513edcf5533cf006dfeae': 677,\n '1141938ba2c2b13f5505d7c424ebae5f': 678,\n '9c82c7143c102b71c593d98d96093fde': 679,\n '9be40cee5b0eee1462c82c6964087ff9': 680,\n '24681928425f5a9133504de568f5f6df': 681,\n 'f7177163c833dff4b38fc8d2872f1ec6': 682,\n 'eaae339c4d89fc102edd9dbdb6a28915': 683,\n 'a5cdd4aa0048b187f7182f1b9ce7a6a7': 684,\n '217eedd1ba8c592db97d0dbe54c7adfc': 685,\n '38af86134b65d0f10fe33d30dd76442e': 686,\n '087408522c31eeb1f982bc0eaf81d35f': 687,\n 'a760880003e7ddedfef56acb3b09697f': 688,\n 'edfbe1afcf9246bb0d40eb4d8027d90f': 689,\n '37bc2f75bf1bcfe8450a1a41c200364c': 690,\n '3a835d3215755c435ef4fe9965a3f2a0': 691,\n 'fae0b27c451c728867a567e8c1bb4e53': 692,\n '86b122d4358357d834a87ce618a55de0': 693,\n '6e7b33fdea3adc80ebd648fffb665bb8': 694,\n '32b30a250abd6331e03a2a1f16466346': 695,\n 'b6edc1cd1f36e45daf6d7824d7bb2283': 696,\n 'e0cf1f47118daebc5b16269099ad7347': 697,\n '96b9bff013acedfb1d140579e2fbeb63': 698,\n '71ad16ad2c4d81f348082ff6c4b20768': 699,\n '43fa7f58b7eac7ac872209342e62e8f1': 700,\n 'afda332245e2af431fb7b672a68b659d': 701,\n '8e82ab7243b7c66d768f1b8ce1c967eb': 702,\n '6f2268bd1d3d3ebaabb04d6b5d099425': 703,\n '2bb232c0b13c774965ef8558f0fbd615': 704,\n 'df263d996281d984952c07998dc54358': 705,\n '6d70cb65d15211726dcce4c0e971e21c': 706,\n 'ba3866600c3540f67c1e9575e213be0a': 707,\n 'a5bfc9e07964f8dddeb95fc584cd965d': 708,\n '093f65e080a295f8076b1c5722a46aa2': 709,\n '6aca97005c68f1206823815f66102863': 710,\n '1595af6435015c77a7149e92a551338e': 711,\n '9dfcd5e558dfa04aaf37f137a1d9d3e5': 712,\n '950a4152c2b4aa3ad78bdd6b366cc179': 713,\n 'a666587afda6e89aec274a3657558a27': 714,\n '3fe94a002317b5f9259f82690aeea4cd': 715,\n '9e3cfc48eccf81a0d57663e129aef3cb': 716,\n '28267ab848bcf807b2ed53c3a8f8fc8a': 717,\n 'f4f6dce2f3a0f9dada0c2b5b66452017': 718,\n 'f79921bbae40a577928b76d2fc3edc2a': 719,\n 'f9028faec74be6ec9b852b0a542e2f39': 720,\n 'bea5955b308361a1b07bc55042e25e54': 721,\n '430c3626b879b4005d41b8a46172e0c0': 722,\n 'ccc0aa1b81bf81e16c676ddb977c5881': 723,\n 'c4015b7f368e6b4871809f49debe0579': 724,\n 'ab88b15733f543179858600245108dd8': 725,\n 'ea5d2f1c4608232e07d3aa3d998e5135': 726,\n 'f387624df552cea2f369918c5e1e12bc': 727,\n '7634ea65a4e6d9041cfd3f7de18e334a': 728,\n '24896ee4c6526356cc127852413ea3b4': 729,\n '670e8a43b246801ca1eaca97b3e19189': 730,\n 'a5e00132373a7031000fd987a3c9f87b': 731,\n '2ba596643cbbbc20318224181fa46b28': 732,\n 'd240e3d38a8882ecad8633c8f9c78c9b': 733,\n 'c4b31ce7d95c75ca70d50c19aef08bf1': 734,\n '0f28b5d49b3020afeecd95b4009adf4c': 735,\n '437d7d1d97917cd627a34a6a0fb41136': 736,\n '92977ae4d2ba21425a59afb269c2a14e': 737,\n 'be3159ad04564bfb90db9e32851ebf9c': 738,\n '8757150decbd89b0f5442ca3db4d0e0e': 739,\n '84117275be999ff55a987b9381e01f96': 740,\n '6e0721b2c6977135b916ef286bcb49ec': 741,\n 'cc1aa436277138f61cda703991069eaf': 742,\n '2ab56412b1163ee131e1246da0955bd1': 743,\n '7b13b2203029ed80337f27127a9f1d28': 744,\n '89fcd07f20b6785b92134bd6c1d0fa42': 745,\n 'cedebb6e872f539bef8c3f919874e9d7': 746,\n '5807a685d1a9ab3b599035bc566ce2b9': 747,\n '98d6f58ab0dafbb86b083a001561bb34': 748,\n 'be83ab3ecd0db773eb2dc1b0a17836a1': 749,\n '7fec306d1e665bc9c748b5d2b99a6e97': 750,\n '53c04118df112c13a8c34b38343b9c10': 751,\n '4ca82782c5372a547c104929f03fe7a9': 752,\n 'cd89fef7ffdd490db800357f47722b20': 753,\n 'c06d06da9666a219db15cf575aff2824': 754,\n '9431c87f273e507e6040fcb07dcb4509': 755,\n '5737c6ec2e0716f3d8a7a5c4e0de0d9a': 756,\n '7647966b7343c29048673252e490f736': 757,\n '28f0b864598a1291557bed248a998d4e': 758,\n 'e515df0d202ae52fcebb14295743063b': 759,\n 'afdec7005cc9f14302cd0474fd0f3c96': 760,\n 'e17184bcb70dcf3942c54e0b537ffc6d': 761,\n '2387337ba1e0b0249ba90f55b2ba2521': 762,\n 'b706835de79a2b4e80506f582af3676a': 763,\n '0a0a0c8aaa00ade50f74a3f0ca981ed7': 764,\n 'ef8446f35513a8d6aa2308357a268a7e': 765,\n '253614bbac999b38b5b60cae531c4969': 766,\n 'd860edd1dd83b36f02ce52bde626c653': 767,\n '3621f1454cacf995530ea53652ddf8fb': 768,\n '7bb060764a818184ebb1cc0d43d382aa': 769,\n '54b2b21af94108d83c2a909d5b0a6a50': 770,\n 'f55cadb97eaff2ba1980e001b0bd9842': 771,\n 'e139c454239bfde741e893edb46a06cc': 772,\n '34ed066df378efacc9b924ec161e7639': 773,\n '270edd69788dce200a3b395a6da6fdb7': 774,\n 'd47268e9db2e9aa3827bba3afb7ff94a': 775,\n 'cbb6a3b884f4f88b3a8e3d44c636cbd8': 776,\n 'c042f4db68f23406c6cecf84a7ebb0fe': 777,\n 'b2f627fff19fda463cb386442eac2b3d': 778,\n '68053af2923e00204c3ca7c6a3150cf7': 779,\n '13168e6a2e6c84b4b7de9390c0ef5ec5': 780,\n '4e732ced3463d06de0ca9a15b6153677': 781,\n 'db957c626a8cd7a27231adfbf51e20eb': 782,\n '2b24d495052a8ce66358eb576b8912c8': 783,\n '69421f032498c97020180038fddb8e24': 784,\n '3871bd64012152bfb53fdf04b401193f': 785,\n '2823f4797102ce1a1aec05359cc16dd9': 786,\n '470e7a4f017a5476afb7eeb3f8b96f9b': 787,\n 'fa14d4fe2f19414de3ebd9f63d5c0169': 788,\n 'f31b20466ae89669f9741e047487eb37': 789,\n 'de73998802680548b916f1947ffbad76': 790,\n 'fc8001f834f6a5f0561080d134d53d29': 791,\n '1a0a283bfe7c549dee6c638a05200e32': 792,\n '8dd48d6a2e2cad213179a3992c0be53c': 793,\n 'a9a6653e48976138166de32772b1bf40': 794,\n '8eefcfdf5990e441f0fb6f3fad709e21': 795,\n '1728efbda81692282ba642aafd57be3a': 796,\n 'cbcb58ac2e496207586df2854b17995f': 797,\n '99c5e07b4d5de9d18c350cdf64c5aa3d': 798,\n 'dd458505749b2941217ddd59394240e8': 799,\n '17c276c8e723eb46aef576537e9d56d0': 800,\n '88ae6372cfdc5df69a976e893f4d554b': 801,\n 'd79aac075930c83c2f1e369a511148fe': 802,\n '287e03db1d99e0ec2edb90d079e142f3': 803,\n '184260348236f9554fe9375772ff966e': 804,\n 'afe434653a898da20044041262b3ac74': 805,\n 'c65d7bd70fe3e5e3a2f3de681edc193d': 806,\n '40008b9a5380fcacce3976bf7c08af5b': 807,\n '7af6266cc52234b5aa339b16695f7fc4': 808,\n '3214a6d842cc69597f9edf26df552e43': 809,\n '73278a4a86960eeb576a8fd4c9ec6997': 810,\n '43baa6762fa81bb43b39c62553b2970d': 811,\n 'f61d6947467ccd3aa5af24db320235dd': 812,\n 'bca82e41ee7b0833588399b1fcd177c7': 813,\n 'acf4b89d3d503d8252c9c4ba75ddbf6d': 814,\n 'aa169b49b583a2b5af89203c2b78c67c': 815,\n 'f57a2f557b098c43f11ab969efe1504b': 816,\n '5d616dd38211ebb5d6ec52986674b6e4': 817,\n 'ef50c335cca9f340bde656363ebd02fd': 818,\n '7ce3284b743aefde80ffd9aec500e085': 819,\n '621461af90cadfdaf0e8d4cc25129f91': 820,\n '8b6dd7db9af49e67306feb59a8bdc52c': 821,\n 'e97ee2054defb209c35fe4dc94599061': 822,\n '58c54802a9fb9526cd0923353a34a7ae': 823,\n '08c5433a60135c32e34f46a71175850c': 824,\n '5a4b25aaed25c2ee1b74de72dc03c14e': 825,\n '53fde96fcc4b4ce72d7739202324cd49': 826,\n '15d4e891d784977cacbfcbb00c48f133': 827,\n '1bc0249a6412ef49b07fe6f62e6dc8de': 828,\n 'a284df1155ec3e67286080500df36a9a': 829,\n '459a4ddcb586f24efd9395aa7662bc7c': 830,\n '0f3d014eead934bbdbacb62a01dc4831': 831,\n '7fb8ceb3bd59c7956b1df66729296a4c': 832,\n '00ac8ed3b4327bdd4ebbebcb2ba10a00': 833,\n 'ab541d874c7bc19ab77642849e02b89f': 834,\n '10c272d06794d3e5785d5e7c5356e9ff': 835,\n '67f7fb873eaf29526a11a9b7ac33bfac': 836,\n 'ae5e3ce40e0404a45ecacaaf05e5f735': 837,\n '310ce61c90f3a46e340ee8257bc70e93': 838,\n 'f106b7f99d2cb30c3db1c3cc0fde9ccb': 839,\n '64f1f27bf1b4ec22924fd0acb550c235': 840,\n 'd86ea612dec96096c5e0fcc8dd42ab6d': 841,\n '9cf81d8026a9018052c429cc4e56739b': 842,\n '185c29dc24325934ee377cfda20e414c': 843,\n '812b4ba287f5ee0bc9d43bbf5bbe87fb': 844,\n 'a02ffd91ece5e7efeb46db8f10a74059': 845,\n '00ec53c4682d36f5c4359f4ae7bd7ba1': 846,\n '53e3a7161e428b65688f14b84d61c610': 847,\n '069d3bb002acd8d7dd095917f9efe4cb': 848,\n '33e8075e9970de0cfea955afd4644bb2': 849,\n '65658fde58ab3c2b6e5132a39fae7cb9': 850,\n '7bcdf75ad237b8e02e301f4091fb6bc8': 851,\n '9b72e31dac81715466cd580a448cf823': 852,\n '10a5ab2db37feedfdeaab192ead4ac0e': 853,\n '9f396fe44e7c05c16873b05ec425cbad': 854,\n '8fecb20817b3847419bb3de39a609afe': 855,\n '38913e1d6a7b94cb0f55994f679f5956': 856,\n '8b16ebc056e613024c057be590b542eb': 857,\n '9cc138f8dc04cbf16240daa92d8d50e2': 858,\n 'd64a340bcb633f536d56e51874281454': 859,\n 'fde9264cf376fffe2ee4ddf4a988880d': 860,\n '25ddc0f8c9d3e22e03d3076f98d83cb2': 861,\n 'a4f23670e1833f3fdb077ca70bbd5d66': 862,\n '8cb22bdd0b7ba1ab13d742e22eed8da2': 863,\n '3cf166c6b73f030b4f67eeaeba301103': 864,\n '14bfa6bb14875e45bba028a21ed38046': 865,\n 'd1c38a09acc34845c6be3a127a5aacaf': 866,\n 'c5ab0bc60ac7929182aadd08703f1ec6': 867,\n 'a532400ed62e772b9dc0b86f46e583ff': 868,\n 'dc82d632c9fcecb0778afbc7924494a6': 869,\n '08419be897405321542838d77f855226': 870,\n 'cdc0d6e63aa8e41c89689f54970bb35f': 871,\n 'a733fa9b25f33689e2adbe72199f0e62': 872,\n '42e77b63637ab381e8be5f8318cc28a2': 873,\n 'dc6a70712a252123c40d2adba6a11d84': 874,\n '291597a100aadd814d197af4f4bab3a7': 875,\n '1905aedab9bf2477edc068a355bba31a': 876,\n 'd96409bf894217686ba124d7356686c9': 877,\n '1c383cd30b7c298ab50293adfecb7b18': 878,\n '06138bc5af6023646ede0e1f7c1eac75': 879,\n '16c222aa19898e5058938167c8ab6c57': 880,\n '36a16a2505369e0c922b6ea7a23a56d2': 881,\n '818f4654ed39a1c147d1e51a00ffb4cb': 882,\n '7cce53cf90577442771720a370c3c723': 883,\n 'c2aee86157b4a40b78132f1e71a9e6f1': 884,\n '1fb2a1c37b18aa4611c3949d6148d0f8': 885,\n '5fa9e41bfec0725742cc9d15ef594120': 886}"
     },
     "execution_count": 215,
     "metadata": {},
     "output_type": "execute_result"
    }
   ],
   "source": [],
   "metadata": {
    "collapsed": false,
    "pycharm": {
     "name": "#%%\n"
    }
   }
  },
  {
   "cell_type": "code",
   "execution_count": 214,
   "outputs": [
    {
     "data": {
      "text/plain": "0.0"
     },
     "execution_count": 214,
     "metadata": {},
     "output_type": "execute_result"
    }
   ],
   "source": [
    "\n",
    "one_hot[3]"
   ],
   "metadata": {
    "collapsed": false,
    "pycharm": {
     "name": "#%%\n"
    }
   }
  },
  {
   "cell_type": "code",
   "execution_count": null,
   "outputs": [],
   "source": [],
   "metadata": {
    "collapsed": false,
    "pycharm": {
     "name": "#%%\n"
    }
   }
  }
 ],
 "metadata": {
  "kernelspec": {
   "display_name": "Python 3",
   "language": "python",
   "name": "python3"
  },
  "language_info": {
   "codemirror_mode": {
    "name": "ipython",
    "version": 2
   },
   "file_extension": ".py",
   "mimetype": "text/x-python",
   "name": "python",
   "nbconvert_exporter": "python",
   "pygments_lexer": "ipython2",
   "version": "2.7.6"
  }
 },
 "nbformat": 4,
 "nbformat_minor": 0
}