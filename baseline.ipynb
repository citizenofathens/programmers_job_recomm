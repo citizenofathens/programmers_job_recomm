{
 "cells": [
  {
   "cell_type": "code",
   "execution_count": 13,
   "metadata": {
    "collapsed": true,
    "pycharm": {
     "name": "#%%\n"
    }
   },
   "outputs": [],
   "source": [
    "import pandas as pd\n",
    "# cv , baseline, feature"
   ]
  },
  {
   "cell_type": "code",
   "execution_count": 14,
   "outputs": [],
   "source": [
    "train = pd.read_csv('./train_job/train.csv')"
   ],
   "metadata": {
    "collapsed": false,
    "pycharm": {
     "name": "#%%\n"
    }
   }
  },
  {
   "cell_type": "code",
   "execution_count": 15,
   "outputs": [],
   "source": [
    "test = pd.read_csv('./test_job.csv')"
   ],
   "metadata": {
    "collapsed": false,
    "pycharm": {
     "name": "#%%\n"
    }
   }
  },
  {
   "cell_type": "code",
   "execution_count": 16,
   "outputs": [],
   "source": [
    "sample_output_job=  pd.read_csv('./sample_output_job.csv')"
   ],
   "metadata": {
    "collapsed": false,
    "pycharm": {
     "name": "#%%\n"
    }
   }
  },
  {
   "cell_type": "code",
   "execution_count": 17,
   "outputs": [],
   "source": [
    "job_tag = pd.read_csv('./train_job/job_tags.csv')"
   ],
   "metadata": {
    "collapsed": false,
    "pycharm": {
     "name": "#%%\n"
    }
   }
  },
  {
   "cell_type": "code",
   "execution_count": 18,
   "outputs": [],
   "source": [
    "job_companies = pd.read_csv('./train_job/job_companies.csv')"
   ],
   "metadata": {
    "collapsed": false,
    "pycharm": {
     "name": "#%%\n"
    }
   }
  },
  {
   "cell_type": "code",
   "execution_count": 19,
   "outputs": [],
   "source": [
    "tags = pd.read_csv('./train_job/tags.csv')"
   ],
   "metadata": {
    "collapsed": false,
    "pycharm": {
     "name": "#%%\n"
    }
   }
  },
  {
   "cell_type": "code",
   "execution_count": 20,
   "outputs": [],
   "source": [
    "user_tags = pd.read_csv('./train_job/user_tags.csv')"
   ],
   "metadata": {
    "collapsed": false,
    "pycharm": {
     "name": "#%%\n"
    }
   }
  },
  {
   "cell_type": "code",
   "execution_count": 20,
   "outputs": [],
   "source": [],
   "metadata": {
    "collapsed": false,
    "pycharm": {
     "name": "#%%\n"
    }
   }
  },
  {
   "cell_type": "code",
   "execution_count": 21,
   "outputs": [
    {
     "data": {
      "text/plain": "                                tagID                   keyword\n0    602d1305678a8d5fdb372271e980da6a  Amazon Web Services(AWS)\n1    e3251075554389fe91d17a794861d47b                Tensorflow\n2    a1d50185e7426cbb0acad1e6ca74b9aa                    Docker\n3    884d79963bd8bc0ae9b13a1aa71add73                       Git\n4    4122cb13c7a474c1976c9706ae36521d                    Python\n..                                ...                       ...\n882  818f4654ed39a1c147d1e51a00ffb4cb                        활용\n883  7cce53cf90577442771720a370c3c723                    mybais\n884  c2aee86157b4a40b78132f1e71a9e6f1                         *\n885  1fb2a1c37b18aa4611c3949d6148d0f8             Autodesk Maya\n886  5fa9e41bfec0725742cc9d15ef594120                Apache Pig\n\n[887 rows x 2 columns]",
      "text/html": "<div>\n<style scoped>\n    .dataframe tbody tr th:only-of-type {\n        vertical-align: middle;\n    }\n\n    .dataframe tbody tr th {\n        vertical-align: top;\n    }\n\n    .dataframe thead th {\n        text-align: right;\n    }\n</style>\n<table border=\"1\" class=\"dataframe\">\n  <thead>\n    <tr style=\"text-align: right;\">\n      <th></th>\n      <th>tagID</th>\n      <th>keyword</th>\n    </tr>\n  </thead>\n  <tbody>\n    <tr>\n      <th>0</th>\n      <td>602d1305678a8d5fdb372271e980da6a</td>\n      <td>Amazon Web Services(AWS)</td>\n    </tr>\n    <tr>\n      <th>1</th>\n      <td>e3251075554389fe91d17a794861d47b</td>\n      <td>Tensorflow</td>\n    </tr>\n    <tr>\n      <th>2</th>\n      <td>a1d50185e7426cbb0acad1e6ca74b9aa</td>\n      <td>Docker</td>\n    </tr>\n    <tr>\n      <th>3</th>\n      <td>884d79963bd8bc0ae9b13a1aa71add73</td>\n      <td>Git</td>\n    </tr>\n    <tr>\n      <th>4</th>\n      <td>4122cb13c7a474c1976c9706ae36521d</td>\n      <td>Python</td>\n    </tr>\n    <tr>\n      <th>...</th>\n      <td>...</td>\n      <td>...</td>\n    </tr>\n    <tr>\n      <th>882</th>\n      <td>818f4654ed39a1c147d1e51a00ffb4cb</td>\n      <td>활용</td>\n    </tr>\n    <tr>\n      <th>883</th>\n      <td>7cce53cf90577442771720a370c3c723</td>\n      <td>mybais</td>\n    </tr>\n    <tr>\n      <th>884</th>\n      <td>c2aee86157b4a40b78132f1e71a9e6f1</td>\n      <td>*</td>\n    </tr>\n    <tr>\n      <th>885</th>\n      <td>1fb2a1c37b18aa4611c3949d6148d0f8</td>\n      <td>Autodesk Maya</td>\n    </tr>\n    <tr>\n      <th>886</th>\n      <td>5fa9e41bfec0725742cc9d15ef594120</td>\n      <td>Apache Pig</td>\n    </tr>\n  </tbody>\n</table>\n<p>887 rows × 2 columns</p>\n</div>"
     },
     "execution_count": 21,
     "metadata": {},
     "output_type": "execute_result"
    }
   ],
   "source": [
    "tags"
   ],
   "metadata": {
    "collapsed": false,
    "pycharm": {
     "name": "#%%\n"
    }
   }
  },
  {
   "cell_type": "code",
   "execution_count": 22,
   "outputs": [
    {
     "data": {
      "text/plain": "                                 jobID                             tagID  \\\n0     320722549d1751cf3f247855f937b982  d38901788c533e8286cb6400b40b386d   \n1     e744f91c29ec99f0e662c9177946c627  3948ead63a9f2944218de038d8934305   \n2     e744f91c29ec99f0e662c9177946c627  0e095e054ee94774d6a496099eb1cf6a   \n3     e820a45f1dfc7b95282d10b6087e11c0  7d771e0e8f3633ab54856925ecdefc5d   \n4     e820a45f1dfc7b95282d10b6087e11c0  6c8dba7d0df1c4a79dd07646be9a26c8   \n...                                ...                               ...   \n3472  b4a528955b84f584974e92d025a75d1f  bb04af0f7ecaee4aae62035497da1387   \n3473  6c8dba7d0df1c4a79dd07646be9a26c8  3bf55bbad370a8fcad1d09b005e278c2   \n3474  6c8dba7d0df1c4a79dd07646be9a26c8  0e9fa1f3e9e66792401a6972d477dcc3   \n3475  6c8dba7d0df1c4a79dd07646be9a26c8  0c048b3a434e49e655c1247efb389cec   \n3476  9f36407ead0629fc166f14dde7970f68  c4851e8e264415c4094e4e85b0baa7cc   \n\n         keyword  \n0           Ruby  \n1        Node.js  \n2     JavaScript  \n3           HTML  \n4         Vue.js  \n...          ...  \n3472         C++  \n3473       Swift  \n3474       Realm  \n3475    Firebase  \n3476         PHP  \n\n[3477 rows x 3 columns]",
      "text/html": "<div>\n<style scoped>\n    .dataframe tbody tr th:only-of-type {\n        vertical-align: middle;\n    }\n\n    .dataframe tbody tr th {\n        vertical-align: top;\n    }\n\n    .dataframe thead th {\n        text-align: right;\n    }\n</style>\n<table border=\"1\" class=\"dataframe\">\n  <thead>\n    <tr style=\"text-align: right;\">\n      <th></th>\n      <th>jobID</th>\n      <th>tagID</th>\n      <th>keyword</th>\n    </tr>\n  </thead>\n  <tbody>\n    <tr>\n      <th>0</th>\n      <td>320722549d1751cf3f247855f937b982</td>\n      <td>d38901788c533e8286cb6400b40b386d</td>\n      <td>Ruby</td>\n    </tr>\n    <tr>\n      <th>1</th>\n      <td>e744f91c29ec99f0e662c9177946c627</td>\n      <td>3948ead63a9f2944218de038d8934305</td>\n      <td>Node.js</td>\n    </tr>\n    <tr>\n      <th>2</th>\n      <td>e744f91c29ec99f0e662c9177946c627</td>\n      <td>0e095e054ee94774d6a496099eb1cf6a</td>\n      <td>JavaScript</td>\n    </tr>\n    <tr>\n      <th>3</th>\n      <td>e820a45f1dfc7b95282d10b6087e11c0</td>\n      <td>7d771e0e8f3633ab54856925ecdefc5d</td>\n      <td>HTML</td>\n    </tr>\n    <tr>\n      <th>4</th>\n      <td>e820a45f1dfc7b95282d10b6087e11c0</td>\n      <td>6c8dba7d0df1c4a79dd07646be9a26c8</td>\n      <td>Vue.js</td>\n    </tr>\n    <tr>\n      <th>...</th>\n      <td>...</td>\n      <td>...</td>\n      <td>...</td>\n    </tr>\n    <tr>\n      <th>3472</th>\n      <td>b4a528955b84f584974e92d025a75d1f</td>\n      <td>bb04af0f7ecaee4aae62035497da1387</td>\n      <td>C++</td>\n    </tr>\n    <tr>\n      <th>3473</th>\n      <td>6c8dba7d0df1c4a79dd07646be9a26c8</td>\n      <td>3bf55bbad370a8fcad1d09b005e278c2</td>\n      <td>Swift</td>\n    </tr>\n    <tr>\n      <th>3474</th>\n      <td>6c8dba7d0df1c4a79dd07646be9a26c8</td>\n      <td>0e9fa1f3e9e66792401a6972d477dcc3</td>\n      <td>Realm</td>\n    </tr>\n    <tr>\n      <th>3475</th>\n      <td>6c8dba7d0df1c4a79dd07646be9a26c8</td>\n      <td>0c048b3a434e49e655c1247efb389cec</td>\n      <td>Firebase</td>\n    </tr>\n    <tr>\n      <th>3476</th>\n      <td>9f36407ead0629fc166f14dde7970f68</td>\n      <td>c4851e8e264415c4094e4e85b0baa7cc</td>\n      <td>PHP</td>\n    </tr>\n  </tbody>\n</table>\n<p>3477 rows × 3 columns</p>\n</div>"
     },
     "execution_count": 22,
     "metadata": {},
     "output_type": "execute_result"
    }
   ],
   "source": [
    "job_tag.merge(tags, on='tagID', how='left')"
   ],
   "metadata": {
    "collapsed": false,
    "pycharm": {
     "name": "#%%\n"
    }
   }
  },
  {
   "cell_type": "code",
   "execution_count": 23,
   "outputs": [
    {
     "data": {
      "text/plain": "array([], shape=(0, 1782), dtype=float64)"
     },
     "execution_count": 23,
     "metadata": {},
     "output_type": "execute_result"
    }
   ],
   "source": [
    "import numpy as np\n",
    "np.empty(shape=(0,1782))\n"
   ],
   "metadata": {
    "collapsed": false,
    "pycharm": {
     "name": "#%%\n"
    }
   }
  },
  {
   "cell_type": "code",
   "execution_count": 24,
   "outputs": [
    {
     "data": {
      "text/plain": "array(['fe292163d06253b716e9a0099b42031d',\n       '6377fa90618fae77571e8dc90d98d409',\n       '8ec0888a5b04139be0dfe942c7eb4199',\n       'f862b39f767d3a1991bdeb2ea1401c9c',\n       'cac14930c65d72c16efac2c51a6b7f71',\n       'ed1ca6971578b1da0e4ad55b48d77fda',\n       '8109c2c482264f96f8ac69a9a99db308',\n       '14ccd7a3d2daa57d06f4741f0168bb1d',\n       '2afacaaf807c1843c41896ae794835d9',\n       'd7b2c4284fda91263ab9b89254cd7c43',\n       '8ec72a61b2adad097a1c3aa06751e8c4',\n       '6da6479250104018131de61655f1f385',\n       '4952d2ac78b534c78d7a21c60a236e4c',\n       '838c13b8aa97e2d988ef4495460f2e0e',\n       '2f05776d37d873642af484255572600d',\n       '40369b31ac85b623b72c3d50151ff55c',\n       'd41e0e6f6f1e29098d9d152511503ab2',\n       '879b56cccf6b57314ad724c65cf270e9',\n       'b3c865b84617fa5e555865ebe0e54612',\n       'b052e2e0c0ad1b2d5036bd56e27d061c',\n       'a35af76a1c0bb174a3cfc66592804848',\n       'c70daf247944fe3add32218f914c75a6',\n       'cb08b2c94dbb772324444bb4ed7cc1a4',\n       'e75d4d01cecdda3c64483016bd6af4c1',\n       'cea22b0ec5545a7c12879c89b0c252d0',\n       '0e010fbd16cca07dc2c06d8745c0709a',\n       '2eeb9064f7f5b2569912cbb772a96438',\n       '688da39dcb1131d0d91b348653850d08',\n       'ed95fbfb85741296a47ccfb141692f97',\n       '77330e1330ae2b086e5bfcae50d9ffae',\n       '73b369de2d89843c6010939e56f6fb28',\n       '06bf5de6b1d9fed5dacca7180e5938f1',\n       '1d0d19d2d7d31ccf3747614aec7273c8',\n       '4611b8ff403bea67637c3f1911940668',\n       '994b330a8b0579bcbe47a7adbd470531',\n       '0cc8f7bf8a8d56980414a6e4bc69cdc6',\n       'f0860e86a075967417cd511aa80f0e4d',\n       'f2bbbacea59d2e5555d7054411f4093e',\n       'c07e670b7bc8ebfdd99f4091ff2410ff',\n       'c39e997b89723426aaaf18a3d883ad26',\n       '282bb8a7afdb969e5ac8e1848f741d9a',\n       '11bbe38e1cd8d806c2f4f372c7975642',\n       '87c0a904d6f959e5ecbd0bdaa29d8be9',\n       '68cb94b97d00979f4e8127915885b641',\n       'd2fcd16484b4dc546a2495c261c433db',\n       '7b8fd452c655f9d2050f9e9a94be4e6f',\n       'b94a3f555cc529e2ef5d5277651a33c1',\n       'd805b6758ed06f65b516d0d960ad39d2',\n       'ebaee1af0c501f22ddfe242fc16dae53',\n       'c8e91654bec86337e3228e8b57c25024',\n       'a3371575663f7b9dd7629822611470bf',\n       '15d84e9a5eceb67bcb8fb0e8c839a903',\n       '78492ae8ee0c7aeab730674170296142',\n       '01ed443356f762e9132b58f8c80e131d',\n       '6ff9a855e440fa3a54807a91fdf82da4',\n       '792bb50d101782d726d38be8f81f145b',\n       '492d101481e6b9c9f6183791f09dbe92',\n       '42106d72a1fdb186303e13a372b36bbf',\n       '79fc3070bcfc1f4125855692285a3a69',\n       '3e15cc11f979ed25912dff5b0669f2cd',\n       'fdfa9a38cf3d8d850a6fd47b438bfe43',\n       'f32196295a6f0c13d5bedc880d3d66a2',\n       '1f1baa5b8edac74eb4eaa329f14a0361',\n       '7c33ebcd1cd8a46827f716879fb51a31',\n       '788ecdd13f033f8131eecd90ee59993e',\n       '6bd22a86b1f7a3a11de928d301f86d67',\n       '40bff17104e9ee73048daa7f190c31c9',\n       'd083e4e5172a4b14ae887b3eee370664',\n       '8beafd6a61d588adce08b0b0769d24d3',\n       '67adefb430df142b099bed89bd491524',\n       '38a53a52f4de3322241231253815e10a',\n       'e576423831e043f7928d9ac113abbe6f',\n       '2b6bfd10f2852cde94b0da653771913d',\n       '849c1698afcec69d2ccf6ca24203c838',\n       '00dd1479a58930a357e7b4e2ab4c9f33',\n       'a2896cb11aed969ffec7bb02a7c772a8',\n       '09a34e37731b0acc055557e833a78eff',\n       'c0b199d73bdf390c2f4c3150b6ee1574',\n       '49f06abdf8d2b198c9440a06fa9cee95',\n       'ac985a9db5faeb44c94a334430ccc241',\n       '42c2cc0b74b0f4a3a7e52d1ff617e05e',\n       '30cdb2e56c129eba645faf6c16c52a86',\n       '82f7a753a1ad3781e51fa0aa8862998c',\n       'a2137a2ae8e39b5002a3f8909ecb88fe',\n       '5b34f52c8cfb9f3fa83613822ba0118c',\n       '68828f3a05c0c973c6906b7caa48b12c',\n       '3532ee676d13916210e903ff4d85c04f',\n       '078dd365ebc98784af7f8df76a98f53a',\n       'b26acad43640ebe8b52f045c84ba2660',\n       'be995681439ef1e81206d2476963fffd',\n       '6bc5d37951120d6d49672ce647c4e563',\n       'b292c42b08d209a8baa530adc393671d',\n       '13ad871d10a46f6e262e67f70cf55140',\n       '0c3b7a46ba662029936002edd5613a45',\n       '68a61f9415f07a4040f7afe82a058608',\n       '3203e06c1efc6fdb23016650d1d1888c',\n       '8dd2a380b9f1c342a2d9319c345de676',\n       'ac9276d79d4473b8075df15ea199f8f4',\n       '8c19f571e251e61cb8dd3612f26d5ecf',\n       '0004289ee1c7b8b08c77e19878106ae3',\n       '03c60b7fc8519077914166ebcfbd6a34',\n       '5585082ed1ea25eaf73052029f2161ce',\n       'a3545bd79d31f9a72d3a78690adf73fc',\n       '53df950db87aecf09d328092faf4e03f',\n       '6a901742172397a9e4c31a159a982708',\n       '3edc356b112be4cda9472f2e37549e7d',\n       '74559ea27870b992ed5352a9d988e382',\n       '391e6809e1c9c36987ad52397b51b8fd',\n       'ab070da1f13ea7588758ec36a13b23ae',\n       '3eb2e5c90ddc9c4127a0cb655a8349e6',\n       'ce3c9c905135bab43c25500d3435a7a7',\n       'fd1b4044581c63b9cb16d91958302072',\n       'f98e712b83a95b07ef771150ecee9cd4',\n       '34d4d47d122a2b1867babde81d02c85b',\n       '946aa0c612952da8d67dd338a43d5929',\n       '83ba50615f9b64e7df883623cb79b582',\n       '8f2fc823e0325a4250bcd62a28e83753',\n       'd89f3a35931c386956c1a402a8e09941',\n       'bf1752a1ae4e621b22d3ab7ae4ce0235',\n       'b5c0275ce9836aa2f2afaafbdd1a061b',\n       '42edd1ec1dc5f5c1f11fd74a959e96c9',\n       '3f616e2b4d8527b9ce80f20268fd82c0',\n       'eeedf6d4d717eba333e1b53f1b5375c8',\n       'fa2a28ade168508972790316e314d47e',\n       'a56612c9db38de8f62f993bc28da82e6',\n       '76d7c120cc635913a4911b28540ebbfe',\n       'ce840aa9583592e71f3db26ee6e41703',\n       'e57c6b956a6521b28495f2886ca0977a',\n       '2b3c53530d9f5948021ce2d30ca78def',\n       'dee0507557ce73c60b2b1532b6f43e6f',\n       '6b08cb11fb528ea9a29c488857b93c36',\n       '3fb6224c45e07abd01a213f707d2219b',\n       '5bfbe18286921673dbb4c9fa80f0734b',\n       '951923a83597e7db3def99b660cf0fa3',\n       '94123510dc3222535366c91a35c0dc7e',\n       '4802630177809fcf861411501a443abb',\n       '4000682c286cfbb572c7f68e7c9a64c9',\n       'bd652bf1e9b66171ef77f1e0db2e9c1e',\n       '9782bb9642ce588f013e164b12f1208b',\n       '7c84a51e457e21ef8c84327bcf0b37b9',\n       '84afe92172229288d8503f0bfc0d1fc6',\n       '859b755563f548d008f936906a959c8f',\n       '37b96469b46dfd9919cd984b788ceb17',\n       '75b4af0dacbc119eadf4eeb096738405',\n       '2a7c21baa80549e20ad9c514c0218f74',\n       '76eeed280f64fd4a67c3f0fd6b9f0ada',\n       'e3979074cac4d9393ebbd4c2a534a851',\n       'd56b7e3ab2e7e5e779c5127f56de5c00',\n       'f69054686ba46877b6397ccdb8f51762',\n       '96c5c28becf18e71190460a9955aa4d8',\n       'e632db173ce3bba53601a87465b0d690',\n       '9fb0c75eb315997d6545fa0515d315ae',\n       'ac0ce320ded8906d8972799677b33c9a',\n       '8739591782d8bbbf884adee69923113d',\n       'ec694462fa475389dc49c9fe579b261c',\n       '6df0ee5c598338f088fcc8059ddb2e32',\n       'c1bac1d55ebcc415d61552acbfbb219d',\n       '883b4172416f7b84234d3aeda4199f8f',\n       '277d63d5ef81b08f2e59a74e82d53334',\n       '3e54f798bd3fa43c5e34dd26ffd95e2c',\n       '6eb6e75fddec0218351dc5c0c8464104',\n       '824a2cd35893783f83f1b93ec26965c3',\n       '08a11ecb78affb9e1ea1045e58172ac4',\n       '3ab88dd28f749fe4ec90c0b6f9896eb5',\n       '46ee5b0bf6c6c26a155a09dee995d97d',\n       '11bd610a99ecb39c4be8335c6656ac19',\n       '33349e909eba71677299d2fc97e158b7',\n       'a23852e7968e7b4e12a8d989f2dc5ac2',\n       'b058993d8aba0b5a9e66a6666495c485',\n       '847a7251b574c85da9c2248125c2df93',\n       'b7aa44c20c759037e6c30eb514c26f1a',\n       '9ab05403ac7808cbfba3da26665f7a9c',\n       'd820bd12e2eec2ccc2403777eec0e025',\n       '461beab646d4e7e0fd168125f577483b',\n       '6d40ee4b407eae650995de28243bde7d',\n       '65f2e6f22b24b36f9fcb364dfafeee74',\n       'a226c158804add41d2c6f68be9ef731b',\n       'ac9309ad6cfbd8be72b6146ec4e68bac',\n       'b91c197e821eb57a7a9bc94e180fe621',\n       '624e7e301007d8d328d40f56c948a8ba',\n       '4a24f609d9b51d5470c74c0631497ad4',\n       '4b847237599e42b2e62a06cdfbe693ec',\n       'ab33d7af928bc6bd6ef560d4b4081276',\n       '7e5c43aee3b770da0c9be62c298971cc',\n       'addd44b6ef8f46deddfa262c38d44192',\n       'a31cedae93e1b076254f28d4a9b71319',\n       'dd83e39b0608b90cf99413a75ea6fcbd',\n       'f7ca5ad97ea0b98c983ea8923a0a8002',\n       'd52d50218e9abe66438cefaee22a28da',\n       '92cad8e05ca788dc7475183dd19c959b',\n       '9b6266ce4a9465217515fd0106d7ef6c',\n       '66480bd2955f9663eff79f679c096733',\n       '570e72724ec4b76760248ccdae0449f8',\n       'ac9e4248f16d319a00b803477db2433a',\n       '015b469419f616144c13e0194f880af7',\n       '4042483f5c2c4015e2a6abd47aa76b6f'], dtype=object)"
     },
     "execution_count": 24,
     "metadata": {},
     "output_type": "execute_result"
    }
   ],
   "source": [
    "train['userID'].unique()"
   ],
   "metadata": {
    "collapsed": false,
    "pycharm": {
     "name": "#%%\n"
    }
   }
  },
  {
   "cell_type": "code",
   "execution_count": 25,
   "outputs": [
    {
     "data": {
      "text/plain": "array(['320722549d1751cf3f247855f937b982',\n       'e744f91c29ec99f0e662c9177946c627',\n       'e820a45f1dfc7b95282d10b6087e11c0',\n       '53c3bce66e43be4f209556518c2fcb54',\n       'fd06b8ea02fe5b1c2496fe1700e9d16c',\n       '6e7d2da6d3953058db75714ac400b584',\n       '818f4654ed39a1c147d1e51a00ffb4cb',\n       '019d385eb67632a7e958e23f24bd07d7',\n       '8757150decbd89b0f5442ca3db4d0e0e',\n       '3871bd64012152bfb53fdf04b401193f',\n       '1651cf0d2f737d7adeab84d339dbabd3',\n       '7f975a56c761db6506eca0b37ce6ec87',\n       '66808e327dc79d135ba18e051673d906',\n       '50c3d7614917b24303ee6a220679dab3',\n       '884ce4bb65d328ecb03c598409e2b168',\n       'b5b41fac0361d157d9673ecb926af5ae',\n       'ce5140df15d046a66883807d18d0264b',\n       '96b9bff013acedfb1d140579e2fbeb63',\n       'dc912a253d1e9ba40e2c597ed2376640',\n       '24146db4eb48c718b84cae0a0799dcfc',\n       'a8ecbabae151abacba7dbde04f761c37',\n       'c60d060b946d6dd6145dcbad5c4ccf6f',\n       'e5e63da79fcd2bebbd7cb8bf1c1d0274',\n       '15d4e891d784977cacbfcbb00c48f133',\n       '65cc2c8205a05d7379fa3a6386f710e1',\n       '851ddf5058cf22df63d3344ad89919cf',\n       'e0c641195b27425bb056ac56f8953d24',\n       '2bcab9d935d219641434683dd9d18a03',\n       '26e359e83860db1d11b6acca57d8ea88',\n       'ab817c9349cf9c4f6877e1894a1faa00',\n       '25df35de87aa441b88f22a6c2a830a17',\n       '9cc138f8dc04cbf16240daa92d8d50e2',\n       'cbcb58ac2e496207586df2854b17995f',\n       '82b8a3434904411a9fdc43ca87cee70c',\n       '1e6e0a04d20f50967c64dac2d639a577',\n       'afd4836712c5e77550897e25711e1d96',\n       'c4ca4238a0b923820dcc509a6f75849b',\n       '142949df56ea8ae0be8b5306971900a4',\n       '0b8aff0438617c055eb55f0ba5d226fa',\n       '3a029f04d76d32e79367c4b3255dda4d',\n       '8065d07da4a77621450aa84fee5656d9',\n       'd1f255a373a3cef72e03aa9d980c7eca',\n       'd58072be2820e8682c0a27c0518e805e',\n       '788d986905533aba051261497ecffcbb',\n       '13f9896df61279c928f19721878fac41',\n       '6364d3f0f495b6ab9dcf8d3b5c6e0b01',\n       '0f840be9b8db4d3fbd5ba2ce59211f55',\n       '1700002963a49da13542e0726b7bb758',\n       '287e03db1d99e0ec2edb90d079e142f3',\n       '58d4d1e7b1e97b258c9ed0b37e02d087',\n       '8b5040a8a5baf3e0e67386c2e3a9b903',\n       '7ce3284b743aefde80ffd9aec500e085',\n       'aa68c75c4a77c87f97fb686b2f068676',\n       '8f468c873a32bb0619eaeb2050ba45d1',\n       'b9228e0962a78b84f3d5d92f4faa000b',\n       '8d6dc35e506fc23349dd10ee68dabb64',\n       '5b8add2a5d98b1a652ea7fd72d942dac',\n       'c51ce410c124a10e0db5e4b97fc2af39',\n       '839ab46820b524afda05122893c2fe8e',\n       'ba2fd310dcaa8781a9a652a31baf3c68',\n       'c058f544c737782deacefa532d9add4c',\n       '3d8e28caf901313a554cebc7d32e67e5',\n       'f387624df552cea2f369918c5e1e12bc',\n       'c2aee86157b4a40b78132f1e71a9e6f1',\n       '2387337ba1e0b0249ba90f55b2ba2521',\n       'b83aac23b9528732c23cc7352950e880',\n       'da0d1111d2dc5d489242e60ebcbaf988',\n       'df263d996281d984952c07998dc54358',\n       'a4d2f0d23dcc84ce983ff9157f8b7f88',\n       'e22312179bf43e61576081a2f250f845',\n       'c6bff625bdb0393992c9d4db0c6bbe45',\n       'd840cc5d906c3e9c84374c8919d2074e',\n       '9e3cfc48eccf81a0d57663e129aef3cb',\n       '559cb990c9dffd8675f6bc2186971dc2',\n       '170c944978496731ba71f34c25826a34',\n       'ccb1d45fb76f7c5a0bf619f979c6cf36',\n       '692f93be8c7a41525c0baf2076aecfb4',\n       'a34bacf839b923770b2c360eefa26748',\n       '24b16fede9a67c9251d3e7c7161c83ac',\n       '2c89109d42178de8a367c0228f169bf8',\n       '7fa732b517cbed14a48843d74526c11a',\n       'da8ce53cf0240070ce6c69c48cd588ee',\n       'fa14d4fe2f19414de3ebd9f63d5c0169',\n       '94c7bb58efc3b337800875b5d382a072',\n       'ab1a4d0dd4d48a2ba1077c4494791306',\n       '34ed066df378efacc9b924ec161e7639',\n       '2df45244f09369e16ea3f9117ca45157',\n       'f5f8590cd58a54e94377e6ae2eded4d9',\n       '82489c9737cc245530c7a6ebef3753ec',\n       '6f2268bd1d3d3ebaabb04d6b5d099425',\n       '16c222aa19898e5058938167c8ab6c57',\n       'd61e4bbd6393c9111e6526ea173a7c8b',\n       'e0cf1f47118daebc5b16269099ad7347',\n       '754dda4b1ba34c6fa89716b85d68532b',\n       'c75b6f114c23a4d7ea11331e7c00e73c',\n       '9b698eb3105bd82528f23d0c92dedfc0',\n       '1141938ba2c2b13f5505d7c424ebae5f',\n       'a01610228fe998f515a72dd730294d87',\n       'ec5aa0b7846082a2415f0902f0da88f2',\n       '3c7781a36bcd6cf08c11a970fbe0e2a6',\n       '9ab0d88431732957a618d4a469a0d4c3',\n       '299a23a2291e2126b91d54f3601ec162',\n       '7c9d0b1f96aebd7b5eca8c3edaa19ebb',\n       '69421f032498c97020180038fddb8e24',\n       'fe7ee8fc1959cc7214fa21c4840dff0a',\n       '63923f49e5241343aa7acb6a06a751e7',\n       '860320be12a1c050cd7731794e231bd3',\n       'abd815286ba1007abfbb8415b83ae2cf',\n       'b2f627fff19fda463cb386442eac2b3d',\n       '0deb1c54814305ca9ad266f53bc82511',\n       '5c04925674920eb58467fb52ce4ef728',\n       '4ea06fbc83cdd0a06020c35d50e1e89a',\n       'c7635bfd99248a2cdef8249ef7bfbef4',\n       'c3e0c62ee91db8dc7382bde7419bb573',\n       'f3f27a324736617f20abbf2ffd806f6d',\n       '92fb0c6d1758261f10d052e6e2c1123c',\n       'e46de7e1bcaaced9a54f1e9d0d2f800d',\n       '2cfd4560539f887a5e420412b370b361',\n       '7cce53cf90577442771720a370c3c723',\n       'e5841df2166dd424a57127423d276bbe',\n       '670e8a43b246801ca1eaca97b3e19189',\n       '0c74b7f78409a4022a2c4c5a5ca3ee19',\n       '5d616dd38211ebb5d6ec52986674b6e4',\n       '4ca82782c5372a547c104929f03fe7a9',\n       'bbf94b34eb32268ada57a3be5062fe7d',\n       'ad972f10e0800b49d76fed33a21f6698',\n       'aba3b6fd5d186d28e06ff97135cade7f',\n       'e2a2dcc36a08a345332c751b2f2e476c',\n       'c8c41c4a18675a74e01c8a20e8a0f662',\n       '1cc3633c579a90cfdd895e64021e2163',\n       '9246444d94f081e3549803b928260f56',\n       '704afe073992cbe4813cae2f7715336f',\n       'b24d516bb65a5a58079f0f3526c87c57',\n       '7bcdf75ad237b8e02e301f4091fb6bc8',\n       '7f5d04d189dfb634e6a85bb9d9adf21e',\n       'eddb904a6db773755d2857aacadb1cb0',\n       '3a15c7d0bbe60300a39f76f8a5ba6896',\n       'f5deaeeae1538fb6c45901d524ee2f98',\n       'b6f0479ae87d244975439c6124592772',\n       'a7aeed74714116f3b292a982238f83d2',\n       '577bcc914f9e55d5e4e4f82f9f00e7d4',\n       'd736bb10d83a904aefc1d6ce93dc54b8',\n       '389bc7bb1e1c2a5e7e147703232a88f6',\n       '1c65cef3dfd1e00c0b03923a1c591db4',\n       'cbb6a3b884f4f88b3a8e3d44c636cbd8',\n       '677e09724f0e2df9b6c000b75b5da10d',\n       '22ac3c5a5bf0b520d281c122d1490650',\n       '6c14da109e294d1e8155be8aa4b1ce8e',\n       'a284df1155ec3e67286080500df36a9a',\n       'ddb30680a691d157187ee1cf9e896d03',\n       'dabd8d2ce74e782c65a973ef76fd540b',\n       '65658fde58ab3c2b6e5132a39fae7cb9',\n       '6c3cf77d52820cd0fe646d38bc2145ca',\n       'cf67355a3333e6e143439161adc2d82e',\n       '062ddb6c727310e76b6200b7c71f63b5',\n       '8b4066554730ddfaa0266346bdc1b202',\n       '3473decccb0509fb264818a7512a8b9b',\n       'e19347e1c3ca0c0b97de5fb3b690855a',\n       '0cb929eae7a499e50248a3a78f7acfc7',\n       '872488f88d1b2db54d55bc8bba2fad1b',\n       '13f3cf8c531952d72e5847c4183e6910',\n       '9c01802ddb981e6bcfbec0f0516b8e35',\n       '35cf8659cfcb13224cbd47863a34fc58',\n       '7eacb532570ff6858afd2723755ff790',\n       'c06d06da9666a219db15cf575aff2824',\n       'a760880003e7ddedfef56acb3b09697f',\n       '81448138f5f163ccdba4acc69819f280',\n       '4f284803bd0966cc24fa8683a34afc6e',\n       '357a6fdf7642bf815a88822c447d9dc4',\n       '0a0a0c8aaa00ade50f74a3f0ca981ed7',\n       '1068c6e4c8051cfd4e9ea8072e3189e2',\n       '06eb61b839a0cefee4967c67ccb099dc',\n       'f7f580e11d00a75814d2ded41fe8e8fe',\n       '8a1e808b55fde9455cb3d8857ed88389',\n       '3dc4876f3f08201c7c76cb71fa1da439',\n       '58ae749f25eded36f486bc85feb3f0ab',\n       '82cec96096d4281b7c95cd7e74623496',\n       'b9141aff1412dc76340b3822d9ea6c72',\n       '00ec53c4682d36f5c4359f4ae7bd7ba1',\n       '42e77b63637ab381e8be5f8318cc28a2',\n       'e6b4b2a746ed40e1af829d1fa82daa10',\n       '28f0b864598a1291557bed248a998d4e',\n       '11b921ef080f7736089c757404650e40',\n       '7c590f01490190db0ed02a5070e20f01',\n       'a89cf525e1d9f04d16ce31165e139a4b',\n       '2dace78f80bc92e6d7493423d729448e',\n       '2a9d121cd9c3a1832bb6d2cc6bd7a8a7',\n       '3e89ebdb49f712c7d90d1b39e348bbbf',\n       'bc6dc48b743dc5d013b1abaebd2faed2',\n       '23ce1851341ec1fa9e0c259de10bf87c',\n       '5ef0b4eba35ab2d6180b0bca7e46b6f9',\n       '19b650660b253761af189682e03501dd',\n       '2f885d0fbe2e131bfc9d98363e55d1d4',\n       '85fc37b18c57097425b52fc7afbb6969',\n       '678a1491514b7f1006d605e9161946b1',\n       'c3e878e27f52e2a57ace4d9a76fd9acf',\n       '51d92be1c60d1db1d2e5e7a07da55b26',\n       '959a557f5f6beb411fd954f3f34b21c3',\n       '32b30a250abd6331e03a2a1f16466346',\n       '44c4c17332cace2124a1a836d9fc4b6f',\n       '43cca4b3de2097b9558efefd0ecc3588',\n       '92262bf907af914b95a0fc33c3f33bf6',\n       '2421fcb1263b9530df88f7f002e78ea5',\n       '160c88652d47d0be60bfbfed25111412',\n       '185c29dc24325934ee377cfda20e414c',\n       '9c82c7143c102b71c593d98d96093fde',\n       'e4bb4c5173c2ce17fd8fcd40041c068f',\n       'fde9264cf376fffe2ee4ddf4a988880d',\n       '941e1aaaba585b952b62c14a3a175a61',\n       '8248a99e81e752cb9b41da3fc43fbe7f',\n       'ef0d3930a7b6c95bd2b32ed45989c61f',\n       'c0f168ce8900fa56e57789e2a2f2c9d0',\n       'eba0dc302bcd9a273f8bbb72be3a687b',\n       'b2eeb7362ef83deff5c7813a67e14f0a',\n       '10a7cdd970fe135cf4f7bb55c0e3b59f',\n       '71ad16ad2c4d81f348082ff6c4b20768',\n       'd554f7bb7be44a7267068a7df88ddd20',\n       '39e4973ba3321b80f37d9b55f63ed8b8',\n       '36a1694bce9815b7e38a9dad05ad42e0',\n       '3ad7c2ebb96fcba7cda0cf54a2e802f5',\n       'a0872cc5b5ca4cc25076f3d868e1bdf8',\n       '2290a7385ed77cc5592dc2153229f082',\n       '647bba344396e7c8170902bcf2e15551',\n       '144a3f71a03ab7c4f46f9656608efdb2',\n       '758874998f5bd0c393da094e1967a72b',\n       '9a96876e2f8f3dc4f3cf45f02c61c0c1',\n       'a5e0ff62be0b08456fc7f1e88812af3d',\n       '5e388103a391daabe3de1d76a6739ccd',\n       'ce78d1da254c0843eb23951ae077ff5f',\n       'a0160709701140704575d499c997b6ca',\n       '97af4fb322bb5c8973ade16764156bed',\n       'd86ea612dec96096c5e0fcc8dd42ab6d',\n       '2291d2ec3b3048d1a6f86c2c4591b7e0',\n       '2823f4797102ce1a1aec05359cc16dd9',\n       'c4015b7f368e6b4871809f49debe0579',\n       '6a61d423d02a1c56250dc23ae7ff12f3',\n       '8ce6790cc6a94e65f17f908f462fae85',\n       '8e6b42f1644ecb1327dc03ab345e618b',\n       'fd2c5e4680d9a01dba3aada5ece22270',\n       'bea5955b308361a1b07bc55042e25e54',\n       '33e8075e9970de0cfea955afd4644bb2',\n       'fc49306d97602c8ed1be1dfbf0835ead',\n       '1e056d2b0ebd5c878c550da6ac5d3724',\n       'b73dfe25b4b8714c029b37a6ad3006fa',\n       '5eac43aceba42c8757b54003a58277b5',\n       '6766aa2750c19aad2fa1b32f36ed4aee',\n       '7e7e69ea3384874304911625ac34321c',\n       '8a3363abe792db2d8761d6403605aeb7',\n       '087408522c31eeb1f982bc0eaf81d35f',\n       'f4f6dce2f3a0f9dada0c2b5b66452017',\n       '83fa5a432ae55c253d0e60dbfa716723',\n       'ffeabd223de0d4eacb9a3e6e53e5448d',\n       'b56a18e0eacdf51aa2a5306b0f533204',\n       'f4dd765c12f2ef67f98f3558c282a9cd',\n       'f1c1592588411002af340cbaedd6fc33',\n       '892c91e0a653ba19df81a90f89d99bcd',\n       '4558dbb6f6f8bb2e16d03b85bde76e2c',\n       '3493894fa4ea036cfc6433c3e2ee63b0',\n       '138bb0696595b338afbab333c555292a',\n       '013a006f03dbc5392effeb8f18fda755',\n       'b0b183c207f46f0cca7dc63b2604f5cc',\n       'c86a7ee3d8ef0b551ed58e354a836f2b',\n       'b4288d9c0ec0a1841b3b3728321e7088',\n       'f4be00279ee2e0a53eafdaa94a151e2c',\n       '1e1d184167ca7676cf665225e236a3d2',\n       '07871915a8107172b3b5dc15a6574ad3',\n       '1b0114c51cc532ed34e1954b5b9e4b58',\n       'b706835de79a2b4e80506f582af3676a',\n       '4a47d2983c8bd392b120b627e0e1cab4',\n       'a1d50185e7426cbb0acad1e6ca74b9aa',\n       'aff1621254f7c1be92f64550478c56e6',\n       '63538fe6ef330c13a05a3ed7e599d5f7',\n       '67f7fb873eaf29526a11a9b7ac33bfac',\n       '147702db07145348245dc5a2f2fe5683',\n       '6e7b33fdea3adc80ebd648fffb665bb8',\n       '8b6dd7db9af49e67306feb59a8bdc52c',\n       'a8abb4bb284b5b27aa7cb790dc20f80b',\n       '996a7fa078cc36c46d02f9af3bef918b',\n       '076a0c97d09cf1a0ec3e19c7f2529f2b',\n       'a113c1ecd3cace2237256f4c712f61b5',\n       '31839b036f63806cba3f47b93af8ccb5',\n       'e97ee2054defb209c35fe4dc94599061',\n       'f64eac11f2cd8f0efa196f8ad173178e',\n       '6d70cb65d15211726dcce4c0e971e21c',\n       'e1d5be1c7f2f456670de3d53c7b54f4a',\n       'c410003ef13d451727aeff9082c29a5c',\n       '7501e5d4da87ac39d782741cd794002d',\n       '43dd49b4fdb9bede653e94468ff8df1e',\n       '877a9ba7a98f75b90a9d49f53f15a858',\n       '4fac9ba115140ac4f1c22da82aa0bc7f',\n       'abea47ba24142ed16b7d8fbf2c740e0d',\n       '5c936263f3428a40227908d5a3847c0b',\n       '18997733ec258a9fcaf239cc55d53363',\n       'f1b6f2857fb6d44dd73c7041e0aa0f19',\n       '49ae49a23f67c759bf4fc791ba842aa2',\n       '00e26af6ac3b1c1c49d7c3d79c60d000',\n       '7380ad8a673226ae47fce7bff88e9c33',\n       '3210ddbeaa16948a702b6049b8d9a202',\n       '4e0cb6fb5fb446d1c92ede2ed8780188',\n       'e5f6ad6ce374177eef023bf5d0c018b6',\n       '47a658229eb2368a99f1d032c8848542',\n       '185e65bc40581880c4f2c82958de8cfe',\n       '192fc044e74dffea144f9ac5dc9f3395',\n       '0537fb40a68c18da59a35c2bfe1ca554',\n       'd395771085aab05244a4fb8fd91bf4ee',\n       'b7ee6f5f9aa5cd17ca1aea43ce848496',\n       'e6cb2a3c14431b55aa50c06529eaa21b',\n       'efe937780e95574250dabe07151bdc23',\n       'f8c1f23d6a8d8d7904fc0ea8e066b3bb',\n       'a1140a3d0df1c81e24ae954d935e8926',\n       'fccb60fb512d13df5083790d64c4d5dd',\n       'eb86d510361fc23b59f18c1bc9802cc6',\n       '995e1fda4a2b5f55ef0df50868bf2a8f',\n       '3a835d3215755c435ef4fe9965a3f2a0',\n       '20b5e1cf8694af7a3c1ba4a87f073021',\n       '3b5dca501ee1e6d8cd7b905f4e1bf723',\n       'a8c88a0055f636e4a163a5e3d16adab7',\n       'b534ba68236ba543ae44b22bd110a1d6',\n       '54a367d629152b720749e187b3eaa11b',\n       'c8ed21db4f678f3b13b9d5ee16489088',\n       '04ecb1fa28506ccb6f72b12c0245ddbc',\n       'ccb0989662211f61edae2e26d58ea92f',\n       '801c14f07f9724229175b8ef8b4585a8',\n       '5737034557ef5b8c02c0e46513b98f90',\n       'ebd9629fc3ae5e9f6611e2ee05a31cef',\n       'dd77279f7d325eec933f05b1672f6a1f',\n       'f85454e8279be180185cac7d243c5eb3',\n       '92c8c96e4c37100777c7190b76d28233',\n       '847cc55b7032108eee6dd897f3bca8a5',\n       'f90f2aca5c640289d0a29417bcb63a37',\n       '3dd48ab31d016ffcbf3314df2b3cb9ce',\n       '89fcd07f20b6785b92134bd6c1d0fa42',\n       '8e82ab7243b7c66d768f1b8ce1c967eb',\n       'd7322ed717dedf1eb4e6e52a37ea7bcd',\n       'b137fdd1f79d56c7edf3365fea7520f2',\n       '70c639df5e30bdee440e4cdf599fec2b',\n       '38ca89564b2259401518960f7a06f94b',\n       '2b6d65b9a9445c4271ab9076ead5605a',\n       '53adaf494dc89ef7196d73636eb2451b',\n       'c9892a989183de32e976c6f04e700201',\n       '443cb001c138b2561a0d90720d6ce111',\n       'c6036a69be21cb660499b75718a3ef24',\n       '7f24d240521d99071c93af3917215ef7',\n       'eefc9e10ebdc4a2333b42b2dbb8f27b6',\n       'f9b902fc3289af4dd08de5d1de54f68f',\n       '69cb3ea317a32c4e6143e665fdb20b14',\n       '19bc916108fc6938f52cb96f7e087941',\n       '52292e0c763fd027c6eba6b8f494d2eb',\n       'cd00692c3bfe59267d5ecfac5310286c',\n       'ffeed84c7cb1ae7bf4ec4bd78275bb98',\n       'd490d7b4576290fa60eb31b5fc917ad1',\n       'e7b24b112a44fdd9ee93bdf998c6ca0e',\n       '4f4adcbf8c6f66dcfc8a3282ac2bf10a',\n       '8ebda540cbcc4d7336496819a46a1b68',\n       '2f29b6e3abc6ebdefb55456ea6ca5dc8',\n       'e17184bcb70dcf3942c54e0b537ffc6d',\n       '1e48c4420b7073bc11916c6c1de226bb',\n       'd240e3d38a8882ecad8633c8f9c78c9b',\n       'faa9afea49ef2ff029a833cccc778fd0',\n       '9908279ebbf1f9b250ba689db6a0222b',\n       '46072631582fc240dd2674a7d063b040',\n       'd045c59a90d7587d8d671b5f5aec4e7c',\n       '1f50893f80d6830d62765ffad7721742',\n       '4a213d37242bdcad8e7300e202e7caa4',\n       'e3796ae838835da0b6f6ea37bcf8bcb7',\n       '883e881bb4d22a7add958f2d6b052c9f',\n       'c3992e9a68c5ae12bd18488bc579b30d',\n       'd93ed5b6db83be78efb0d05ae420158e',\n       'ef4e3b775c934dada217712d76f3d51f',\n       '39461a19e9eddfb385ea76b26521ea48',\n       'ffd52f3c7e12435a724a8f30fddadd9c',\n       '15de21c670ae7c3f6f3f1f37029303c9',\n       '4d5b995358e7798bc7e9d9db83c612a5',\n       'cd89fef7ffdd490db800357f47722b20',\n       '310dcbbf4cce62f762a2aaa148d556bd',\n       '53c04118df112c13a8c34b38343b9c10',\n       '17326d10d511828f6b34fa6d751739e2',\n       'f73b76ce8949fe29bf2a537cfa420e8f',\n       '93d65641ff3f1586614cf2c1ad240b6c',\n       'f4573fc71c731d5c362f0d7860945b88',\n       'eddea82ad2755b24c4e168c5fc2ebd40',\n       'd296c101daa88a51f6ca8cfc1ac79b50',\n       '7750ca3559e5b8e1f44210283368fc16',\n       '3b712de48137572f3849aabd5666a4e3',\n       '8c6744c9d42ec2cb9e8885b54ff744d0',\n       '428fca9bc1921c25c5121f9da7815cde',\n       '430c3626b879b4005d41b8a46172e0c0',\n       'c22abfa379f38b5b0411bc11fa9bf92f',\n       '2d6cc4b2d139a53512fb8cbb3086ae2e',\n       '71f6278d140af599e06ad9bf1ba03cb0',\n       'dc6a70712a252123c40d2adba6a11d84',\n       '98d6f58ab0dafbb86b083a001561bb34',\n       '0eec27c419d0fe24e53c90338cdc8bc6',\n       '27ed0fb950b856b06e1273989422e7d3',\n       '9b72e31dac81715466cd580a448cf823',\n       '2715518c875999308842e3455eda2fe3',\n       'fed33392d3a48aa149a87a38b875ba4a',\n       '491442df5f88c6aa018e86dac21d3606',\n       'aa169b49b583a2b5af89203c2b78c67c',\n       '92977ae4d2ba21425a59afb269c2a14e',\n       '5ec91aac30eae62f4140325d09b9afd0',\n       '8d34201a5b85900908db6cae92723617',\n       '4588e674d3f0faf985047d4c3f13ed0d',\n       '1587965fb4d4b5afe8428a4a024feb0d',\n       '58238e9ae2dd305d79c2ebc8c1883422',\n       '8d3bba7425e7c98c50f52ca1b52d3735',\n       '6aab1270668d8cac7cef2566a1c5f569',\n       'dc82d632c9fcecb0778afbc7924494a6',\n       '97e8527feaf77a97fc38f34216141515',\n       '218a0aefd1d1a4be65601cc6ddc1520e',\n       '3fe78a8acf5fda99de95303940a2420c',\n       '884d79963bd8bc0ae9b13a1aa71add73',\n       '26337353b7962f533d78c762373b3318',\n       '8597a6cfa74defcbde3047c891d78f90',\n       '3eb71f6293a2a31f3569e10af6552658',\n       '2afe4567e1bf64d32a5527244d104cea',\n       'db85e2590b6109813dafa101ceb2faeb',\n       '9232fe81225bcaef853ae32870a2b0fe',\n       '53fde96fcc4b4ce72d7739202324cd49',\n       '621461af90cadfdaf0e8d4cc25129f91',\n       '33ceb07bf4eeb3da587e268d663aba1a',\n       '352407221afb776e3143e8a1a0577885',\n       '6cfe0e6127fa25df2a0ef2ae1067d915',\n       '9996535e07258a7bbfd8b132435c5962',\n       '0188e8b8b014829e2fa0f430f0a95961',\n       '17d63b1625c816c22647a73e1482372b',\n       'f9a40a4780f5e1306c46f1c8daecee3b',\n       'd2ed45a52bc0edfa11c2064e9edee8bf',\n       'd6723e7cd6735df68d1ce4c704c29a04',\n       'cf004fdc76fa1a4f25f62e0eb5261ca3',\n       'ae5e3ce40e0404a45ecacaaf05e5f735',\n       'ff4d5fbbafdf976cfdc032e3bde78de5',\n       'af21d0c97db2e27e13572cbf59eb343d',\n       'a96b65a721e561e1e3de768ac819ffbb',\n       '81e74d678581a3bb7a720b019f4f1a93',\n       'b056eb1587586b71e2da9acfe4fbd19e',\n       '2bb232c0b13c774965ef8558f0fbd615',\n       'b6a1085a27ab7bff7550f8a3bd017df8',\n       'aa942ab2bfa6ebda4840e7360ce6e7ef',\n       'fe709c654eac84d5239d1a12a4f71877',\n       '3cef96dcc9b8035d23f69e30bb19218a',\n       'caf1a3dfb505ffed0d024130f58c5cfa',\n       '3948ead63a9f2944218de038d8934305',\n       '0d0fd7c6e093f7b804fa0150b875b868',\n       '9fd81843ad7f202f26c1a174c7357585',\n       '286674e3082feb7e5afb92777e48821f',\n       '8d317bdcf4aafcfc22149d77babee96d',\n       'dd458505749b2941217ddd59394240e8',\n       '550a141f12de6341fba65b0ad0433500',\n       '2de5d16682c3c35007e4e92982f1a2ba',\n       'f2fc990265c712c49d51a18a32b39f0c',\n       'b7b16ecf8ca53723593894116071700c',\n       '8fe0093bb30d6f8c31474bd0764e6ac0',\n       'd516b13671a4179d9b7b458a6ebdeb92',\n       'cc1aa436277138f61cda703991069eaf',\n       '07c5807d0d927dcd0980f86024e5208b',\n       '1ce927f875864094e3906a4a0b5ece68',\n       '55b37c5c270e5d84c793e486d798c01d',\n       '66368270ffd51418ec58bd793f2d9b1b',\n       'fb7b9ffa5462084c5f4e7e85a093e6d7',\n       '8efb100a295c0c690931222ff4467bb8',\n       '58e4d44e550d0f7ee0a23d6b02d9b0db',\n       '69a5b5995110b36a9a347898d97a610e',\n       '2b8a61594b1f4c4db0902a8a395ced93',\n       'd64a340bcb633f536d56e51874281454',\n       '9fe8593a8a330607d76796b35c64c600',\n       '298f95e1bf9136124592c8d4825a06fc',\n       '816b112c6105b3ebd537828a39af4818',\n       'f33ba15effa5c10e873bf3842afb46a6',\n       'aace49c7d80767cffec0e513ae886df0',\n       'fc2c7c47b918d0c2d792a719dfb602ef',\n       '09c6c3783b4a70054da74f2538ed47c6',\n       '5a4b25aaed25c2ee1b74de72dc03c14e',\n       'dc87c13749315c7217cdc4ac692e704c',\n       'afdec7005cc9f14302cd0474fd0f3c96',\n       '84d2004bf28a2095230e8e14993d398d',\n       '208e43f0e45c4c78cafadb83d2888cb6',\n       '37f0e884fbad9667e38940169d0a3c95',\n       '4e4e53aa080247bc31d0eb4e7aeb07a0',\n       'eaae339c4d89fc102edd9dbdb6a28915',\n       'b20bb95ab626d93fd976af958fbc61ba',\n       '0bb4aec1710521c12ee76289d9440817',\n       'f7cade80b7cc92b991cf4d2806d6bd78',\n       '36a16a2505369e0c922b6ea7a23a56d2',\n       'c9f95a0a5af052bffce5c89917335f67',\n       '9cf81d8026a9018052c429cc4e56739b',\n       'b86e8d03fe992d1b0e19656875ee557c',\n       '4da04049a062f5adfe81b67dd755cecc',\n       'b55ec28c52d5f6205684a473a2193564',\n       'd34ab169b70c9dcd35e62896010cd9ff',\n       'ca75910166da03ff9d4655a0338e6b09',\n       '210f760a89db30aa72ca258a3483cc7f',\n       'c54e7837e0cd0ced286cb5995327d1ab',\n       '7504adad8bb96320eb3afdd4df6e1f60',\n       'fba9d88164f3e2d9109ee770223212a0',\n       '288cc0ff022877bd3df94bc9360b9c5d',\n       '8bf1211fd4b7b94528899de0a43b9fb3',\n       'c3c59e5f8b3e9753913f4d435b53c308',\n       'e1e32e235eee1f970470a3a6658dfdd5',\n       'f197002b9a0853eca5e046d9ca4663d5',\n       'c8ba76c279269b1c6bc8a07e38e78fa4',\n       '64223ccf70bbb65a3a4aceac37e21016',\n       'e515df0d202ae52fcebb14295743063b',\n       '9431c87f273e507e6040fcb07dcb4509',\n       '1a5b1e4daae265b790965a275b53ae50',\n       'a8849b052492b5106526b2331e526138',\n       'c399862d3b9d6b76c8436e924a68c45b',\n       '069d3bb002acd8d7dd095917f9efe4cb',\n       '00ac8ed3b4327bdd4ebbebcb2ba10a00',\n       'a01a0380ca3c61428c26a231f0e49a09',\n       '7dcd340d84f762eba80aa538b0c527f7',\n       '1fc214004c9481e4c8073e85323bfd4b',\n       '41bfd20a38bb1b0bec75acf0845530a7',\n       '021bbc7ee20b71134d53e20206bd6feb',\n       '07563a3fe3bbe7e3ba84431ad9d055af',\n       '2ba596643cbbbc20318224181fa46b28',\n       'f61d6947467ccd3aa5af24db320235dd',\n       'd9fc5b73a8d78fad3d6dffe419384e70',\n       '10a5ab2db37feedfdeaab192ead4ac0e',\n       '2b38c2df6a49b97f706ec9148ce48d86',\n       '41ae36ecb9b3eee609d05b90c14222fb',\n       'dc4c44f624d600aa568390f1f1104aa0',\n       'a3fb4fbf9a6f9cf09166aa9c20cbc1ad',\n       '9da187a7a191431db943a9a5a6fec6f4',\n       '67d16d00201083a2b118dd5128dd6f59',\n       'f93882cbd8fc7fb794c1011d63be6fb6',\n       '0fcbc61acd0479dc77e3cccc0f5ffca7',\n       '298923c8190045e91288b430794814c4',\n       'b495ce63ede0f4efc9eec62cb947c162',\n       '1aa48fc4880bb0c9b8a3bf979d3b917e',\n       '68d13cf26c4b4f4f932e3eff990093ba',\n       '8dd48d6a2e2cad213179a3992c0be53c',\n       'b9d487a30398d42ecff55c228ed5652b',\n       '766d856ef1a6b02f93d894415e6bfa0e',\n       'dc5689792e08eb2e219dce49e64c885b',\n       '6ecbdd6ec859d284dc13885a37ce8d81',\n       'a49e9411d64ff53eccfdd09ad10a15b3',\n       'df0aab058ce179e4f7ab135ed4e641a9',\n       'd8700cbd38cc9f30cecb34f0c195b137',\n       'a8240cb8235e9c493a0c30607586166c',\n       '7250eb93b3c18cc9daa29cf58af7a004',\n       '99c5e07b4d5de9d18c350cdf64c5aa3d',\n       'fe8c15fed5f808006ce95eddb7366e35',\n       '25b2822c2f5a3230abfadd476e8b04c9',\n       '6b180037abbebea991d8b1232f8a8ca9',\n       '5807a685d1a9ab3b599035bc566ce2b9',\n       'bf62768ca46b6c3b5bea9515d1a1fc45',\n       '051e4e127b92f5d98d3c79b195f2b291',\n       '371bce7dc83817b7893bcdeed13799b5',\n       '6855456e2fe46a9d49d3d3af4f57443d',\n       '9dfcd5e558dfa04aaf37f137a1d9d3e5',\n       '4e2545f819e67f0615003dd7e04a6087',\n       'f2201f5191c4e92cc5af043eebfd0946',\n       '258be18e31c8188555c2ff05b4d542c3',\n       'd94e18a8adb4cc0f623f7a83b1ac75b4',\n       '16e6a3326dd7d868cbc926602a61e4d0',\n       'df877f3865752637daa540ea9cbc474f',\n       '7f1171a78ce0780a2142a6eb7bc4f3c8',\n       '0ff39bbbf981ac0151d340c9aa40e63e',\n       '85422afb467e9456013a2a51d4dff702',\n       '84f7e69969dea92a925508f7c1f9579a',\n       '06997f04a7db92466a2baa6ebc8b872d',\n       '45645a27c4f1adc8a7a835976064a86d',\n       '168908dd3227b8358eababa07fcaf091',\n       '301ad0e3bd5cb1627a2044908a42fdc2',\n       '24896ee4c6526356cc127852413ea3b4',\n       '1896a3bf730516dd643ba67b4c447d36',\n       '5e9f92a01c986bafcabbafd145520b13',\n       'b3967a0e938dc2a6340e258630febd5a',\n       'ab233b682ec355648e7891e66c54191b',\n       '193002e668758ea9762904da1a22337c',\n       'b59c67bf196a4758191e42f76670ceba',\n       '7bccfde7714a1ebadf06c5f4cea752c1',\n       'd79aac075930c83c2f1e369a511148fe',\n       '0efe32849d230d7f53049ddc4a4b0c60',\n       '024d7f84fff11dd7e8d9c510137a2381',\n       'e702e51da2c0f5be4dd354bb3e295d37',\n       '11b9842e0a271ff252c1903e7132cd68',\n       'b8c37e33defde51cf91e1e03e51657da',\n       '1c1d4df596d01da60385f0bb17a4a9e0',\n       '456ac9b0d15a8b7f1e71073221059886',\n       'ef575e8837d065a1683c022d2077d342',\n       'e8c0653fea13f91bf3c48159f7c24f78',\n       '5680522b8e2bb01943234bce7bf84534',\n       '303ed4c69846ab36c2904d3ba8573050',\n       '470e7a4f017a5476afb7eeb3f8b96f9b',\n       'a02ffd91ece5e7efeb46db8f10a74059',\n       'bdb106a0560c4e46ccc488ef010af787',\n       'fb89705ae6d743bf1e848c206e16a1d7',\n       '291597a100aadd814d197af4f4bab3a7',\n       'b51a15f382ac914391a58850ab343b00',\n       '7d04bbbe5494ae9d2f5a76aa1c00fa2f',\n       '632cee946db83e7a52ce5e8d6f0fed35',\n       'fa3a3c407f82377f55c19c5d403335c7',\n       '88ae6372cfdc5df69a976e893f4d554b',\n       'a9eb812238f753132652ae09963a05e9',\n       '74bba22728b6185eec06286af6bec36d',\n       'd7a728a67d909e714c0774e22cb806f2',\n       'f29b38f160f87ae86df31cee1982066f',\n       '821fa74b50ba3f7cba1e6c53e8fa6845',\n       '4daa3db355ef2b0e64b472968cb70f0d',\n       '2050e03ca119580f74cca14cc6e97462',\n       'dbe272bab69f8e13f14b405e038deb64',\n       '437d7d1d97917cd627a34a6a0fb41136',\n       'd81f9c1be2e08964bf9f24b15f0e4900',\n       '918317b57931b6b7a7d29490fe5ec9f9',\n       '6a2feef8ed6a9fe76d6b3f30f02150b4',\n       'df7f28ac89ca37bf1abd2f6c184fe1cf',\n       'bca82e41ee7b0833588399b1fcd177c7',\n       '8d7d8ee069cb0cbbf816bbb65d56947e',\n       'ae0eb3eed39d2bcef4622b2499a05fe6',\n       '3df1d4b96d8976ff5986393e8767f5b2',\n       '96ea64f3a1aa2fd00c72faacf0cb8ac9',\n       '37bc2f75bf1bcfe8450a1a41c200364c',\n       '7eb3c8be3d411e8ebfab08eba5f49632',\n       '55a7cf9c71f1c9c495413f934dd1a158',\n       'c6e19e830859f2cb9f7c8f8cacb8d2a6',\n       '912d2b1c7b2826caf99687388d2e8f7c',\n       'bbcbff5c1f1ded46c25d28119a85c6c2',\n       '3bf55bbad370a8fcad1d09b005e278c2',\n       'c5ab0bc60ac7929182aadd08703f1ec6',\n       'e7f8a7fb0b77bcb3b283af5be021448f',\n       '4f16c818875d9fcb6867c7bdc89be7eb',\n       'e49b8b4053df9505e1f48c3a701c0682',\n       '1905aedab9bf2477edc068a355bba31a',\n       '81dc9bdb52d04dc20036dbd8313ed055',\n       '5f0f5e5f33945135b874349cfbed4fb9',\n       '18d8042386b79e2c279fd162df0205c8',\n       '22fb0cee7e1f3bde58293de743871417',\n       '854d9fca60b4bd07f9bb215d59ef5561',\n       '7940ab47468396569a906f75ff3f20ef',\n       '90794e3b050f815354e3e29e977a88ab',\n       '6ea2ef7311b482724a9b7b0bc0dd85c6',\n       '598b3e71ec378bd83e0a727608b5db01',\n       'b3ba8f1bee1238a2f37603d90b58898d',\n       '285ab9448d2751ee57ece7f762c39095',\n       '75fc093c0ee742f6dddaa13fff98f104',\n       'c667d53acd899a97a85de0c201ba99be',\n       '9b70e8fe62e40c570a322f1b0b659098',\n       'b7bb35b9c6ca2aee2df08cf09d7016c2',\n       '944bdd9636749a0801c39b6e449dbedc',\n       '4b0a59ddf11c58e7446c9df0da541a84',\n       'c32d9bf27a3da7ec8163957080c8628e',\n       'e0ec453e28e061cc58ac43f91dc2f3f0',\n       '4311359ed4969e8401880e3c1836fbe1',\n       '310ce61c90f3a46e340ee8257bc70e93',\n       '285f89b802bcb2651801455c86d78f2a',\n       '7b13b2203029ed80337f27127a9f1d28',\n       '71a3cb155f8dc89bf3d0365288219936',\n       '0c048b3a434e49e655c1247efb389cec',\n       'e034fb6b66aacc1d48f445ddfb08da98',\n       'c21002f464c5fc5bee3b98ced83963b8',\n       '905056c1ac1dad141560467e0a99e1cf',\n       '38913e1d6a7b94cb0f55994f679f5956',\n       'd38901788c533e8286cb6400b40b386d',\n       'e555ebe0ce426f7f9b2bef0706315e0c',\n       '4f6ffe13a5d75b2d6a3923922b3922e5',\n       'ab88b15733f543179858600245108dd8',\n       '43baa6762fa81bb43b39c62553b2970d',\n       '26588e932c7ccfa1df309280702fe1b5',\n       'df6d2338b2b8fce1ec2f6dda0a630eb0',\n       '13f320e7b5ead1024ac95c3b208610db',\n       '9f53d83ec0691550f7d2507d57f4f5a2',\n       '7a53928fa4dd31e82c6ef826f341daec',\n       '4b6538a44a1dfdc2b83477cd76dee98e',\n       'a1519de5b5d44b31a01de013b9b51a80',\n       'dc58e3a306451c9d670adcd37004f48f',\n       '89f0fd5c927d466d6ec9a21b9ac34ffa',\n       'a9078e8653368c9c291ae2f8b74012e7',\n       'a2137a2ae8e39b5002a3f8909ecb88fe',\n       '6395ebd0f4b478145ecfbaf939454fa4',\n       'e3251075554389fe91d17a794861d47b',\n       '5ea1649a31336092c05438df996a3e59',\n       '7fec306d1e665bc9c748b5d2b99a6e97',\n       '01f78be6f7cad02658508fe4616098a9',\n       'c1e39d912d21c91dce811d6da9929ae8',\n       '53e3a7161e428b65688f14b84d61c610',\n       '6c340f25839e6acdc73414517203f5f0',\n       '0d7de1aca9299fe63f3e0041f02638a3',\n       '68053af2923e00204c3ca7c6a3150cf7',\n       '7bb060764a818184ebb1cc0d43d382aa',\n       '68264bdb65b97eeae6788aa3348e553c',\n       'bb04af0f7ecaee4aae62035497da1387',\n       '3a0772443a0739141292a5429b952fe6',\n       '535ab76633d94208236a2e829ea6d888',\n       '68ce199ec2c5517597ce0a4d89620f55',\n       '3f67fd97162d20e6fe27748b5b372509',\n       'd707329bece455a462b58ce00d1194c9',\n       '7634ea65a4e6d9041cfd3f7de18e334a',\n       'ca9c267dad0305d1a6308d2a0cf1c39c',\n       '26dd0dbc6e3f4c8043749885523d6a25',\n       '31857b449c407203749ae32dd0e7d64a',\n       '3435c378bb76d4357324dd7e69f3cd18',\n       'db576a7d2453575f29eab4bac787b919',\n       '250cf8b51c773f3f8dc8b4be867a9a02',\n       'addfa9b7e234254d26e9c7f2af1005cb',\n       '995665640dc319973d3173a74a03860c',\n       '68a83eeb494a308fe5295da69428a507',\n       'f91e24dfe80012e2a7984afa4480a6d6',\n       'a58149d355f02887dfbe55ebb2b64ba3',\n       'dc6a6489640ca02b0d42dabeb8e46bb7',\n       '31b3b31a1c2f8a370206f111127c0dbd',\n       'a51fb975227d6640e4fe47854476d133',\n       'd5cfead94f5350c12c322b5b664544c1',\n       '5487315b1286f907165907aa8fc96619',\n       '4079016d940210b4ae9ae7d41c4a2065',\n       'e44fea3bec53bcea3b7513ccef5857ac',\n       'c042f4db68f23406c6cecf84a7ebb0fe',\n       '74071a673307ca7459bcf75fbd024e09',\n       'b4a528955b84f584974e92d025a75d1f',\n       '6c8dba7d0df1c4a79dd07646be9a26c8',\n       '9f36407ead0629fc166f14dde7970f68',\n       'd709f38ef758b5066ef31b18039b8ce5',\n       '16a5cdae362b8d27a1d8f8c7b78b4330',\n       'f0e52b27a7a5d6a1a87373dffa53dbe5',\n       '1be3bc32e6564055d5ca3e5a354acbef',\n       '41f1f19176d383480afa65d325c06ed0',\n       'f79921bbae40a577928b76d2fc3edc2a',\n       'c5ff2543b53f4cc0ad3819a36752467b',\n       'cd758e8f59dfdf06a852adad277986ca',\n       '55743cc0393b1cb4b8b37d09ae48d097',\n       'e2230b853516e7b05d79744fbd4c9c13',\n       'e6d8545daa42d5ced125a4bf747b3688',\n       'f74909ace68e51891440e4da0b65a70c',\n       '934815ad542a4a7c5e8a2dfa04fea9f5',\n       '2f55707d4193dc27118a0f19a1985716',\n       'fae0b27c451c728867a567e8c1bb4e53',\n       '9a3d458322d70046f63dfd8b0153ece4',\n       'c203d8a151612acf12457e4d67635a95',\n       '6e2713a6efee97bacb63e52c54f0ada0',\n       'b5dc4e5d9b495d0196f61d45b26ef33e',\n       '1bb91f73e9d31ea2830a5e73ce3ed328',\n       '05f971b5ec196b8c65b75d2ef8267331'], dtype=object)"
     },
     "execution_count": 25,
     "metadata": {},
     "output_type": "execute_result"
    }
   ],
   "source": [
    "job_tag['jobID'].unique()"
   ],
   "metadata": {
    "collapsed": false,
    "pycharm": {
     "name": "#%%\n"
    }
   }
  },
  {
   "cell_type": "code",
   "execution_count": 26,
   "outputs": [
    {
     "data": {
      "text/plain": "array([nan, '11-50', '101-200', '1-10', '51-100', '1000 이상', '201-500',\n       '501-1000'], dtype=object)"
     },
     "execution_count": 26,
     "metadata": {},
     "output_type": "execute_result"
    }
   ],
   "source": [
    "job_companies['companySize'].unique()"
   ],
   "metadata": {
    "collapsed": false,
    "pycharm": {
     "name": "#%%\n"
    }
   }
  },
  {
   "cell_type": "code",
   "execution_count": 27,
   "outputs": [
    {
     "ename": "MergeError",
     "evalue": "No common columns to perform merge on. Merge options: left_on=None, right_on=None, left_index=False, right_index=False",
     "output_type": "error",
     "traceback": [
      "\u001B[1;31m---------------------------------------------------------------------------\u001B[0m",
      "\u001B[1;31mMergeError\u001B[0m                                Traceback (most recent call last)",
      "Input \u001B[1;32mIn [27]\u001B[0m, in \u001B[0;36m<cell line: 3>\u001B[1;34m()\u001B[0m\n\u001B[0;32m      1\u001B[0m \u001B[38;5;66;03m# text 정보를 input 으로 주자\u001B[39;00m\n\u001B[0;32m      2\u001B[0m \u001B[38;5;66;03m# user를 latent factor로 만들고?\u001B[39;00m\n\u001B[1;32m----> 3\u001B[0m \u001B[43mtrain\u001B[49m\u001B[38;5;241;43m.\u001B[39;49m\u001B[43mmerge\u001B[49m\u001B[43m(\u001B[49m\u001B[43mtags\u001B[49m\u001B[43m,\u001B[49m\u001B[43m \u001B[49m\u001B[38;5;124;43m'\u001B[39;49m\u001B[38;5;124;43m'\u001B[39;49m\u001B[43m)\u001B[49m\n",
      "File \u001B[1;32m~\\AppData\\Roaming\\Python\\Python38\\site-packages\\pandas\\core\\frame.py:10080\u001B[0m, in \u001B[0;36mDataFrame.merge\u001B[1;34m(self, right, how, on, left_on, right_on, left_index, right_index, sort, suffixes, copy, indicator, validate)\u001B[0m\n\u001B[0;32m  10061\u001B[0m \u001B[38;5;129m@Substitution\u001B[39m(\u001B[38;5;124m\"\u001B[39m\u001B[38;5;124m\"\u001B[39m)\n\u001B[0;32m  10062\u001B[0m \u001B[38;5;129m@Appender\u001B[39m(_merge_doc, indents\u001B[38;5;241m=\u001B[39m\u001B[38;5;241m2\u001B[39m)\n\u001B[0;32m  10063\u001B[0m \u001B[38;5;28;01mdef\u001B[39;00m \u001B[38;5;21mmerge\u001B[39m(\n\u001B[1;32m   (...)\u001B[0m\n\u001B[0;32m  10076\u001B[0m     validate: \u001B[38;5;28mstr\u001B[39m \u001B[38;5;241m|\u001B[39m \u001B[38;5;28;01mNone\u001B[39;00m \u001B[38;5;241m=\u001B[39m \u001B[38;5;28;01mNone\u001B[39;00m,\n\u001B[0;32m  10077\u001B[0m ) \u001B[38;5;241m-\u001B[39m\u001B[38;5;241m>\u001B[39m DataFrame:\n\u001B[0;32m  10078\u001B[0m     \u001B[38;5;28;01mfrom\u001B[39;00m \u001B[38;5;21;01mpandas\u001B[39;00m\u001B[38;5;21;01m.\u001B[39;00m\u001B[38;5;21;01mcore\u001B[39;00m\u001B[38;5;21;01m.\u001B[39;00m\u001B[38;5;21;01mreshape\u001B[39;00m\u001B[38;5;21;01m.\u001B[39;00m\u001B[38;5;21;01mmerge\u001B[39;00m \u001B[38;5;28;01mimport\u001B[39;00m merge\n\u001B[1;32m> 10080\u001B[0m     \u001B[38;5;28;01mreturn\u001B[39;00m \u001B[43mmerge\u001B[49m\u001B[43m(\u001B[49m\n\u001B[0;32m  10081\u001B[0m \u001B[43m        \u001B[49m\u001B[38;5;28;43mself\u001B[39;49m\u001B[43m,\u001B[49m\n\u001B[0;32m  10082\u001B[0m \u001B[43m        \u001B[49m\u001B[43mright\u001B[49m\u001B[43m,\u001B[49m\n\u001B[0;32m  10083\u001B[0m \u001B[43m        \u001B[49m\u001B[43mhow\u001B[49m\u001B[38;5;241;43m=\u001B[39;49m\u001B[43mhow\u001B[49m\u001B[43m,\u001B[49m\n\u001B[0;32m  10084\u001B[0m \u001B[43m        \u001B[49m\u001B[43mon\u001B[49m\u001B[38;5;241;43m=\u001B[39;49m\u001B[43mon\u001B[49m\u001B[43m,\u001B[49m\n\u001B[0;32m  10085\u001B[0m \u001B[43m        \u001B[49m\u001B[43mleft_on\u001B[49m\u001B[38;5;241;43m=\u001B[39;49m\u001B[43mleft_on\u001B[49m\u001B[43m,\u001B[49m\n\u001B[0;32m  10086\u001B[0m \u001B[43m        \u001B[49m\u001B[43mright_on\u001B[49m\u001B[38;5;241;43m=\u001B[39;49m\u001B[43mright_on\u001B[49m\u001B[43m,\u001B[49m\n\u001B[0;32m  10087\u001B[0m \u001B[43m        \u001B[49m\u001B[43mleft_index\u001B[49m\u001B[38;5;241;43m=\u001B[39;49m\u001B[43mleft_index\u001B[49m\u001B[43m,\u001B[49m\n\u001B[0;32m  10088\u001B[0m \u001B[43m        \u001B[49m\u001B[43mright_index\u001B[49m\u001B[38;5;241;43m=\u001B[39;49m\u001B[43mright_index\u001B[49m\u001B[43m,\u001B[49m\n\u001B[0;32m  10089\u001B[0m \u001B[43m        \u001B[49m\u001B[43msort\u001B[49m\u001B[38;5;241;43m=\u001B[39;49m\u001B[43msort\u001B[49m\u001B[43m,\u001B[49m\n\u001B[0;32m  10090\u001B[0m \u001B[43m        \u001B[49m\u001B[43msuffixes\u001B[49m\u001B[38;5;241;43m=\u001B[39;49m\u001B[43msuffixes\u001B[49m\u001B[43m,\u001B[49m\n\u001B[0;32m  10091\u001B[0m \u001B[43m        \u001B[49m\u001B[43mcopy\u001B[49m\u001B[38;5;241;43m=\u001B[39;49m\u001B[43mcopy\u001B[49m\u001B[43m,\u001B[49m\n\u001B[0;32m  10092\u001B[0m \u001B[43m        \u001B[49m\u001B[43mindicator\u001B[49m\u001B[38;5;241;43m=\u001B[39;49m\u001B[43mindicator\u001B[49m\u001B[43m,\u001B[49m\n\u001B[0;32m  10093\u001B[0m \u001B[43m        \u001B[49m\u001B[43mvalidate\u001B[49m\u001B[38;5;241;43m=\u001B[39;49m\u001B[43mvalidate\u001B[49m\u001B[43m,\u001B[49m\n\u001B[0;32m  10094\u001B[0m \u001B[43m    \u001B[49m\u001B[43m)\u001B[49m\n",
      "File \u001B[1;32m~\\AppData\\Roaming\\Python\\Python38\\site-packages\\pandas\\core\\reshape\\merge.py:110\u001B[0m, in \u001B[0;36mmerge\u001B[1;34m(left, right, how, on, left_on, right_on, left_index, right_index, sort, suffixes, copy, indicator, validate)\u001B[0m\n\u001B[0;32m     93\u001B[0m \u001B[38;5;129m@Substitution\u001B[39m(\u001B[38;5;124m\"\u001B[39m\u001B[38;5;130;01m\\n\u001B[39;00m\u001B[38;5;124mleft : DataFrame or named Series\u001B[39m\u001B[38;5;124m\"\u001B[39m)\n\u001B[0;32m     94\u001B[0m \u001B[38;5;129m@Appender\u001B[39m(_merge_doc, indents\u001B[38;5;241m=\u001B[39m\u001B[38;5;241m0\u001B[39m)\n\u001B[0;32m     95\u001B[0m \u001B[38;5;28;01mdef\u001B[39;00m \u001B[38;5;21mmerge\u001B[39m(\n\u001B[1;32m   (...)\u001B[0m\n\u001B[0;32m    108\u001B[0m     validate: \u001B[38;5;28mstr\u001B[39m \u001B[38;5;241m|\u001B[39m \u001B[38;5;28;01mNone\u001B[39;00m \u001B[38;5;241m=\u001B[39m \u001B[38;5;28;01mNone\u001B[39;00m,\n\u001B[0;32m    109\u001B[0m ) \u001B[38;5;241m-\u001B[39m\u001B[38;5;241m>\u001B[39m DataFrame:\n\u001B[1;32m--> 110\u001B[0m     op \u001B[38;5;241m=\u001B[39m \u001B[43m_MergeOperation\u001B[49m\u001B[43m(\u001B[49m\n\u001B[0;32m    111\u001B[0m \u001B[43m        \u001B[49m\u001B[43mleft\u001B[49m\u001B[43m,\u001B[49m\n\u001B[0;32m    112\u001B[0m \u001B[43m        \u001B[49m\u001B[43mright\u001B[49m\u001B[43m,\u001B[49m\n\u001B[0;32m    113\u001B[0m \u001B[43m        \u001B[49m\u001B[43mhow\u001B[49m\u001B[38;5;241;43m=\u001B[39;49m\u001B[43mhow\u001B[49m\u001B[43m,\u001B[49m\n\u001B[0;32m    114\u001B[0m \u001B[43m        \u001B[49m\u001B[43mon\u001B[49m\u001B[38;5;241;43m=\u001B[39;49m\u001B[43mon\u001B[49m\u001B[43m,\u001B[49m\n\u001B[0;32m    115\u001B[0m \u001B[43m        \u001B[49m\u001B[43mleft_on\u001B[49m\u001B[38;5;241;43m=\u001B[39;49m\u001B[43mleft_on\u001B[49m\u001B[43m,\u001B[49m\n\u001B[0;32m    116\u001B[0m \u001B[43m        \u001B[49m\u001B[43mright_on\u001B[49m\u001B[38;5;241;43m=\u001B[39;49m\u001B[43mright_on\u001B[49m\u001B[43m,\u001B[49m\n\u001B[0;32m    117\u001B[0m \u001B[43m        \u001B[49m\u001B[43mleft_index\u001B[49m\u001B[38;5;241;43m=\u001B[39;49m\u001B[43mleft_index\u001B[49m\u001B[43m,\u001B[49m\n\u001B[0;32m    118\u001B[0m \u001B[43m        \u001B[49m\u001B[43mright_index\u001B[49m\u001B[38;5;241;43m=\u001B[39;49m\u001B[43mright_index\u001B[49m\u001B[43m,\u001B[49m\n\u001B[0;32m    119\u001B[0m \u001B[43m        \u001B[49m\u001B[43msort\u001B[49m\u001B[38;5;241;43m=\u001B[39;49m\u001B[43msort\u001B[49m\u001B[43m,\u001B[49m\n\u001B[0;32m    120\u001B[0m \u001B[43m        \u001B[49m\u001B[43msuffixes\u001B[49m\u001B[38;5;241;43m=\u001B[39;49m\u001B[43msuffixes\u001B[49m\u001B[43m,\u001B[49m\n\u001B[0;32m    121\u001B[0m \u001B[43m        \u001B[49m\u001B[43mindicator\u001B[49m\u001B[38;5;241;43m=\u001B[39;49m\u001B[43mindicator\u001B[49m\u001B[43m,\u001B[49m\n\u001B[0;32m    122\u001B[0m \u001B[43m        \u001B[49m\u001B[43mvalidate\u001B[49m\u001B[38;5;241;43m=\u001B[39;49m\u001B[43mvalidate\u001B[49m\u001B[43m,\u001B[49m\n\u001B[0;32m    123\u001B[0m \u001B[43m    \u001B[49m\u001B[43m)\u001B[49m\n\u001B[0;32m    124\u001B[0m     \u001B[38;5;28;01mreturn\u001B[39;00m op\u001B[38;5;241m.\u001B[39mget_result(copy\u001B[38;5;241m=\u001B[39mcopy)\n",
      "File \u001B[1;32m~\\AppData\\Roaming\\Python\\Python38\\site-packages\\pandas\\core\\reshape\\merge.py:685\u001B[0m, in \u001B[0;36m_MergeOperation.__init__\u001B[1;34m(self, left, right, how, on, left_on, right_on, axis, left_index, right_index, sort, suffixes, indicator, validate)\u001B[0m\n\u001B[0;32m    681\u001B[0m     \u001B[38;5;66;03m# stacklevel chosen to be correct when this is reached via pd.merge\u001B[39;00m\n\u001B[0;32m    682\u001B[0m     \u001B[38;5;66;03m# (and not DataFrame.join)\u001B[39;00m\n\u001B[0;32m    683\u001B[0m     warnings\u001B[38;5;241m.\u001B[39mwarn(msg, \u001B[38;5;167;01mFutureWarning\u001B[39;00m, stacklevel\u001B[38;5;241m=\u001B[39mfind_stack_level())\n\u001B[1;32m--> 685\u001B[0m \u001B[38;5;28mself\u001B[39m\u001B[38;5;241m.\u001B[39mleft_on, \u001B[38;5;28mself\u001B[39m\u001B[38;5;241m.\u001B[39mright_on \u001B[38;5;241m=\u001B[39m \u001B[38;5;28;43mself\u001B[39;49m\u001B[38;5;241;43m.\u001B[39;49m\u001B[43m_validate_left_right_on\u001B[49m\u001B[43m(\u001B[49m\u001B[43mleft_on\u001B[49m\u001B[43m,\u001B[49m\u001B[43m \u001B[49m\u001B[43mright_on\u001B[49m\u001B[43m)\u001B[49m\n\u001B[0;32m    687\u001B[0m cross_col \u001B[38;5;241m=\u001B[39m \u001B[38;5;28;01mNone\u001B[39;00m\n\u001B[0;32m    688\u001B[0m \u001B[38;5;28;01mif\u001B[39;00m \u001B[38;5;28mself\u001B[39m\u001B[38;5;241m.\u001B[39mhow \u001B[38;5;241m==\u001B[39m \u001B[38;5;124m\"\u001B[39m\u001B[38;5;124mcross\u001B[39m\u001B[38;5;124m\"\u001B[39m:\n",
      "File \u001B[1;32m~\\AppData\\Roaming\\Python\\Python38\\site-packages\\pandas\\core\\reshape\\merge.py:1434\u001B[0m, in \u001B[0;36m_MergeOperation._validate_left_right_on\u001B[1;34m(self, left_on, right_on)\u001B[0m\n\u001B[0;32m   1432\u001B[0m common_cols \u001B[38;5;241m=\u001B[39m left_cols\u001B[38;5;241m.\u001B[39mintersection(right_cols)\n\u001B[0;32m   1433\u001B[0m \u001B[38;5;28;01mif\u001B[39;00m \u001B[38;5;28mlen\u001B[39m(common_cols) \u001B[38;5;241m==\u001B[39m \u001B[38;5;241m0\u001B[39m:\n\u001B[1;32m-> 1434\u001B[0m     \u001B[38;5;28;01mraise\u001B[39;00m MergeError(\n\u001B[0;32m   1435\u001B[0m         \u001B[38;5;124m\"\u001B[39m\u001B[38;5;124mNo common columns to perform merge on. \u001B[39m\u001B[38;5;124m\"\u001B[39m\n\u001B[0;32m   1436\u001B[0m         \u001B[38;5;124mf\u001B[39m\u001B[38;5;124m\"\u001B[39m\u001B[38;5;124mMerge options: left_on=\u001B[39m\u001B[38;5;132;01m{\u001B[39;00mleft_on\u001B[38;5;132;01m}\u001B[39;00m\u001B[38;5;124m, \u001B[39m\u001B[38;5;124m\"\u001B[39m\n\u001B[0;32m   1437\u001B[0m         \u001B[38;5;124mf\u001B[39m\u001B[38;5;124m\"\u001B[39m\u001B[38;5;124mright_on=\u001B[39m\u001B[38;5;132;01m{\u001B[39;00mright_on\u001B[38;5;132;01m}\u001B[39;00m\u001B[38;5;124m, \u001B[39m\u001B[38;5;124m\"\u001B[39m\n\u001B[0;32m   1438\u001B[0m         \u001B[38;5;124mf\u001B[39m\u001B[38;5;124m\"\u001B[39m\u001B[38;5;124mleft_index=\u001B[39m\u001B[38;5;132;01m{\u001B[39;00m\u001B[38;5;28mself\u001B[39m\u001B[38;5;241m.\u001B[39mleft_index\u001B[38;5;132;01m}\u001B[39;00m\u001B[38;5;124m, \u001B[39m\u001B[38;5;124m\"\u001B[39m\n\u001B[0;32m   1439\u001B[0m         \u001B[38;5;124mf\u001B[39m\u001B[38;5;124m\"\u001B[39m\u001B[38;5;124mright_index=\u001B[39m\u001B[38;5;132;01m{\u001B[39;00m\u001B[38;5;28mself\u001B[39m\u001B[38;5;241m.\u001B[39mright_index\u001B[38;5;132;01m}\u001B[39;00m\u001B[38;5;124m\"\u001B[39m\n\u001B[0;32m   1440\u001B[0m     )\n\u001B[0;32m   1441\u001B[0m \u001B[38;5;28;01mif\u001B[39;00m (\n\u001B[0;32m   1442\u001B[0m     \u001B[38;5;129;01mnot\u001B[39;00m left_cols\u001B[38;5;241m.\u001B[39mjoin(common_cols, how\u001B[38;5;241m=\u001B[39m\u001B[38;5;124m\"\u001B[39m\u001B[38;5;124minner\u001B[39m\u001B[38;5;124m\"\u001B[39m)\u001B[38;5;241m.\u001B[39mis_unique\n\u001B[0;32m   1443\u001B[0m     \u001B[38;5;129;01mor\u001B[39;00m \u001B[38;5;129;01mnot\u001B[39;00m right_cols\u001B[38;5;241m.\u001B[39mjoin(common_cols, how\u001B[38;5;241m=\u001B[39m\u001B[38;5;124m\"\u001B[39m\u001B[38;5;124minner\u001B[39m\u001B[38;5;124m\"\u001B[39m)\u001B[38;5;241m.\u001B[39mis_unique\n\u001B[0;32m   1444\u001B[0m ):\n\u001B[0;32m   1445\u001B[0m     \u001B[38;5;28;01mraise\u001B[39;00m MergeError(\u001B[38;5;124mf\u001B[39m\u001B[38;5;124m\"\u001B[39m\u001B[38;5;124mData columns not unique: \u001B[39m\u001B[38;5;132;01m{\u001B[39;00m\u001B[38;5;28mrepr\u001B[39m(common_cols)\u001B[38;5;132;01m}\u001B[39;00m\u001B[38;5;124m\"\u001B[39m)\n",
      "\u001B[1;31mMergeError\u001B[0m: No common columns to perform merge on. Merge options: left_on=None, right_on=None, left_index=False, right_index=False"
     ]
    }
   ],
   "source": [
    "# text 정보를 input 으로 주자\n",
    "# user를 latent factor로 만들고?\n",
    "train.merge(tags, '')"
   ],
   "metadata": {
    "collapsed": false,
    "pycharm": {
     "name": "#%%\n"
    }
   }
  },
  {
   "cell_type": "code",
   "execution_count": 29,
   "outputs": [
    {
     "data": {
      "text/plain": "                                tagID                   keyword\n0    602d1305678a8d5fdb372271e980da6a  Amazon Web Services(AWS)\n1    e3251075554389fe91d17a794861d47b                Tensorflow\n2    a1d50185e7426cbb0acad1e6ca74b9aa                    Docker\n3    884d79963bd8bc0ae9b13a1aa71add73                       Git\n4    4122cb13c7a474c1976c9706ae36521d                    Python\n..                                ...                       ...\n882  818f4654ed39a1c147d1e51a00ffb4cb                        활용\n883  7cce53cf90577442771720a370c3c723                    mybais\n884  c2aee86157b4a40b78132f1e71a9e6f1                         *\n885  1fb2a1c37b18aa4611c3949d6148d0f8             Autodesk Maya\n886  5fa9e41bfec0725742cc9d15ef594120                Apache Pig\n\n[887 rows x 2 columns]",
      "text/html": "<div>\n<style scoped>\n    .dataframe tbody tr th:only-of-type {\n        vertical-align: middle;\n    }\n\n    .dataframe tbody tr th {\n        vertical-align: top;\n    }\n\n    .dataframe thead th {\n        text-align: right;\n    }\n</style>\n<table border=\"1\" class=\"dataframe\">\n  <thead>\n    <tr style=\"text-align: right;\">\n      <th></th>\n      <th>tagID</th>\n      <th>keyword</th>\n    </tr>\n  </thead>\n  <tbody>\n    <tr>\n      <th>0</th>\n      <td>602d1305678a8d5fdb372271e980da6a</td>\n      <td>Amazon Web Services(AWS)</td>\n    </tr>\n    <tr>\n      <th>1</th>\n      <td>e3251075554389fe91d17a794861d47b</td>\n      <td>Tensorflow</td>\n    </tr>\n    <tr>\n      <th>2</th>\n      <td>a1d50185e7426cbb0acad1e6ca74b9aa</td>\n      <td>Docker</td>\n    </tr>\n    <tr>\n      <th>3</th>\n      <td>884d79963bd8bc0ae9b13a1aa71add73</td>\n      <td>Git</td>\n    </tr>\n    <tr>\n      <th>4</th>\n      <td>4122cb13c7a474c1976c9706ae36521d</td>\n      <td>Python</td>\n    </tr>\n    <tr>\n      <th>...</th>\n      <td>...</td>\n      <td>...</td>\n    </tr>\n    <tr>\n      <th>882</th>\n      <td>818f4654ed39a1c147d1e51a00ffb4cb</td>\n      <td>활용</td>\n    </tr>\n    <tr>\n      <th>883</th>\n      <td>7cce53cf90577442771720a370c3c723</td>\n      <td>mybais</td>\n    </tr>\n    <tr>\n      <th>884</th>\n      <td>c2aee86157b4a40b78132f1e71a9e6f1</td>\n      <td>*</td>\n    </tr>\n    <tr>\n      <th>885</th>\n      <td>1fb2a1c37b18aa4611c3949d6148d0f8</td>\n      <td>Autodesk Maya</td>\n    </tr>\n    <tr>\n      <th>886</th>\n      <td>5fa9e41bfec0725742cc9d15ef594120</td>\n      <td>Apache Pig</td>\n    </tr>\n  </tbody>\n</table>\n<p>887 rows × 2 columns</p>\n</div>"
     },
     "execution_count": 29,
     "metadata": {},
     "output_type": "execute_result"
    }
   ],
   "source": [
    "tags"
   ],
   "metadata": {
    "collapsed": false,
    "pycharm": {
     "name": "#%%\n"
    }
   }
  },
  {
   "cell_type": "code",
   "execution_count": 33,
   "outputs": [],
   "source": [
    "\n",
    "job_tag = job_tag.merge(tags, on='tagID', how='left')"
   ],
   "metadata": {
    "collapsed": false,
    "pycharm": {
     "name": "#%%\n"
    }
   }
  },
  {
   "cell_type": "code",
   "execution_count": 43,
   "outputs": [
    {
     "data": {
      "text/plain": "                                 jobID                             tagID  \\\n0     320722549d1751cf3f247855f937b982  d38901788c533e8286cb6400b40b386d   \n1     e744f91c29ec99f0e662c9177946c627  3948ead63a9f2944218de038d8934305   \n2     e744f91c29ec99f0e662c9177946c627  0e095e054ee94774d6a496099eb1cf6a   \n3     e820a45f1dfc7b95282d10b6087e11c0  7d771e0e8f3633ab54856925ecdefc5d   \n4     e820a45f1dfc7b95282d10b6087e11c0  6c8dba7d0df1c4a79dd07646be9a26c8   \n...                                ...                               ...   \n3472  b4a528955b84f584974e92d025a75d1f  bb04af0f7ecaee4aae62035497da1387   \n3473  6c8dba7d0df1c4a79dd07646be9a26c8  3bf55bbad370a8fcad1d09b005e278c2   \n3474  6c8dba7d0df1c4a79dd07646be9a26c8  0e9fa1f3e9e66792401a6972d477dcc3   \n3475  6c8dba7d0df1c4a79dd07646be9a26c8  0c048b3a434e49e655c1247efb389cec   \n3476  9f36407ead0629fc166f14dde7970f68  c4851e8e264415c4094e4e85b0baa7cc   \n\n         keyword  \n0           Ruby  \n1        Node.js  \n2     JavaScript  \n3           HTML  \n4         Vue.js  \n...          ...  \n3472         C++  \n3473       Swift  \n3474       Realm  \n3475    Firebase  \n3476         PHP  \n\n[3477 rows x 3 columns]",
      "text/html": "<div>\n<style scoped>\n    .dataframe tbody tr th:only-of-type {\n        vertical-align: middle;\n    }\n\n    .dataframe tbody tr th {\n        vertical-align: top;\n    }\n\n    .dataframe thead th {\n        text-align: right;\n    }\n</style>\n<table border=\"1\" class=\"dataframe\">\n  <thead>\n    <tr style=\"text-align: right;\">\n      <th></th>\n      <th>jobID</th>\n      <th>tagID</th>\n      <th>keyword</th>\n    </tr>\n  </thead>\n  <tbody>\n    <tr>\n      <th>0</th>\n      <td>320722549d1751cf3f247855f937b982</td>\n      <td>d38901788c533e8286cb6400b40b386d</td>\n      <td>Ruby</td>\n    </tr>\n    <tr>\n      <th>1</th>\n      <td>e744f91c29ec99f0e662c9177946c627</td>\n      <td>3948ead63a9f2944218de038d8934305</td>\n      <td>Node.js</td>\n    </tr>\n    <tr>\n      <th>2</th>\n      <td>e744f91c29ec99f0e662c9177946c627</td>\n      <td>0e095e054ee94774d6a496099eb1cf6a</td>\n      <td>JavaScript</td>\n    </tr>\n    <tr>\n      <th>3</th>\n      <td>e820a45f1dfc7b95282d10b6087e11c0</td>\n      <td>7d771e0e8f3633ab54856925ecdefc5d</td>\n      <td>HTML</td>\n    </tr>\n    <tr>\n      <th>4</th>\n      <td>e820a45f1dfc7b95282d10b6087e11c0</td>\n      <td>6c8dba7d0df1c4a79dd07646be9a26c8</td>\n      <td>Vue.js</td>\n    </tr>\n    <tr>\n      <th>...</th>\n      <td>...</td>\n      <td>...</td>\n      <td>...</td>\n    </tr>\n    <tr>\n      <th>3472</th>\n      <td>b4a528955b84f584974e92d025a75d1f</td>\n      <td>bb04af0f7ecaee4aae62035497da1387</td>\n      <td>C++</td>\n    </tr>\n    <tr>\n      <th>3473</th>\n      <td>6c8dba7d0df1c4a79dd07646be9a26c8</td>\n      <td>3bf55bbad370a8fcad1d09b005e278c2</td>\n      <td>Swift</td>\n    </tr>\n    <tr>\n      <th>3474</th>\n      <td>6c8dba7d0df1c4a79dd07646be9a26c8</td>\n      <td>0e9fa1f3e9e66792401a6972d477dcc3</td>\n      <td>Realm</td>\n    </tr>\n    <tr>\n      <th>3475</th>\n      <td>6c8dba7d0df1c4a79dd07646be9a26c8</td>\n      <td>0c048b3a434e49e655c1247efb389cec</td>\n      <td>Firebase</td>\n    </tr>\n    <tr>\n      <th>3476</th>\n      <td>9f36407ead0629fc166f14dde7970f68</td>\n      <td>c4851e8e264415c4094e4e85b0baa7cc</td>\n      <td>PHP</td>\n    </tr>\n  </tbody>\n</table>\n<p>3477 rows × 3 columns</p>\n</div>"
     },
     "execution_count": 43,
     "metadata": {},
     "output_type": "execute_result"
    }
   ],
   "source": [
    "\n",
    "job_tag.groupby(['keyword'])"
   ],
   "metadata": {
    "collapsed": false,
    "pycharm": {
     "name": "#%%\n"
    }
   }
  },
  {
   "cell_type": "code",
   "execution_count": 45,
   "outputs": [],
   "source": [
    "job_tag_grp = job_tag.groupby('jobID')"
   ],
   "metadata": {
    "collapsed": false,
    "pycharm": {
     "name": "#%%\n"
    }
   }
  },
  {
   "cell_type": "code",
   "execution_count": 56,
   "outputs": [],
   "source": [
    "for job_grp in job_tag_grp:\n",
    "    keywords = ' '.join(job_grp[1]['keyword'].values)\n",
    "    job_tag.loc[job_tag.jobID ==job_grp[0],'keywords'] = keywords\n",
    "    break\n"
   ],
   "metadata": {
    "collapsed": false,
    "pycharm": {
     "name": "#%%\n"
    }
   }
  },
  {
   "cell_type": "code",
   "execution_count": null,
   "outputs": [],
   "source": [],
   "metadata": {
    "collapsed": false,
    "pycharm": {
     "name": "#%%\n"
    }
   }
  },
  {
   "cell_type": "code",
   "execution_count": null,
   "outputs": [],
   "source": [
    "# generate grp\n",
    "# 가독성 좋은 코드로\n",
    "#\n",
    "user_tags_merge_grp = user_tags_merge.groupby('userID')\n",
    "# 도메인 지식으로 frontend라고 구분지어도되나\n",
    "for user_grp in user_tags_merge_grp:\n",
    "    print(user_grp)\n",
    "    # 관심사 키워드 유니크값만\n",
    "    interest_keyword = ' '.join(user_grp[1]['keyword'].unique())\n",
    "    user_tags.loc[user_tags.userID ==user_grp[0],'interest_keyword'] = interest_keyword"
   ],
   "metadata": {
    "collapsed": false,
    "pycharm": {
     "name": "#%%\n"
    }
   }
  },
  {
   "cell_type": "code",
   "execution_count": null,
   "outputs": [],
   "source": [],
   "metadata": {
    "collapsed": false,
    "pycharm": {
     "name": "#%%\n"
    }
   }
  },
  {
   "cell_type": "code",
   "execution_count": null,
   "outputs": [],
   "source": [],
   "metadata": {
    "collapsed": false,
    "pycharm": {
     "name": "#%%\n"
    }
   }
  },
  {
   "cell_type": "code",
   "execution_count": 67,
   "outputs": [],
   "source": [
    "tags_index_dict = dict()\n",
    "for i in range(0, len(tags)):\n",
    "    tags_index_dict[tags[\"tagID\"][i]] = i\n"
   ],
   "metadata": {
    "collapsed": false,
    "pycharm": {
     "name": "#%%\n"
    }
   }
  },
  {
   "cell_type": "code",
   "execution_count": 71,
   "outputs": [],
   "source": [
    "size_dict = {\"1-10\": 1, \"11-50\": 2, \"51-100\": 3, \"101-200\": 4, \"201-500\": 5, \"501-1000\": 6, \"1000 이상\": 7}\n",
    "a = 1\n",
    "for k, v in size_dict.items():\n",
    "    m = np.zeros(shape=(8))\n",
    "    m[a] = 1.\n",
    "    size_dict[k] = m\n",
    "    a += 1"
   ],
   "metadata": {
    "collapsed": false,
    "pycharm": {
     "name": "#%%\n"
    }
   }
  },
  {
   "cell_type": "code",
   "execution_count": 73,
   "outputs": [
    {
     "data": {
      "text/plain": "{'1-10': array([0., 1., 0., 0., 0., 0., 0., 0.]),\n '11-50': array([0., 0., 1., 0., 0., 0., 0., 0.]),\n '51-100': array([0., 0., 0., 1., 0., 0., 0., 0.]),\n '101-200': array([0., 0., 0., 0., 1., 0., 0., 0.]),\n '201-500': array([0., 0., 0., 0., 0., 1., 0., 0.]),\n '501-1000': array([0., 0., 0., 0., 0., 0., 1., 0.]),\n '1000 이상': array([0., 0., 0., 0., 0., 0., 0., 1.])}"
     },
     "execution_count": 73,
     "metadata": {},
     "output_type": "execute_result"
    }
   ],
   "source": [],
   "metadata": {
    "collapsed": false,
    "pycharm": {
     "name": "#%%\n"
    }
   }
  },
  {
   "cell_type": "code",
   "execution_count": 74,
   "outputs": [],
   "source": [
    "jobs = data_companies\n",
    "company_one_hot = dict()\n",
    "for i in range(0, len(jobs)):\n",
    "    id = jobs[\"jobID\"][i]\n",
    "    size = jobs[\"companySize\"][i]\n",
    "    if size not in size_dict:\n",
    "        size = np.zeros(shape=(8))\n",
    "        size[0] = 1.\n",
    "    else:\n",
    "        size = size_dict[jobs[\"companySize\"][i]]\n",
    "    company_one_hot[id] = size"
   ],
   "metadata": {
    "collapsed": false,
    "pycharm": {
     "name": "#%%\n"
    }
   }
  },
  {
   "cell_type": "code",
   "execution_count": 77,
   "outputs": [
    {
     "data": {
      "text/plain": "733"
     },
     "execution_count": 77,
     "metadata": {},
     "output_type": "execute_result"
    }
   ],
   "source": [
    "len(company_one_hot.keys())"
   ],
   "metadata": {
    "collapsed": false,
    "pycharm": {
     "name": "#%%\n"
    }
   }
  },
  {
   "cell_type": "code",
   "execution_count": 70,
   "outputs": [
    {
     "data": {
      "text/plain": "887"
     },
     "execution_count": 70,
     "metadata": {},
     "output_type": "execute_result"
    }
   ],
   "source": [
    "len(tags_index_dict.keys())"
   ],
   "metadata": {
    "collapsed": false,
    "pycharm": {
     "name": "#%%\n"
    }
   }
  },
  {
   "cell_type": "code",
   "execution_count": null,
   "outputs": [],
   "source": [],
   "metadata": {
    "collapsed": false,
    "pycharm": {
     "name": "#%%\n"
    }
   }
  },
  {
   "cell_type": "code",
   "execution_count": 78,
   "outputs": [],
   "source": [
    "users =data_user_tag\n",
    "index = 'userID'\n",
    "users_tags_dict= dict()\n",
    "for i in range(0, len(users)):\n",
    "    first = users[index][i]\n",
    "    tagID = users[\"tagID\"][i]\n",
    "\n",
    "    if first not in users_tags_dict:\n",
    "        users_tags_dict[first] = [tagID]\n",
    "    else:\n",
    "        k = users_tags_dict[first]\n",
    "        k.append(tagID)\n",
    "        users_tags_dict[first] = k"
   ],
   "metadata": {
    "collapsed": false,
    "pycharm": {
     "name": "#%%\n"
    }
   }
  },
  {
   "cell_type": "code",
   "execution_count": 82,
   "outputs": [
    {
     "data": {
      "text/plain": "196"
     },
     "execution_count": 82,
     "metadata": {},
     "output_type": "execute_result"
    }
   ],
   "source": [
    "len(users_tags_dict.keys())"
   ],
   "metadata": {
    "collapsed": false,
    "pycharm": {
     "name": "#%%\n"
    }
   }
  },
  {
   "cell_type": "code",
   "execution_count": 83,
   "outputs": [],
   "source": [
    "users =data_jobs\n",
    "index = 'jobID'\n",
    "users_tags_dict= dict()\n",
    "for i in range(0, len(users)):\n",
    "    first = users[index][i]\n",
    "    tagID = users[\"tagID\"][i]\n",
    "\n",
    "    if first not in users_tags_dict:\n",
    "        users_tags_dict[first] = [tagID]\n",
    "    else:\n",
    "        k = users_tags_dict[first]\n",
    "        k.append(tagID)\n",
    "        users_tags_dict[first] = k"
   ],
   "metadata": {
    "collapsed": false,
    "pycharm": {
     "name": "#%%\n"
    }
   }
  },
  {
   "cell_type": "code",
   "execution_count": 85,
   "outputs": [
    {
     "data": {
      "text/plain": "733"
     },
     "execution_count": 85,
     "metadata": {},
     "output_type": "execute_result"
    }
   ],
   "source": [
    "len(users_tags_dict.keys())"
   ],
   "metadata": {
    "collapsed": false,
    "pycharm": {
     "name": "#%%\n"
    }
   }
  },
  {
   "cell_type": "code",
   "execution_count": null,
   "outputs": [],
   "source": [
    "id_one_hot = dict()\n",
    "for key, values in users_tags_dict.items():\n",
    "    # one_hot = [0 for i in range(0, len(tags_index_dict))]\n",
    "    one_hot = np.zeros(shape=(len(tags_index_dict)))\n",
    "    for v in values:\n",
    "        one_hot[tags_index_dict[v]] = 1.\n",
    "    id_one_hot[key] = one_hot"
   ],
   "metadata": {
    "collapsed": false,
    "pycharm": {
     "name": "#%%\n"
    }
   }
  },
  {
   "cell_type": "code",
   "execution_count": 1,
   "outputs": [],
   "source": [
    "import pandas as pd\n",
    "import numpy as np\n",
    "\n",
    "def tags_to_one_hot(tags):\n",
    "    # tag to index\n",
    "    tags_index_dict = dict()\n",
    "    for i in range(0, len(tags)):\n",
    "        tags_index_dict[tags[\"tagID\"][i]] = i\n",
    "    return tags_index_dict\n",
    "\n",
    "def jobs_company_to_one_hot(jobs):\n",
    "    # size to one hot\n",
    "    size_dict = {\"1-10\": 1, \"11-50\": 2, \"51-100\": 3, \"101-200\": 4, \"201-500\": 5, \"501-1000\": 6, \"1000 이상\": 7}\n",
    "    a = 1\n",
    "    for k, v in size_dict.items():\n",
    "        m = np.zeros(shape=(8))\n",
    "        m[a] = 1.\n",
    "        size_dict[k] = m\n",
    "        a += 1\n",
    "\n",
    "    # jobs to one hot\n",
    "    company_one_hot = dict()\n",
    "    for i in range(0, len(jobs)):\n",
    "        id = jobs[\"jobID\"][i]\n",
    "        size = jobs[\"companySize\"][i]\n",
    "        if size not in size_dict:\n",
    "            size = np.zeros(shape=(8))\n",
    "            size[0] = 1.\n",
    "        else:\n",
    "            size = size_dict[jobs[\"companySize\"][i]]\n",
    "        company_one_hot[id] = size\n",
    "    return company_one_hot\n",
    "\n",
    "def id_to_one_hot(tags_index_dict, users, index):\n",
    "    # ids to tag dic\n",
    "    users_tags_dict= dict()\n",
    "    for i in range(0, len(users)):\n",
    "        first = users[index][i]\n",
    "        tagID = users[\"tagID\"][i]\n",
    "\n",
    "        if first not in users_tags_dict:\n",
    "            users_tags_dict[first] = [tagID]\n",
    "        else:\n",
    "            k = users_tags_dict[first]\n",
    "            k.append(tagID)\n",
    "            users_tags_dict[first] = k\n",
    "\n",
    "    # ids to tag one hot\n",
    "    id_one_hot = dict()\n",
    "    for key, values in users_tags_dict.items():\n",
    "        # one_hot = [0 for i in range(0, len(tags_index_dict))]\n",
    "        one_hot = np.zeros(shape=(len(tags_index_dict)))\n",
    "        for v in values:\n",
    "            one_hot[tags_index_dict[v]] = 1.\n",
    "        id_one_hot[key] = one_hot\n",
    "    return id_one_hot\n",
    "\n",
    "data_train = pd.read_csv(\"./train_job/train.csv\")\n",
    "data_user_tag = pd.read_csv(\"./train_job/user_tags.csv\")\n",
    "data_tags = pd.read_csv(\"./train_job/tags.csv\")\n",
    "data_jobs = pd.read_csv(\"./train_job/job_tags.csv\")\n",
    "data_companies = pd.read_csv(\"./train_job/job_companies.csv\")\n",
    "\n",
    "tags_one_hot = tags_to_one_hot(data_tags)\n",
    "users_one_hot = id_to_one_hot(tags_one_hot, data_user_tag, \"userID\")\n",
    "jobs_one_hot = id_to_one_hot(tags_one_hot, data_jobs, \"jobID\")\n",
    "company_one_hot = jobs_company_to_one_hot(data_companies)\n",
    "\n",
    "X = np.empty(shape=(0,1782))\n",
    "Y = np.asarray(data_train[\"applied\"].tolist())\n",
    "for i in range(0, len(data_train)):\n",
    "    all = np.concatenate((users_one_hot[data_train[\"userID\"][i]], jobs_one_hot[data_train[\"jobID\"][i]], company_one_hot[data_train[\"jobID\"][i]]), axis=0)\n",
    "    X = np.append(X, np.array([all]), axis=0)\n",
    "    break\n"
   ],
   "metadata": {
    "collapsed": false,
    "pycharm": {
     "name": "#%%\n"
    }
   }
  },
  {
   "cell_type": "code",
   "execution_count": null,
   "outputs": [],
   "source": [
    "users_one_hot[data_train[\"userID\"][i]]"
   ],
   "metadata": {
    "collapsed": false,
    "pycharm": {
     "name": "#%%\n"
    }
   }
  },
  {
   "cell_type": "code",
   "execution_count": 59,
   "outputs": [
    {
     "data": {
      "text/plain": "array([[0., 0., 1., ..., 0., 0., 0.]])"
     },
     "execution_count": 59,
     "metadata": {},
     "output_type": "execute_result"
    }
   ],
   "source": [
    "X"
   ],
   "metadata": {
    "collapsed": false,
    "pycharm": {
     "name": "#%%\n"
    }
   }
  },
  {
   "cell_type": "code",
   "execution_count": null,
   "outputs": [],
   "source": [
    "users_tags_dict= dict()\n",
    "for i in range(0, len(users)):\n",
    "    first = users[index][i]\n",
    "    tagID = users[\"tagID\"][i]\n",
    "\n",
    "    if first not in users_tags_dict:\n",
    "        users_tags_dict[first] = [tagID]\n",
    "    else:\n",
    "        k = users_tags_dict[first]\n",
    "        k.append(tagID)\n",
    "        users_tags_dict[first] = k"
   ],
   "metadata": {
    "collapsed": false,
    "pycharm": {
     "name": "#%%\n"
    }
   }
  },
  {
   "cell_type": "code",
   "execution_count": null,
   "outputs": [],
   "source": [
    "# one-hot으로 input만들어설계한 모델\n"
   ],
   "metadata": {
    "collapsed": false,
    "pycharm": {
     "name": "#%%\n"
    }
   }
  },
  {
   "cell_type": "code",
   "execution_count": 87,
   "outputs": [
    {
     "name": "stderr",
     "output_type": "stream",
     "text": [
      "\n",
      "KeyboardInterrupt\n",
      "\n"
     ]
    }
   ],
   "source": [
    "import pandas as pd\n",
    "import numpy as np\n",
    "\n",
    "def tags_to_one_hot(tags):\n",
    "    # tag to index\n",
    "    tags_index_dict = dict()\n",
    "    for i in range(0, len(tags)):\n",
    "        tags_index_dict[tags[\"tagID\"][i]] = i\n",
    "    return tags_index_dict\n",
    "\n",
    "def jobs_company_to_one_hot(jobs):\n",
    "    # size to one hot\n",
    "    size_dict = {\"1-10\": 1, \"11-50\": 2, \"51-100\": 3, \"101-200\": 4, \"201-500\": 5, \"501-1000\": 6, \"1000 이상\": 7}\n",
    "    a = 1\n",
    "    for k, v in size_dict.items():\n",
    "        m = np.zeros(shape=(8))\n",
    "        m[a] = 1.\n",
    "        size_dict[k] = m\n",
    "        a += 1\n",
    "\n",
    "    # jobs to one hot\n",
    "    company_one_hot = dict()\n",
    "    for i in range(0, len(jobs)):\n",
    "        id = jobs[\"jobID\"][i]\n",
    "        size = jobs[\"companySize\"][i]\n",
    "        if size not in size_dict:\n",
    "            size = np.zeros(shape=(8))\n",
    "            size[0] = 1.\n",
    "        else:\n",
    "            size = size_dict[jobs[\"companySize\"][i]]\n",
    "        company_one_hot[id] = size\n",
    "    return company_one_hot\n",
    "\n",
    "def id_to_one_hot(tags_index_dict, users, index):\n",
    "    # ids to tag dic\n",
    "    users_tags_dict= dict()\n",
    "    for i in range(0, len(users)):\n",
    "        first = users[index][i]\n",
    "        tagID = users[\"tagID\"][i]\n",
    "\n",
    "        if first not in users_tags_dict:\n",
    "            users_tags_dict[first] = [tagID]\n",
    "        else:\n",
    "            k = users_tags_dict[first]\n",
    "            k.append(tagID)\n",
    "            users_tags_dict[first] = k\n",
    "\n",
    "    # ids to tag one hot\n",
    "    id_one_hot = dict()\n",
    "    for key, values in users_tags_dict.items():\n",
    "        # one_hot = [0 for i in range(0, len(tags_index_dict))]\n",
    "        one_hot = np.zeros(shape=(len(tags_index_dict)))\n",
    "        for v in values:\n",
    "            one_hot[tags_index_dict[v]] = 1.\n",
    "        id_one_hot[key] = one_hot\n",
    "    return id_one_hot\n",
    "\n",
    "data_train = pd.read_csv(\"./train_job/train.csv\")\n",
    "data_user_tag = pd.read_csv(\"./train_job/user_tags.csv\")\n",
    "data_tags = pd.read_csv(\"./train_job/tags.csv\")\n",
    "data_jobs = pd.read_csv(\"./train_job/job_tags.csv\")\n",
    "data_companies = pd.read_csv(\"./train_job/job_companies.csv\")\n",
    "\n",
    "tags_one_hot = tags_to_one_hot(data_tags)\n",
    "users_one_hot = id_to_one_hot(tags_one_hot, data_user_tag, \"userID\")\n",
    "jobs_one_hot = id_to_one_hot(tags_one_hot, data_jobs, \"jobID\")\n",
    "company_one_hot = jobs_company_to_one_hot(data_companies)\n",
    "\n",
    "X = np.empty(shape=(0,1782))\n",
    "Y = np.asarray(data_train[\"applied\"].tolist())\n",
    "for i in range(0, len(data_train)):\n",
    "    all = np.concatenate((users_one_hot[data_train[\"userID\"][i]], jobs_one_hot[data_train[\"jobID\"][i]], company_one_hot[data_train[\"jobID\"][i]]), axis=0)\n",
    "    X = np.append(X, np.array([all]), axis=0)\n"
   ],
   "metadata": {
    "collapsed": false,
    "pycharm": {
     "name": "#%%\n"
    }
   }
  },
  {
   "cell_type": "code",
   "execution_count": 98,
   "outputs": [],
   "source": [
    "users_tags_dict= dict()\n",
    "for i in range(0, len(users)):\n",
    "    first = users[index][i]\n",
    "    tagID = users[\"tagID\"][i]\n",
    "\n",
    "    if first not in users_tags_dict:\n",
    "        users_tags_dict[first] = [tagID]\n",
    "    else:\n",
    "        k = users_tags_dict[first]\n",
    "        k.append(tagID)\n",
    "        users_tags_dict[first] = k\n",
    "\n",
    "# ids to tag one hot\n",
    "id_one_hot = dict()\n",
    "for key, values in users_tags_dict.items():\n",
    "    # one_hot = [0 for i in range(0, len(tags_index_dict))]\n",
    "    one_hot = np.zeros(shape=(len(tags_index_dict)))\n",
    "    for v in values:\n",
    "        one_hot[tags_index_dict[v]] = 1.\n",
    "    id_one_hot[key] = one_hot"
   ],
   "metadata": {
    "collapsed": false,
    "pycharm": {
     "name": "#%%\n"
    }
   }
  },
  {
   "cell_type": "code",
   "execution_count": 107,
   "outputs": [
    {
     "data": {
      "text/plain": "887"
     },
     "execution_count": 107,
     "metadata": {},
     "output_type": "execute_result"
    }
   ],
   "source": [
    "len(users_one_hot[data_train[\"userID\"][i]])"
   ],
   "metadata": {
    "collapsed": false,
    "pycharm": {
     "name": "#%%\n"
    }
   }
  },
  {
   "cell_type": "code",
   "execution_count": 111,
   "outputs": [
    {
     "data": {
      "text/plain": "196"
     },
     "execution_count": 111,
     "metadata": {},
     "output_type": "execute_result"
    }
   ],
   "source": [
    "len(id_to_one_hot(tags_one_hot, data_user_tag, \"userID\"))"
   ],
   "metadata": {
    "collapsed": false,
    "pycharm": {
     "name": "#%%\n"
    }
   }
  },
  {
   "cell_type": "code",
   "execution_count": 110,
   "outputs": [
    {
     "data": {
      "text/plain": "733"
     },
     "execution_count": 110,
     "metadata": {},
     "output_type": "execute_result"
    }
   ],
   "source": [
    "len( id_to_one_hot(tags_one_hot, data_jobs, \"jobID\"))"
   ],
   "metadata": {
    "collapsed": false,
    "pycharm": {
     "name": "#%%\n"
    }
   }
  },
  {
   "cell_type": "code",
   "execution_count": 102,
   "outputs": [
    {
     "data": {
      "text/plain": "733"
     },
     "execution_count": 102,
     "metadata": {},
     "output_type": "execute_result"
    }
   ],
   "source": [
    "len(users_tags_dict.keys())"
   ],
   "metadata": {
    "collapsed": false,
    "pycharm": {
     "name": "#%%\n"
    }
   }
  },
  {
   "cell_type": "code",
   "execution_count": 97,
   "outputs": [
    {
     "data": {
      "text/plain": "1781"
     },
     "execution_count": 97,
     "metadata": {},
     "output_type": "execute_result"
    }
   ],
   "source": [
    "887*2 +7"
   ],
   "metadata": {
    "collapsed": false,
    "pycharm": {
     "name": "#%%\n"
    }
   }
  },
  {
   "cell_type": "code",
   "execution_count": 90,
   "outputs": [
    {
     "data": {
      "text/plain": "733"
     },
     "execution_count": 90,
     "metadata": {},
     "output_type": "execute_result"
    }
   ],
   "source": [
    "len(users_tags_dict.keys())"
   ],
   "metadata": {
    "collapsed": false,
    "pycharm": {
     "name": "#%%\n"
    }
   }
  },
  {
   "cell_type": "code",
   "execution_count": 96,
   "outputs": [
    {
     "data": {
      "text/plain": "array([0., 0., 0., 1., 0., 0., 0., 0.])"
     },
     "execution_count": 96,
     "metadata": {},
     "output_type": "execute_result"
    }
   ],
   "source": [
    "company_one_hot[data_train[\"jobID\"][i]]"
   ],
   "metadata": {
    "collapsed": false,
    "pycharm": {
     "name": "#%%\n"
    }
   }
  },
  {
   "cell_type": "code",
   "execution_count": 95,
   "outputs": [
    {
     "data": {
      "text/plain": "array([0., 0., 0., 0., 0., 0., 0., 0., 0., 0., 0., 0., 0., 0., 0., 1., 0.,\n       0., 0., 0., 0., 0., 0., 0., 1., 0., 0., 0., 0., 0., 0., 0., 0., 0.,\n       0., 0., 0., 0., 0., 0., 0., 0., 1., 0., 0., 0., 0., 0., 0., 0., 0.,\n       0., 0., 0., 0., 0., 0., 0., 0., 0., 0., 0., 0., 0., 0., 0., 0., 0.,\n       0., 0., 0., 0., 0., 0., 0., 0., 0., 0., 0., 0., 0., 0., 0., 0., 0.,\n       0., 0., 0., 0., 0., 0., 0., 0., 0., 0., 0., 0., 0., 0., 0., 0., 0.,\n       0., 0., 0., 0., 0., 0., 0., 0., 0., 0., 0., 0., 0., 0., 0., 0., 0.,\n       0., 0., 0., 0., 0., 0., 0., 0., 0., 0., 0., 0., 0., 0., 0., 0., 0.,\n       0., 0., 0., 0., 0., 0., 0., 0., 0., 0., 0., 0., 0., 0., 0., 0., 0.,\n       0., 0., 0., 0., 0., 0., 0., 0., 0., 0., 0., 0., 0., 0., 0., 0., 0.,\n       0., 0., 0., 0., 0., 0., 0., 0., 0., 0., 0., 0., 0., 0., 0., 0., 0.,\n       0., 0., 0., 0., 0., 0., 0., 0., 0., 0., 0., 0., 0., 0., 0., 0., 0.,\n       0., 0., 0., 0., 0., 0., 0., 0., 0., 0., 0., 0., 0., 0., 0., 0., 0.,\n       0., 0., 0., 0., 0., 0., 0., 0., 0., 0., 0., 0., 0., 0., 0., 0., 0.,\n       0., 0., 0., 0., 0., 0., 0., 0., 0., 0., 0., 0., 0., 0., 0., 0., 0.,\n       0., 0., 0., 0., 0., 0., 0., 0., 0., 0., 0., 0., 0., 0., 0., 0., 0.,\n       0., 0., 0., 0., 0., 0., 0., 0., 0., 0., 0., 0., 0., 0., 0., 0., 0.,\n       0., 0., 0., 0., 0., 0., 0., 0., 0., 0., 0., 0., 0., 0., 0., 0., 0.,\n       0., 0., 0., 0., 0., 0., 0., 0., 0., 0., 0., 0., 0., 0., 0., 0., 0.,\n       0., 0., 0., 0., 0., 0., 0., 0., 0., 0., 0., 0., 0., 0., 0., 0., 0.,\n       0., 0., 0., 0., 0., 0., 0., 0., 0., 0., 0., 0., 0., 0., 0., 0., 0.,\n       0., 0., 0., 0., 0., 0., 0., 0., 0., 0., 0., 0., 0., 0., 0., 0., 0.,\n       0., 0., 0., 0., 0., 0., 0., 0., 0., 0., 0., 0., 0., 0., 0., 0., 0.,\n       0., 0., 0., 0., 0., 0., 0., 0., 0., 0., 0., 0., 0., 0., 0., 0., 0.,\n       0., 0., 0., 0., 0., 0., 0., 0., 0., 0., 0., 0., 0., 0., 0., 0., 0.,\n       0., 0., 0., 0., 0., 0., 0., 0., 0., 0., 0., 0., 0., 0., 0., 0., 0.,\n       0., 0., 0., 0., 0., 0., 0., 0., 0., 0., 0., 0., 0., 0., 0., 0., 0.,\n       0., 0., 0., 0., 0., 0., 0., 0., 0., 0., 0., 0., 0., 0., 0., 0., 0.,\n       0., 0., 0., 0., 0., 0., 0., 0., 0., 0., 0., 0., 0., 0., 0., 0., 0.,\n       0., 0., 0., 0., 0., 0., 0., 0., 0., 0., 0., 0., 0., 0., 0., 0., 0.,\n       0., 0., 0., 0., 0., 0., 0., 0., 0., 0., 0., 0., 0., 0., 0., 0., 0.,\n       0., 0., 0., 0., 0., 0., 0., 0., 0., 0., 0., 0., 0., 0., 0., 0., 0.,\n       0., 0., 0., 0., 0., 0., 0., 0., 0., 0., 0., 0., 0., 0., 0., 0., 0.,\n       0., 0., 0., 0., 0., 0., 0., 0., 0., 0., 0., 0., 0., 0., 0., 0., 0.,\n       0., 0., 0., 0., 0., 0., 0., 0., 0., 0., 0., 0., 0., 0., 0., 0., 0.,\n       0., 0., 0., 0., 0., 0., 0., 0., 0., 0., 0., 0., 0., 0., 0., 0., 0.,\n       0., 0., 0., 0., 0., 0., 0., 0., 0., 0., 0., 0., 0., 0., 0., 0., 0.,\n       0., 0., 0., 0., 0., 0., 0., 0., 0., 0., 0., 0., 0., 0., 0., 0., 0.,\n       0., 0., 0., 0., 0., 0., 0., 0., 0., 0., 0., 0., 0., 0., 0., 0., 0.,\n       0., 0., 0., 0., 0., 0., 0., 0., 0., 0., 0., 0., 0., 0., 0., 0., 0.,\n       0., 0., 0., 0., 0., 0., 0., 0., 0., 0., 0., 0., 0., 0., 0., 0., 0.,\n       0., 0., 0., 0., 0., 0., 0., 0., 0., 0., 0., 0., 0., 0., 0., 0., 0.,\n       0., 0., 0., 0., 0., 0., 0., 0., 0., 0., 0., 0., 0., 0., 0., 0., 0.,\n       0., 0., 0., 0., 0., 0., 0., 0., 0., 0., 0., 0., 0., 0., 0., 0., 0.,\n       0., 0., 0., 0., 0., 0., 0., 0., 0., 0., 0., 0., 0., 0., 0., 0., 0.,\n       0., 0., 0., 0., 0., 0., 0., 0., 0., 0., 0., 0., 0., 0., 0., 0., 0.,\n       0., 0., 0., 0., 0., 0., 0., 0., 0., 0., 0., 0., 0., 0., 0., 0., 0.,\n       0., 0., 0., 0., 0., 0., 0., 0., 0., 0., 0., 0., 0., 0., 0., 0., 0.,\n       0., 0., 0., 0., 0., 0., 0., 0., 0., 0., 0., 0., 0., 0., 0., 0., 0.,\n       0., 0., 0., 0., 0., 0., 0., 0., 0., 0., 0., 0., 0., 0., 0., 0., 0.,\n       0., 0., 0., 0., 0., 0., 0., 0., 0., 0., 0., 0., 0., 0., 0., 0., 0.,\n       0., 0., 0., 0., 0., 0., 0., 0., 0., 0., 0., 0., 0., 0., 0., 0., 0.,\n       0., 0., 0.])"
     },
     "execution_count": 95,
     "metadata": {},
     "output_type": "execute_result"
    }
   ],
   "source": [
    "jobs_one_hot[data_train[\"jobID\"][i]]"
   ],
   "metadata": {
    "collapsed": false,
    "pycharm": {
     "name": "#%%\n"
    }
   }
  },
  {
   "cell_type": "code",
   "execution_count": 91,
   "outputs": [
    {
     "data": {
      "text/plain": "array(['e576423831e043f7928d9ac113abbe6f',\n       '3532ee676d13916210e903ff4d85c04f',\n       '3203e06c1efc6fdb23016650d1d1888c',\n       '4952d2ac78b534c78d7a21c60a236e4c',\n       '788ecdd13f033f8131eecd90ee59993e',\n       '3f616e2b4d8527b9ce80f20268fd82c0',\n       'ab33d7af928bc6bd6ef560d4b4081276',\n       'd820bd12e2eec2ccc2403777eec0e025',\n       '65f2e6f22b24b36f9fcb364dfafeee74',\n       '6bd22a86b1f7a3a11de928d301f86d67',\n       'ed1ca6971578b1da0e4ad55b48d77fda',\n       'bf1752a1ae4e621b22d3ab7ae4ce0235',\n       'eeedf6d4d717eba333e1b53f1b5375c8',\n       '11bbe38e1cd8d806c2f4f372c7975642',\n       'fdfa9a38cf3d8d850a6fd47b438bfe43',\n       '11bd610a99ecb39c4be8335c6656ac19',\n       'f32196295a6f0c13d5bedc880d3d66a2',\n       '40369b31ac85b623b72c3d50151ff55c',\n       '277d63d5ef81b08f2e59a74e82d53334',\n       '849c1698afcec69d2ccf6ca24203c838',\n       '87c0a904d6f959e5ecbd0bdaa29d8be9',\n       '461beab646d4e7e0fd168125f577483b',\n       'a35af76a1c0bb174a3cfc66592804848',\n       '078dd365ebc98784af7f8df76a98f53a',\n       '38a53a52f4de3322241231253815e10a',\n       '46ee5b0bf6c6c26a155a09dee995d97d',\n       '68cb94b97d00979f4e8127915885b641',\n       '84afe92172229288d8503f0bfc0d1fc6',\n       '3fb6224c45e07abd01a213f707d2219b',\n       '6da6479250104018131de61655f1f385',\n       '792bb50d101782d726d38be8f81f145b',\n       'b5c0275ce9836aa2f2afaafbdd1a061b',\n       '3ab88dd28f749fe4ec90c0b6f9896eb5',\n       '2afacaaf807c1843c41896ae794835d9',\n       'e57c6b956a6521b28495f2886ca0977a',\n       '3e15cc11f979ed25912dff5b0669f2cd',\n       '8ec72a61b2adad097a1c3aa06751e8c4',\n       '34d4d47d122a2b1867babde81d02c85b',\n       '6b08cb11fb528ea9a29c488857b93c36',\n       '92cad8e05ca788dc7475183dd19c959b',\n       '5585082ed1ea25eaf73052029f2161ce',\n       '33349e909eba71677299d2fc97e158b7',\n       'ce840aa9583592e71f3db26ee6e41703',\n       '30cdb2e56c129eba645faf6c16c52a86',\n       '00dd1479a58930a357e7b4e2ab4c9f33',\n       '9ab05403ac7808cbfba3da26665f7a9c',\n       'b7aa44c20c759037e6c30eb514c26f1a',\n       '08a11ecb78affb9e1ea1045e58172ac4',\n       '2f05776d37d873642af484255572600d',\n       'dee0507557ce73c60b2b1532b6f43e6f',\n       '994b330a8b0579bcbe47a7adbd470531',\n       'ab070da1f13ea7588758ec36a13b23ae',\n       'cea22b0ec5545a7c12879c89b0c252d0',\n       'ac985a9db5faeb44c94a334430ccc241',\n       '5b34f52c8cfb9f3fa83613822ba0118c',\n       'f0860e86a075967417cd511aa80f0e4d',\n       'd083e4e5172a4b14ae887b3eee370664',\n       '3e54f798bd3fa43c5e34dd26ffd95e2c',\n       'b26acad43640ebe8b52f045c84ba2660',\n       '859b755563f548d008f936906a959c8f',\n       '94123510dc3222535366c91a35c0dc7e',\n       '9fb0c75eb315997d6545fa0515d315ae',\n       'addd44b6ef8f46deddfa262c38d44192',\n       '67adefb430df142b099bed89bd491524',\n       '09a34e37731b0acc055557e833a78eff',\n       '0004289ee1c7b8b08c77e19878106ae3',\n       '824a2cd35893783f83f1b93ec26965c3',\n       'b94a3f555cc529e2ef5d5277651a33c1',\n       '7b8fd452c655f9d2050f9e9a94be4e6f',\n       '78492ae8ee0c7aeab730674170296142',\n       '8f2fc823e0325a4250bcd62a28e83753',\n       'ac9276d79d4473b8075df15ea199f8f4',\n       '53df950db87aecf09d328092faf4e03f',\n       '2b3c53530d9f5948021ce2d30ca78def',\n       'fa2a28ade168508972790316e314d47e',\n       'ebaee1af0c501f22ddfe242fc16dae53',\n       '75b4af0dacbc119eadf4eeb096738405',\n       '6377fa90618fae77571e8dc90d98d409',\n       '8109c2c482264f96f8ac69a9a99db308',\n       'cac14930c65d72c16efac2c51a6b7f71',\n       'ac9309ad6cfbd8be72b6146ec4e68bac',\n       '4802630177809fcf861411501a443abb',\n       '4042483f5c2c4015e2a6abd47aa76b6f',\n       '6ff9a855e440fa3a54807a91fdf82da4',\n       '77330e1330ae2b086e5bfcae50d9ffae',\n       '82f7a753a1ad3781e51fa0aa8862998c',\n       '83ba50615f9b64e7df883623cb79b582',\n       'b052e2e0c0ad1b2d5036bd56e27d061c',\n       '13ad871d10a46f6e262e67f70cf55140',\n       '73b369de2d89843c6010939e56f6fb28',\n       '3eb2e5c90ddc9c4127a0cb655a8349e6',\n       '42106d72a1fdb186303e13a372b36bbf',\n       '8c19f571e251e61cb8dd3612f26d5ecf',\n       '2b6bfd10f2852cde94b0da653771913d',\n       '7e5c43aee3b770da0c9be62c298971cc',\n       'b058993d8aba0b5a9e66a6666495c485',\n       '96c5c28becf18e71190460a9955aa4d8',\n       'a3545bd79d31f9a72d3a78690adf73fc',\n       '624e7e301007d8d328d40f56c948a8ba',\n       'a23852e7968e7b4e12a8d989f2dc5ac2',\n       '7c84a51e457e21ef8c84327bcf0b37b9',\n       'c39e997b89723426aaaf18a3d883ad26',\n       'd41e0e6f6f1e29098d9d152511503ab2',\n       'fe292163d06253b716e9a0099b42031d',\n       '6df0ee5c598338f088fcc8059ddb2e32',\n       '42c2cc0b74b0f4a3a7e52d1ff617e05e',\n       '847a7251b574c85da9c2248125c2df93',\n       'ed95fbfb85741296a47ccfb141692f97',\n       'ce3c9c905135bab43c25500d3435a7a7',\n       '391e6809e1c9c36987ad52397b51b8fd',\n       'a3371575663f7b9dd7629822611470bf',\n       '3edc356b112be4cda9472f2e37549e7d',\n       '14ccd7a3d2daa57d06f4741f0168bb1d',\n       '76eeed280f64fd4a67c3f0fd6b9f0ada',\n       '74559ea27870b992ed5352a9d988e382',\n       '570e72724ec4b76760248ccdae0449f8',\n       'ac0ce320ded8906d8972799677b33c9a',\n       '1f1baa5b8edac74eb4eaa329f14a0361',\n       'dd83e39b0608b90cf99413a75ea6fcbd',\n       'a2137a2ae8e39b5002a3f8909ecb88fe',\n       '6bc5d37951120d6d49672ce647c4e563',\n       'f98e712b83a95b07ef771150ecee9cd4',\n       'f7ca5ad97ea0b98c983ea8923a0a8002',\n       'c1bac1d55ebcc415d61552acbfbb219d',\n       '01ed443356f762e9132b58f8c80e131d',\n       'f2bbbacea59d2e5555d7054411f4093e',\n       'e632db173ce3bba53601a87465b0d690',\n       '5bfbe18286921673dbb4c9fa80f0734b',\n       '6eb6e75fddec0218351dc5c0c8464104',\n       '0cc8f7bf8a8d56980414a6e4bc69cdc6',\n       '4611b8ff403bea67637c3f1911940668',\n       '0c3b7a46ba662029936002edd5613a45',\n       '7c33ebcd1cd8a46827f716879fb51a31',\n       'f69054686ba46877b6397ccdb8f51762',\n       '42edd1ec1dc5f5c1f11fd74a959e96c9',\n       '79fc3070bcfc1f4125855692285a3a69',\n       '37b96469b46dfd9919cd984b788ceb17',\n       'e3979074cac4d9393ebbd4c2a534a851',\n       'd89f3a35931c386956c1a402a8e09941',\n       '8ec0888a5b04139be0dfe942c7eb4199',\n       '68828f3a05c0c973c6906b7caa48b12c',\n       'c70daf247944fe3add32218f914c75a6',\n       '015b469419f616144c13e0194f880af7',\n       '946aa0c612952da8d67dd338a43d5929',\n       'bd652bf1e9b66171ef77f1e0db2e9c1e',\n       'f862b39f767d3a1991bdeb2ea1401c9c',\n       '6a901742172397a9e4c31a159a982708',\n       'b3c865b84617fa5e555865ebe0e54612',\n       'd7b2c4284fda91263ab9b89254cd7c43',\n       'd805b6758ed06f65b516d0d960ad39d2',\n       '883b4172416f7b84234d3aeda4199f8f',\n       '9782bb9642ce588f013e164b12f1208b',\n       '879b56cccf6b57314ad724c65cf270e9',\n       '2a7c21baa80549e20ad9c514c0218f74',\n       '492d101481e6b9c9f6183791f09dbe92',\n       'fd1b4044581c63b9cb16d91958302072',\n       'c07e670b7bc8ebfdd99f4091ff2410ff',\n       'a226c158804add41d2c6f68be9ef731b',\n       'a31cedae93e1b076254f28d4a9b71319',\n       'cb08b2c94dbb772324444bb4ed7cc1a4',\n       '4a24f609d9b51d5470c74c0631497ad4',\n       '6d40ee4b407eae650995de28243bde7d',\n       '4000682c286cfbb572c7f68e7c9a64c9',\n       'ec694462fa475389dc49c9fe579b261c',\n       'd52d50218e9abe66438cefaee22a28da',\n       '838c13b8aa97e2d988ef4495460f2e0e',\n       'd2fcd16484b4dc546a2495c261c433db',\n       '1d0d19d2d7d31ccf3747614aec7273c8',\n       'b292c42b08d209a8baa530adc393671d',\n       'a2896cb11aed969ffec7bb02a7c772a8',\n       'be995681439ef1e81206d2476963fffd',\n       '03c60b7fc8519077914166ebcfbd6a34',\n       '06bf5de6b1d9fed5dacca7180e5938f1',\n       '8739591782d8bbbf884adee69923113d',\n       'ac9e4248f16d319a00b803477db2433a',\n       '0e010fbd16cca07dc2c06d8745c0709a',\n       '49f06abdf8d2b198c9440a06fa9cee95',\n       'b91c197e821eb57a7a9bc94e180fe621',\n       '68a61f9415f07a4040f7afe82a058608',\n       '66480bd2955f9663eff79f679c096733',\n       '2eeb9064f7f5b2569912cbb772a96438',\n       '40bff17104e9ee73048daa7f190c31c9',\n       '951923a83597e7db3def99b660cf0fa3',\n       'c8e91654bec86337e3228e8b57c25024',\n       'c0b199d73bdf390c2f4c3150b6ee1574',\n       '9b6266ce4a9465217515fd0106d7ef6c',\n       'e75d4d01cecdda3c64483016bd6af4c1',\n       '8beafd6a61d588adce08b0b0769d24d3',\n       '4b847237599e42b2e62a06cdfbe693ec',\n       '8dd2a380b9f1c342a2d9319c345de676',\n       'd56b7e3ab2e7e5e779c5127f56de5c00',\n       '688da39dcb1131d0d91b348653850d08',\n       '282bb8a7afdb969e5ac8e1848f741d9a',\n       'a56612c9db38de8f62f993bc28da82e6',\n       '76d7c120cc635913a4911b28540ebbfe',\n       '15d84e9a5eceb67bcb8fb0e8c839a903'], dtype=object)"
     },
     "execution_count": 91,
     "metadata": {},
     "output_type": "execute_result"
    }
   ],
   "source": [
    "user_tags['userID'].unique()"
   ],
   "metadata": {
    "collapsed": false,
    "pycharm": {
     "name": "#%%\n"
    }
   }
  },
  {
   "cell_type": "code",
   "execution_count": 93,
   "outputs": [
    {
     "data": {
      "text/plain": "0      00411460f7c92d2124a67ea0f4cb5f85\n1      1905aedab9bf2477edc068a355bba31a\n2      89fcd07f20b6785b92134bd6c1d0fa42\n3      acf4b89d3d503d8252c9c4ba75ddbf6d\n4      fb7b9ffa5462084c5f4e7e85a093e6d7\n                     ...               \n728    b5dc4e5d9b495d0196f61d45b26ef33e\n729    2dace78f80bc92e6d7493423d729448e\n730    443cb001c138b2561a0d90720d6ce111\n731    b5b41fac0361d157d9673ecb926af5ae\n732    64223ccf70bbb65a3a4aceac37e21016\nName: companyID, Length: 733, dtype: object"
     },
     "execution_count": 93,
     "metadata": {},
     "output_type": "execute_result"
    }
   ],
   "source": [
    "data_companies.companyID"
   ],
   "metadata": {
    "collapsed": false,
    "pycharm": {
     "name": "#%%\n"
    }
   }
  },
  {
   "cell_type": "code",
   "execution_count": 94,
   "outputs": [
    {
     "data": {
      "text/plain": "                                tagID                   keyword\n0    602d1305678a8d5fdb372271e980da6a  Amazon Web Services(AWS)\n1    e3251075554389fe91d17a794861d47b                Tensorflow\n2    a1d50185e7426cbb0acad1e6ca74b9aa                    Docker\n3    884d79963bd8bc0ae9b13a1aa71add73                       Git\n4    4122cb13c7a474c1976c9706ae36521d                    Python\n..                                ...                       ...\n882  818f4654ed39a1c147d1e51a00ffb4cb                        활용\n883  7cce53cf90577442771720a370c3c723                    mybais\n884  c2aee86157b4a40b78132f1e71a9e6f1                         *\n885  1fb2a1c37b18aa4611c3949d6148d0f8             Autodesk Maya\n886  5fa9e41bfec0725742cc9d15ef594120                Apache Pig\n\n[887 rows x 2 columns]",
      "text/html": "<div>\n<style scoped>\n    .dataframe tbody tr th:only-of-type {\n        vertical-align: middle;\n    }\n\n    .dataframe tbody tr th {\n        vertical-align: top;\n    }\n\n    .dataframe thead th {\n        text-align: right;\n    }\n</style>\n<table border=\"1\" class=\"dataframe\">\n  <thead>\n    <tr style=\"text-align: right;\">\n      <th></th>\n      <th>tagID</th>\n      <th>keyword</th>\n    </tr>\n  </thead>\n  <tbody>\n    <tr>\n      <th>0</th>\n      <td>602d1305678a8d5fdb372271e980da6a</td>\n      <td>Amazon Web Services(AWS)</td>\n    </tr>\n    <tr>\n      <th>1</th>\n      <td>e3251075554389fe91d17a794861d47b</td>\n      <td>Tensorflow</td>\n    </tr>\n    <tr>\n      <th>2</th>\n      <td>a1d50185e7426cbb0acad1e6ca74b9aa</td>\n      <td>Docker</td>\n    </tr>\n    <tr>\n      <th>3</th>\n      <td>884d79963bd8bc0ae9b13a1aa71add73</td>\n      <td>Git</td>\n    </tr>\n    <tr>\n      <th>4</th>\n      <td>4122cb13c7a474c1976c9706ae36521d</td>\n      <td>Python</td>\n    </tr>\n    <tr>\n      <th>...</th>\n      <td>...</td>\n      <td>...</td>\n    </tr>\n    <tr>\n      <th>882</th>\n      <td>818f4654ed39a1c147d1e51a00ffb4cb</td>\n      <td>활용</td>\n    </tr>\n    <tr>\n      <th>883</th>\n      <td>7cce53cf90577442771720a370c3c723</td>\n      <td>mybais</td>\n    </tr>\n    <tr>\n      <th>884</th>\n      <td>c2aee86157b4a40b78132f1e71a9e6f1</td>\n      <td>*</td>\n    </tr>\n    <tr>\n      <th>885</th>\n      <td>1fb2a1c37b18aa4611c3949d6148d0f8</td>\n      <td>Autodesk Maya</td>\n    </tr>\n    <tr>\n      <th>886</th>\n      <td>5fa9e41bfec0725742cc9d15ef594120</td>\n      <td>Apache Pig</td>\n    </tr>\n  </tbody>\n</table>\n<p>887 rows × 2 columns</p>\n</div>"
     },
     "execution_count": 94,
     "metadata": {},
     "output_type": "execute_result"
    }
   ],
   "source": [
    "tags"
   ],
   "metadata": {
    "collapsed": false,
    "pycharm": {
     "name": "#%%\n"
    }
   }
  },
  {
   "cell_type": "code",
   "execution_count": 88,
   "outputs": [
    {
     "data": {
      "text/plain": "array([0., 0., 0., 0., 0., 0., 0., 0., 1., 0., 1., 0., 0., 0., 0., 1., 0.,\n       1., 0., 0., 0., 0., 0., 0., 1., 0., 0., 0., 0., 0., 0., 0., 0., 0.,\n       0., 0., 0., 0., 1., 0., 0., 0., 1., 0., 0., 0., 1., 0., 0., 0., 0.,\n       0., 0., 0., 0., 0., 0., 0., 0., 0., 0., 1., 0., 0., 0., 0., 0., 0.,\n       0., 0., 0., 0., 0., 0., 0., 0., 0., 0., 0., 0., 0., 0., 0., 0., 0.,\n       0., 0., 0., 1., 0., 0., 0., 0., 0., 0., 0., 0., 0., 0., 0., 0., 1.,\n       0., 0., 1., 0., 0., 0., 0., 0., 0., 0., 0., 0., 0., 0., 0., 0., 0.,\n       0., 0., 0., 1., 0., 0., 0., 0., 0., 0., 0., 0., 0., 0., 0., 0., 0.,\n       0., 0., 0., 0., 0., 0., 0., 0., 0., 0., 0., 0., 0., 0., 0., 0., 0.,\n       0., 0., 0., 0., 0., 0., 0., 0., 0., 0., 0., 0., 0., 0., 0., 0., 0.,\n       0., 0., 0., 0., 0., 0., 0., 0., 0., 0., 0., 0., 0., 0., 0., 0., 0.,\n       0., 0., 0., 0., 0., 0., 0., 0., 0., 0., 0., 0., 0., 0., 0., 0., 0.,\n       0., 0., 0., 0., 0., 0., 0., 0., 0., 0., 0., 0., 0., 0., 0., 0., 0.,\n       0., 0., 0., 0., 0., 0., 0., 0., 0., 0., 0., 0., 0., 0., 0., 0., 0.,\n       0., 0., 0., 0., 0., 0., 0., 0., 0., 0., 0., 0., 0., 0., 0., 0., 0.,\n       0., 0., 0., 0., 0., 0., 0., 0., 0., 0., 0., 0., 0., 0., 0., 0., 0.,\n       0., 0., 0., 1., 0., 0., 0., 0., 0., 0., 0., 0., 0., 0., 0., 0., 0.,\n       0., 0., 0., 1., 0., 0., 0., 0., 0., 0., 0., 0., 0., 0., 0., 0., 0.,\n       0., 1., 0., 0., 0., 0., 0., 0., 0., 0., 0., 0., 0., 0., 0., 0., 0.,\n       0., 0., 0., 0., 0., 0., 0., 0., 0., 0., 0., 0., 0., 0., 0., 0., 0.,\n       0., 0., 0., 0., 0., 0., 0., 0., 0., 0., 0., 0., 0., 0., 0., 0., 0.,\n       0., 0., 0., 0., 0., 0., 0., 0., 0., 0., 0., 0., 0., 0., 0., 0., 0.,\n       0., 0., 0., 0., 0., 0., 0., 0., 0., 0., 0., 0., 0., 0., 0., 0., 0.,\n       0., 0., 0., 0., 0., 0., 0., 0., 0., 0., 0., 0., 0., 0., 0., 0., 0.,\n       0., 0., 0., 0., 0., 0., 0., 0., 0., 0., 0., 0., 0., 0., 0., 0., 0.,\n       0., 0., 0., 0., 0., 0., 0., 0., 0., 0., 0., 0., 0., 0., 0., 0., 0.,\n       0., 0., 0., 0., 0., 0., 0., 0., 0., 0., 0., 0., 0., 0., 0., 0., 0.,\n       0., 0., 0., 0., 0., 0., 0., 0., 0., 0., 0., 0., 0., 0., 0., 0., 0.,\n       0., 0., 0., 0., 0., 0., 0., 0., 0., 0., 0., 0., 0., 0., 0., 0., 0.,\n       0., 0., 0., 0., 0., 0., 0., 0., 0., 0., 0., 0., 0., 0., 0., 0., 0.,\n       0., 0., 0., 0., 0., 0., 0., 0., 0., 0., 0., 0., 0., 0., 0., 0., 0.,\n       0., 0., 0., 0., 0., 0., 0., 0., 0., 0., 0., 0., 0., 0., 0., 0., 0.,\n       0., 0., 0., 0., 0., 0., 0., 0., 0., 0., 0., 0., 0., 0., 0., 0., 0.,\n       0., 0., 0., 0., 0., 0., 0., 0., 0., 0., 0., 0., 0., 0., 0., 0., 0.,\n       0., 0., 0., 0., 0., 0., 0., 0., 0., 0., 0., 0., 0., 0., 0., 0., 0.,\n       0., 0., 0., 0., 0., 0., 0., 0., 0., 0., 0., 0., 0., 0., 0., 0., 0.,\n       0., 0., 0., 0., 0., 0., 0., 0., 0., 0., 0., 0., 0., 0., 0., 0., 0.,\n       0., 0., 0., 0., 0., 0., 0., 0., 0., 0., 0., 0., 0., 0., 0., 0., 0.,\n       0., 0., 0., 0., 0., 0., 0., 0., 0., 0., 0., 0., 0., 0., 0., 0., 0.,\n       0., 0., 0., 0., 0., 0., 0., 0., 0., 0., 0., 0., 0., 0., 0., 0., 0.,\n       0., 0., 0., 0., 0., 0., 0., 0., 0., 0., 0., 0., 0., 0., 0., 0., 0.,\n       0., 0., 0., 0., 0., 0., 0., 0., 0., 0., 0., 0., 0., 0., 0., 0., 0.,\n       0., 0., 0., 0., 0., 0., 0., 0., 0., 0., 0., 0., 0., 0., 0., 0., 0.,\n       0., 0., 0., 0., 0., 0., 0., 0., 0., 0., 0., 0., 0., 0., 0., 0., 0.,\n       0., 0., 0., 0., 0., 0., 0., 0., 0., 0., 0., 0., 0., 0., 0., 0., 0.,\n       0., 0., 0., 0., 0., 0., 0., 0., 0., 0., 0., 0., 0., 0., 0., 0., 0.,\n       0., 0., 0., 0., 0., 0., 0., 0., 0., 0., 0., 0., 0., 0., 0., 0., 0.,\n       0., 0., 0., 0., 0., 0., 0., 0., 0., 0., 0., 0., 0., 0., 0., 0., 0.,\n       0., 0., 0., 0., 0., 0., 0., 0., 0., 0., 0., 0., 0., 0., 0., 0., 0.,\n       0., 0., 0., 0., 0., 0., 0., 0., 0., 0., 0., 0., 0., 0., 0., 0., 0.,\n       0., 0., 0., 0., 0., 0., 0., 0., 0., 0., 0., 0., 0., 0., 0., 0., 0.,\n       0., 0., 0., 0., 0., 0., 0., 0., 0., 0., 0., 0., 0., 0., 0., 0., 0.,\n       0., 0., 0.])"
     },
     "execution_count": 88,
     "metadata": {},
     "output_type": "execute_result"
    }
   ],
   "source": [
    "users_one_hot[data_train[\"userID\"][i]]"
   ],
   "metadata": {
    "collapsed": false,
    "pycharm": {
     "name": "#%%\n"
    }
   }
  },
  {
   "cell_type": "code",
   "execution_count": null,
   "outputs": [],
   "source": [],
   "metadata": {
    "collapsed": false,
    "pycharm": {
     "name": "#%%\n"
    }
   }
  }
 ],
 "metadata": {
  "kernelspec": {
   "display_name": "Python 3",
   "language": "python",
   "name": "python3"
  },
  "language_info": {
   "codemirror_mode": {
    "name": "ipython",
    "version": 2
   },
   "file_extension": ".py",
   "mimetype": "text/x-python",
   "name": "python",
   "nbconvert_exporter": "python",
   "pygments_lexer": "ipython2",
   "version": "2.7.6"
  }
 },
 "nbformat": 4,
 "nbformat_minor": 0
}